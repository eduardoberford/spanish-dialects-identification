{
 "cells": [
  {
   "cell_type": "markdown",
   "metadata": {},
   "source": [
    "# Baseline \n",
    "Baseline solution for VarDial 2022 shared task on Italian Dialect Classification. "
   ]
  },
  {
   "cell_type": "code",
   "execution_count": 1,
   "metadata": {},
   "outputs": [],
   "source": [
    "# load the dataset\n",
    "import pandas as pd\n",
    "data = pd.read_csv(\"dataset/data.csv\", ) "
   ]
  },
  {
   "cell_type": "code",
   "execution_count": 2,
   "metadata": {},
   "outputs": [
    {
     "data": {
      "text/html": [
       "<div>\n",
       "<style scoped>\n",
       "    .dataframe tbody tr th:only-of-type {\n",
       "        vertical-align: middle;\n",
       "    }\n",
       "\n",
       "    .dataframe tbody tr th {\n",
       "        vertical-align: top;\n",
       "    }\n",
       "\n",
       "    .dataframe thead th {\n",
       "        text-align: right;\n",
       "    }\n",
       "</style>\n",
       "<table border=\"1\" class=\"dataframe\">\n",
       "  <thead>\n",
       "    <tr style=\"text-align: right;\">\n",
       "      <th></th>\n",
       "      <th>id</th>\n",
       "      <th>url</th>\n",
       "      <th>title</th>\n",
       "      <th>text</th>\n",
       "      <th>label</th>\n",
       "      <th>clean</th>\n",
       "    </tr>\n",
       "  </thead>\n",
       "  <tbody>\n",
       "    <tr>\n",
       "      <th>0</th>\n",
       "      <td>32636.0</td>\n",
       "      <td>https://eml.wikipedia.org/wiki?curid=32636</td>\n",
       "      <td>.iveco</td>\n",
       "      <td>'l è 'l nòm 'd un domìni genèric. Al funsiòun...</td>\n",
       "      <td>0.0</td>\n",
       "      <td>'l è 'l nòm 'd un domìni genèric. Al funsiòun...</td>\n",
       "    </tr>\n",
       "    <tr>\n",
       "      <th>1</th>\n",
       "      <td>32637.0</td>\n",
       "      <td>https://eml.wikipedia.org/wiki?curid=32637</td>\n",
       "      <td>.case</td>\n",
       "      <td>'l è 'l nòm 'd un domìni genèric. Al funsiòun...</td>\n",
       "      <td>0.0</td>\n",
       "      <td>'l è 'l nòm 'd un domìni genèric. Al funsiòun...</td>\n",
       "    </tr>\n",
       "    <tr>\n",
       "      <th>2</th>\n",
       "      <td>32638.0</td>\n",
       "      <td>https://eml.wikipedia.org/wiki?curid=32638</td>\n",
       "      <td>.caseih</td>\n",
       "      <td>'l è 'l nòm 'd un domìni genèric. Al funsiòun...</td>\n",
       "      <td>0.0</td>\n",
       "      <td>'l è 'l nòm 'd un domìni genèric. Al funsiòun...</td>\n",
       "    </tr>\n",
       "    <tr>\n",
       "      <th>3</th>\n",
       "      <td>32639.0</td>\n",
       "      <td>https://eml.wikipedia.org/wiki?curid=32639</td>\n",
       "      <td>.baseball</td>\n",
       "      <td>'l è 'l nòm 'd un domìni genèric. Al funsiòun...</td>\n",
       "      <td>0.0</td>\n",
       "      <td>'l è 'l nòm 'd un domìni genèric. Al funsiòun...</td>\n",
       "    </tr>\n",
       "    <tr>\n",
       "      <th>4</th>\n",
       "      <td>32640.0</td>\n",
       "      <td>https://eml.wikipedia.org/wiki?curid=32640</td>\n",
       "      <td>.newholland</td>\n",
       "      <td>'l è 'l nòm 'd un domìni genèric. Al funsiòun...</td>\n",
       "      <td>0.0</td>\n",
       "      <td>'l è 'l nòm 'd un domìni genèric. Al funsiòun...</td>\n",
       "    </tr>\n",
       "  </tbody>\n",
       "</table>\n",
       "</div>"
      ],
      "text/plain": [
       "        id                                         url        title  \\\n",
       "0  32636.0  https://eml.wikipedia.org/wiki?curid=32636       .iveco   \n",
       "1  32637.0  https://eml.wikipedia.org/wiki?curid=32637        .case   \n",
       "2  32638.0  https://eml.wikipedia.org/wiki?curid=32638      .caseih   \n",
       "3  32639.0  https://eml.wikipedia.org/wiki?curid=32639    .baseball   \n",
       "4  32640.0  https://eml.wikipedia.org/wiki?curid=32640  .newholland   \n",
       "\n",
       "                                                text  label  \\\n",
       "0   'l è 'l nòm 'd un domìni genèric. Al funsiòun...    0.0   \n",
       "1   'l è 'l nòm 'd un domìni genèric. Al funsiòun...    0.0   \n",
       "2   'l è 'l nòm 'd un domìni genèric. Al funsiòun...    0.0   \n",
       "3   'l è 'l nòm 'd un domìni genèric. Al funsiòun...    0.0   \n",
       "4   'l è 'l nòm 'd un domìni genèric. Al funsiòun...    0.0   \n",
       "\n",
       "                                               clean  \n",
       "0   'l è 'l nòm 'd un domìni genèric. Al funsiòun...  \n",
       "1   'l è 'l nòm 'd un domìni genèric. Al funsiòun...  \n",
       "2   'l è 'l nòm 'd un domìni genèric. Al funsiòun...  \n",
       "3   'l è 'l nòm 'd un domìni genèric. Al funsiòun...  \n",
       "4   'l è 'l nòm 'd un domìni genèric. Al funsiòun...  "
      ]
     },
     "execution_count": 2,
     "metadata": {},
     "output_type": "execute_result"
    }
   ],
   "source": [
    "data.head() "
   ]
  },
  {
   "cell_type": "code",
   "execution_count": 3,
   "metadata": {},
   "outputs": [
    {
     "name": "stdout",
     "output_type": "stream",
     "text": [
      "(264972,) (264972,)\n"
     ]
    }
   ],
   "source": [
    "X = data['clean'].values\n",
    "y = data['label'].values.astype(int)\n",
    "print(X.shape, y.shape)"
   ]
  },
  {
   "cell_type": "markdown",
   "metadata": {},
   "source": [
    "Vectorize and scale the training data."
   ]
  },
  {
   "cell_type": "code",
   "execution_count": 4,
   "metadata": {},
   "outputs": [],
   "source": [
    "from sklearn.feature_extraction.text import TfidfVectorizer\n",
    "from sklearn.preprocessing import StandardScaler\n",
    "\n",
    "vectorizer = TfidfVectorizer(analyzer='char_wb', ngram_range=(3,5), max_features=100000)\n",
    "scaler = StandardScaler(with_mean=False)\n",
    "X = vectorizer.fit_transform(X)\n",
    "X = scaler.fit_transform(X)"
   ]
  },
  {
   "cell_type": "code",
   "execution_count": 5,
   "metadata": {},
   "outputs": [
    {
     "data": {
      "text/plain": [
       "(264972, 100000)"
      ]
     },
     "execution_count": 5,
     "metadata": {},
     "output_type": "execute_result"
    }
   ],
   "source": [
    "X.shape"
   ]
  },
  {
   "cell_type": "markdown",
   "metadata": {},
   "source": [
    "Cross-validation k-fold cross validation initialization."
   ]
  },
  {
   "cell_type": "code",
   "execution_count": 6,
   "metadata": {},
   "outputs": [],
   "source": [
    "from sklearn.model_selection import RepeatedKFold\n",
    "\n",
    "rkf = RepeatedKFold(n_splits=5, n_repeats=3, random_state=42)"
   ]
  },
  {
   "cell_type": "markdown",
   "metadata": {},
   "source": [
    "Train a naive Bayes classifier with the extracted features."
   ]
  },
  {
   "cell_type": "code",
   "execution_count": 7,
   "metadata": {},
   "outputs": [
    {
     "name": "stdout",
     "output_type": "stream",
     "text": [
      "Repeated cross-validation scores: 0.9966310910741057 (0.0001842181220778996)\n"
     ]
    }
   ],
   "source": [
    "from sklearn.linear_model import SGDClassifier\n",
    "from sklearn.model_selection import cross_val_score\n",
    "import numpy as np\n",
    "\n",
    "model = SGDClassifier(max_iter=7000)\n",
    "scores = cross_val_score(model, X, y, scoring='f1_micro', cv=rkf, n_jobs=-1)\n",
    "print(f'Repeated cross-validation scores: {np.mean(scores)} ({np.std(scores)})')"
   ]
  },
  {
   "cell_type": "code",
   "execution_count": 8,
   "metadata": {},
   "outputs": [],
   "source": [
    "from sklearn.model_selection import train_test_split\n",
    "X_train, X_test, y_train, y_test = train_test_split(X, y, test_size=0.2, random_state=42)\n",
    "\n",
    "model.fit(X_train, y_train)\n",
    "y_pred = model.predict(X_test)"
   ]
  },
  {
   "cell_type": "code",
   "execution_count": 9,
   "metadata": {},
   "outputs": [],
   "source": [
    "# from wordcloud import WordCloud\n",
    "# import matplotlib.pyplot as plt\n",
    "# from utils import explain_label\n",
    "\n",
    "# vocab = vectorizer.get_feature_names_out()\n",
    "\n",
    "# for label in data['label'].unique():\n",
    "#     slicer = y_train == label\n",
    "#     f = X_train[slicer]\n",
    "#     total_freqs = list(np.array(f.sum(axis=0))[0])\n",
    "#     fdict = dict(zip(vocab,total_freqs))\n",
    "#     # generate word cloud of words with highest counts\n",
    "#     wordcloud = WordCloud().generate_from_frequencies(fdict) \n",
    "#     print(explain_label(label=label))\n",
    "#     plt.clf()\n",
    "#     plt.imshow(wordcloud, interpolation='bilinear') \n",
    "#     plt.axis(\"off\") \n",
    "#     plt.show()"
   ]
  },
  {
   "cell_type": "markdown",
   "metadata": {},
   "source": [
    "## Evaluation "
   ]
  },
  {
   "cell_type": "markdown",
   "metadata": {},
   "source": [
    "Import devset."
   ]
  },
  {
   "cell_type": "code",
   "execution_count": 6,
   "metadata": {},
   "outputs": [
    {
     "data": {
      "text/html": [
       "<div>\n",
       "<style scoped>\n",
       "    .dataframe tbody tr th:only-of-type {\n",
       "        vertical-align: middle;\n",
       "    }\n",
       "\n",
       "    .dataframe tbody tr th {\n",
       "        vertical-align: top;\n",
       "    }\n",
       "\n",
       "    .dataframe thead th {\n",
       "        text-align: right;\n",
       "    }\n",
       "</style>\n",
       "<table border=\"1\" class=\"dataframe\">\n",
       "  <thead>\n",
       "    <tr style=\"text-align: right;\">\n",
       "      <th></th>\n",
       "      <th>label</th>\n",
       "      <th>sample</th>\n",
       "    </tr>\n",
       "  </thead>\n",
       "  <tbody>\n",
       "    <tr>\n",
       "      <th>0</th>\n",
       "      <td>6</td>\n",
       "      <td>Ma te see foeura de coo, ò te me toeuvet in gir?.</td>\n",
       "    </tr>\n",
       "    <tr>\n",
       "      <th>1</th>\n",
       "      <td>8</td>\n",
       "      <td>a carni re puvireddi.</td>\n",
       "    </tr>\n",
       "    <tr>\n",
       "      <th>2</th>\n",
       "      <td>6</td>\n",
       "      <td>L'era on simpatich tradizional appontament con...</td>\n",
       "    </tr>\n",
       "    <tr>\n",
       "      <th>3</th>\n",
       "      <td>9</td>\n",
       "      <td>Chi un tenpo xè stà zovane adesso se consola b...</td>\n",
       "    </tr>\n",
       "    <tr>\n",
       "      <th>4</th>\n",
       "      <td>5</td>\n",
       "      <td>ma òua scià no coménse a fâse do mâ da sôlo, a...</td>\n",
       "    </tr>\n",
       "    <tr>\n",
       "      <th>5</th>\n",
       "      <td>8</td>\n",
       "      <td>ti lassai sula, comu na varca senza vela, a te...</td>\n",
       "    </tr>\n",
       "    <tr>\n",
       "      <th>6</th>\n",
       "      <td>8</td>\n",
       "      <td>Nun savi 'a sacrificari nenti.</td>\n",
       "    </tr>\n",
       "    <tr>\n",
       "      <th>7</th>\n",
       "      <td>8</td>\n",
       "      <td>Na notti chi û senti passari sutta i so</td>\n",
       "    </tr>\n",
       "    <tr>\n",
       "      <th>8</th>\n",
       "      <td>9</td>\n",
       "      <td>Da seno a mi me par Che no ghe sia rason de ba...</td>\n",
       "    </tr>\n",
       "    <tr>\n",
       "      <th>9</th>\n",
       "      <td>3</td>\n",
       "      <td>Lis ruedis di fat a corevin dentri de cjarador...</td>\n",
       "    </tr>\n",
       "  </tbody>\n",
       "</table>\n",
       "</div>"
      ],
      "text/plain": [
       "   label                                             sample\n",
       "0      6  Ma te see foeura de coo, ò te me toeuvet in gir?.\n",
       "1      8                              a carni re puvireddi.\n",
       "2      6  L'era on simpatich tradizional appontament con...\n",
       "3      9  Chi un tenpo xè stà zovane adesso se consola b...\n",
       "4      5  ma òua scià no coménse a fâse do mâ da sôlo, a...\n",
       "5      8  ti lassai sula, comu na varca senza vela, a te...\n",
       "6      8                     Nun savi 'a sacrificari nenti.\n",
       "7      8            Na notti chi û senti passari sutta i so\n",
       "8      9  Da seno a mi me par Che no ghe sia rason de ba...\n",
       "9      3  Lis ruedis di fat a corevin dentri de cjarador..."
      ]
     },
     "execution_count": 6,
     "metadata": {},
     "output_type": "execute_result"
    }
   ],
   "source": [
    "from utils import encode_label\n",
    "\n",
    "data = pd.read_csv(\"dataset/dev.txt\", sep = \"\\t\", names=[\"label\", \"sample\"])\n",
    "data['label'] = data['label'].apply(encode_label)\n",
    "data.head(10)"
   ]
  },
  {
   "cell_type": "markdown",
   "metadata": {},
   "source": [
    "Retrain the model on the whole training set."
   ]
  },
  {
   "cell_type": "code",
   "execution_count": 7,
   "metadata": {},
   "outputs": [
    {
     "data": {
      "text/plain": [
       "SGDClassifier(max_iter=7000)"
      ]
     },
     "execution_count": 7,
     "metadata": {},
     "output_type": "execute_result"
    }
   ],
   "source": [
    "from sklearn.linear_model import SGDClassifier\n",
    "import numpy as np\n",
    "\n",
    "model = SGDClassifier(max_iter=7000)\n",
    "model.fit(X, y)"
   ]
  },
  {
   "cell_type": "markdown",
   "metadata": {},
   "source": [
    "Vectorize devset."
   ]
  },
  {
   "cell_type": "code",
   "execution_count": 15,
   "metadata": {},
   "outputs": [],
   "source": [
    "X_dev, y_true = data['sample'], data['label']\n",
    "X_dev.fillna('', inplace=True)\n",
    "X_dev = vectorizer.transform(X_dev)\n",
    "X_dev = scaler.transform(X_dev)"
   ]
  },
  {
   "cell_type": "markdown",
   "metadata": {},
   "source": [
    "Evaluate predictions with confusion matrix."
   ]
  },
  {
   "cell_type": "code",
   "execution_count": 17,
   "metadata": {},
   "outputs": [],
   "source": [
    "y_pred = model.predict(X_dev)"
   ]
  },
  {
   "cell_type": "code",
   "execution_count": 19,
   "metadata": {},
   "outputs": [
    {
     "data": {
      "image/png": "[encoded data removed]",
      "text/plain": [
       "<Figure size 648x648 with 1 Axes>"
      ]
     },
     "metadata": {},
     "output_type": "display_data"
    }
   ],
   "source": [
    "from sklearn.metrics import confusion_matrix\n",
    "import matplotlib.pyplot as plt\n",
    "import seaborn as sns\n",
    "\n",
    "cm = confusion_matrix(y_true=y_true, y_pred=y_pred, normalize=\"true\")\n",
    "\n",
    "from utils import explain_label\n",
    "df_cm = pd.DataFrame(cm, index = [explain_label(i) for i in range(0,11)],\n",
    "                  columns = [explain_label(i) for i in range(0,11)])\n",
    "\n",
    "plt.figure(figsize = (9, 9))\n",
    "sns.set(font_scale=1.4) # for label size\n",
    "ax = sns.heatmap(df_cm, \n",
    "            annot=True, \n",
    "            annot_kws={\"size\": 16}, \n",
    "            fmt='.3f', \n",
    "            cmap=\"Blues\",\n",
    "            cbar=False) \n",
    "plt.tight_layout()  \n",
    "\n",
    "# plt.savefig('confusion.pdf')\n",
    "plt.show()"
   ]
  },
  {
   "cell_type": "code",
   "execution_count": 25,
   "metadata": {},
   "outputs": [
    {
     "name": "stdout",
     "output_type": "stream",
     "text": [
      "EML: 0.0\n",
      "NAP: 0.0\n",
      "PMS: 0.8965221124946329\n",
      "FUR: 0.918840579710145\n",
      "LLD: 0.0\n",
      "LIJ: 0.7516580692704495\n",
      "LMO: 0.7746755800235942\n",
      "ROA_TARA: 0.0\n",
      "SCN: 0.8446274803444402\n",
      "VEC: 0.6763672854992474\n",
      "SC: 0.677456647398844\n"
     ]
    }
   ],
   "source": [
    "from sklearn.metrics import f1_score\n",
    "\n",
    "f1 = f1_score(y_true, y_pred, average=None)\n",
    "for score, label in zip(f1, ['EML', 'NAP', 'PMS', 'FUR', 'LLD', 'LIJ', 'LMO', 'ROA_TARA', 'SCN', 'VEC','SC']):\n",
    "    print(f\"{label}: {score}\")"
   ]
  },
  {
   "cell_type": "code",
   "execution_count": null,
   "metadata": {},
   "outputs": [],
   "source": []
  }
 ],
 "metadata": {
  "interpreter": {
   "hash": "0263a1dfeb8862614b07bcce79ebe8d40befa6db1ea41957ac0a9f2757809afa"
  },
  "kernelspec": {
   "display_name": "Python 3.8.13 ('cs4nlp')",
   "language": "python",
   "name": "python3"
  },
  "language_info": {
   "codemirror_mode": {
    "name": "ipython",
    "version": 3
   },
   "file_extension": ".py",
   "mimetype": "text/x-python",
   "name": "python",
   "nbconvert_exporter": "python",
   "pygments_lexer": "ipython3",
   "version": "3.8.13"
  },
  "orig_nbformat": 4
 },
 "nbformat": 4,
 "nbformat_minor": 2
}
