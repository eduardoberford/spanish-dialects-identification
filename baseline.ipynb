{
 "cells": [
  {
   "cell_type": "markdown",
   "metadata": {},
   "source": [
    "# Baseline \n",
    "Baseline solution for VarDial 2022 shared task on Italian Dialect Classification. "
   ]
  },
  {
   "cell_type": "code",
   "execution_count": 2,
   "metadata": {},
   "outputs": [],
   "source": [
    "# load the dataset\n",
    "import pandas as pd\n",
    "data = pd.read_csv(\"data/train.csv\", ) "
   ]
  },
  {
   "cell_type": "code",
   "execution_count": 3,
   "metadata": {},
   "outputs": [
    {
     "data": {
      "text/html": [
       "<div>\n",
       "<style scoped>\n",
       "    .dataframe tbody tr th:only-of-type {\n",
       "        vertical-align: middle;\n",
       "    }\n",
       "\n",
       "    .dataframe tbody tr th {\n",
       "        vertical-align: top;\n",
       "    }\n",
       "\n",
       "    .dataframe thead th {\n",
       "        text-align: right;\n",
       "    }\n",
       "</style>\n",
       "<table border=\"1\" class=\"dataframe\">\n",
       "  <thead>\n",
       "    <tr style=\"text-align: right;\">\n",
       "      <th></th>\n",
       "      <th>text</th>\n",
       "      <th>label</th>\n",
       "    </tr>\n",
       "  </thead>\n",
       "  <tbody>\n",
       "    <tr>\n",
       "      <th>0</th>\n",
       "      <td>Al funsiòuna da 'l 11 ed novèmber dal 2016.</td>\n",
       "      <td>0</td>\n",
       "    </tr>\n",
       "    <tr>\n",
       "      <th>1</th>\n",
       "      <td>Al 2017  'l è 'n an dal XXI sécol dal Calendàr...</td>\n",
       "      <td>0</td>\n",
       "    </tr>\n",
       "    <tr>\n",
       "      <th>2</th>\n",
       "      <td>Siligo i è un comun d'la Sardàggna d' 890 abit...</td>\n",
       "      <td>0</td>\n",
       "    </tr>\n",
       "    <tr>\n",
       "      <th>3</th>\n",
       "      <td>Valparaisol’é na cmûna e la capitèl d'l sud d'...</td>\n",
       "      <td>0</td>\n",
       "    </tr>\n",
       "    <tr>\n",
       "      <th>4</th>\n",
       "      <td>Queschè 'l è 'n elèinc di povéta ch'i àn scrìt...</td>\n",
       "      <td>0</td>\n",
       "    </tr>\n",
       "    <tr>\n",
       "      <th>...</th>\n",
       "      <td>...</td>\n",
       "      <td>...</td>\n",
       "    </tr>\n",
       "    <tr>\n",
       "      <th>388776</th>\n",
       "      <td>A pustis, colat dae sas poesias a sas cummèdias.</td>\n",
       "      <td>10</td>\n",
       "    </tr>\n",
       "    <tr>\n",
       "      <th>388777</th>\n",
       "      <td>Sa prima cummèdia sua est  Sa rebelliòni de is...</td>\n",
       "      <td>10</td>\n",
       "    </tr>\n",
       "    <tr>\n",
       "      <th>388778</th>\n",
       "      <td>In su 2010 l'ant torrada a rapresentare.</td>\n",
       "      <td>10</td>\n",
       "    </tr>\n",
       "    <tr>\n",
       "      <th>388779</th>\n",
       "      <td>Sa de duas cummèdia est  Sa littra de mariedda...</td>\n",
       "      <td>10</td>\n",
       "    </tr>\n",
       "    <tr>\n",
       "      <th>388780</th>\n",
       "      <td>Sa sua de tres e ùrtima cummèdia est  Sa Parte...</td>\n",
       "      <td>10</td>\n",
       "    </tr>\n",
       "  </tbody>\n",
       "</table>\n",
       "<p>388781 rows × 2 columns</p>\n",
       "</div>"
      ],
      "text/plain": [
       "                                                     text  label\n",
       "0             Al funsiòuna da 'l 11 ed novèmber dal 2016.      0\n",
       "1       Al 2017  'l è 'n an dal XXI sécol dal Calendàr...      0\n",
       "2       Siligo i è un comun d'la Sardàggna d' 890 abit...      0\n",
       "3       Valparaisol’é na cmûna e la capitèl d'l sud d'...      0\n",
       "4       Queschè 'l è 'n elèinc di povéta ch'i àn scrìt...      0\n",
       "...                                                   ...    ...\n",
       "388776   A pustis, colat dae sas poesias a sas cummèdias.     10\n",
       "388777  Sa prima cummèdia sua est  Sa rebelliòni de is...     10\n",
       "388778           In su 2010 l'ant torrada a rapresentare.     10\n",
       "388779  Sa de duas cummèdia est  Sa littra de mariedda...     10\n",
       "388780  Sa sua de tres e ùrtima cummèdia est  Sa Parte...     10\n",
       "\n",
       "[388781 rows x 2 columns]"
      ]
     },
     "execution_count": 3,
     "metadata": {},
     "output_type": "execute_result"
    }
   ],
   "source": [
    "data"
   ]
  },
  {
   "cell_type": "code",
   "execution_count": 4,
   "metadata": {},
   "outputs": [
    {
     "name": "stdout",
     "output_type": "stream",
     "text": [
      "(388781,) (388781,)\n"
     ]
    }
   ],
   "source": [
    "X = data['text'].values\n",
    "y = data['label'].values.astype(int)\n",
    "print(X.shape, y.shape)"
   ]
  },
  {
   "cell_type": "markdown",
   "metadata": {},
   "source": [
    "Vectorize and scale the training data."
   ]
  },
  {
   "cell_type": "code",
   "execution_count": 5,
   "metadata": {},
   "outputs": [],
   "source": [
    "from sklearn.feature_extraction.text import TfidfVectorizer\n",
    "from sklearn.preprocessing import StandardScaler\n",
    "\n",
    "vectorizer = TfidfVectorizer()\n",
    "scaler = StandardScaler(with_mean=False)\n",
    "X = vectorizer.fit_transform(X)\n",
    "X = scaler.fit_transform(X)"
   ]
  },
  {
   "cell_type": "code",
   "execution_count": 6,
   "metadata": {},
   "outputs": [
    {
     "data": {
      "text/plain": [
       "(388781, 480442)"
      ]
     },
     "execution_count": 6,
     "metadata": {},
     "output_type": "execute_result"
    }
   ],
   "source": [
    "X.shape"
   ]
  },
  {
   "cell_type": "markdown",
   "metadata": {},
   "source": [
    "Cross-validation k-fold cross validation initialization."
   ]
  },
  {
   "cell_type": "code",
   "execution_count": null,
   "metadata": {},
   "outputs": [],
   "source": [
    "from sklearn.model_selection import RepeatedKFold\n",
    "\n",
    "rkf = RepeatedKFold(n_splits=5, n_repeats=3, random_state=42)"
   ]
  },
  {
   "cell_type": "markdown",
   "metadata": {},
   "source": [
    "Train a Logistic Regression classifier with the extracted features."
   ]
  },
  {
   "cell_type": "code",
   "execution_count": null,
   "metadata": {},
   "outputs": [],
   "source": [
    "from sklearn.linear_model import LogisticRegression\n",
    "from sklearn.model_selection import cross_val_score\n",
    "import numpy as np\n",
    "\n",
    "model = LogisticRegression(random_state=0, n_jobs=-1, solver=\"sag\")\n",
    "scores = cross_val_score(model, X, y, scoring='f1_micro', cv=rkf, n_jobs=-1)\n",
    "print(f'Repeated cross-validation scores: {np.mean(scores)} ({np.std(scores)})')"
   ]
  },
  {
   "cell_type": "code",
   "execution_count": null,
   "metadata": {},
   "outputs": [],
   "source": [
    "# from sklearn.model_selection import train_test_split\n",
    "# X_train, X_test, y_train, y_test = train_test_split(X, y, test_size=0.2, random_state=42)\n",
    "\n",
    "# model.fit(X_train, y_train)\n",
    "# y_pred = model.predict(X_test)"
   ]
  },
  {
   "cell_type": "code",
   "execution_count": null,
   "metadata": {},
   "outputs": [],
   "source": [
    "# from wordcloud import WordCloud\n",
    "# import matplotlib.pyplot as plt\n",
    "# from utils import explain_label\n",
    "\n",
    "# vocab = vectorizer.get_feature_names_out()\n",
    "\n",
    "# for label in data['label'].unique():\n",
    "#     slicer = y_train == label\n",
    "#     f = X_train[slicer]\n",
    "#     total_freqs = list(np.array(f.sum(axis=0))[0])\n",
    "#     fdict = dict(zip(vocab,total_freqs))\n",
    "#     # generate word cloud of words with highest counts\n",
    "#     wordcloud = WordCloud().generate_from_frequencies(fdict) \n",
    "#     print(explain_label(label=label))\n",
    "#     plt.clf()\n",
    "#     plt.imshow(wordcloud, interpolation='bilinear') \n",
    "#     plt.axis(\"off\") \n",
    "#     plt.show()"
   ]
  },
  {
   "cell_type": "markdown",
   "metadata": {},
   "source": [
    "## Evaluation "
   ]
  },
  {
   "cell_type": "markdown",
   "metadata": {},
   "source": [
    "Import devset."
   ]
  },
  {
   "cell_type": "code",
   "execution_count": 7,
   "metadata": {},
   "outputs": [
    {
     "data": {
      "text/html": [
       "<div>\n",
       "<style scoped>\n",
       "    .dataframe tbody tr th:only-of-type {\n",
       "        vertical-align: middle;\n",
       "    }\n",
       "\n",
       "    .dataframe tbody tr th {\n",
       "        vertical-align: top;\n",
       "    }\n",
       "\n",
       "    .dataframe thead th {\n",
       "        text-align: right;\n",
       "    }\n",
       "</style>\n",
       "<table border=\"1\" class=\"dataframe\">\n",
       "  <thead>\n",
       "    <tr style=\"text-align: right;\">\n",
       "      <th></th>\n",
       "      <th>label</th>\n",
       "      <th>sample</th>\n",
       "    </tr>\n",
       "  </thead>\n",
       "  <tbody>\n",
       "    <tr>\n",
       "      <th>0</th>\n",
       "      <td>6</td>\n",
       "      <td>Ma te see foeura de coo, ò te me toeuvet in gir?.</td>\n",
       "    </tr>\n",
       "    <tr>\n",
       "      <th>1</th>\n",
       "      <td>8</td>\n",
       "      <td>a carni re puvireddi.</td>\n",
       "    </tr>\n",
       "    <tr>\n",
       "      <th>2</th>\n",
       "      <td>6</td>\n",
       "      <td>L'era on simpatich tradizional appontament con...</td>\n",
       "    </tr>\n",
       "    <tr>\n",
       "      <th>3</th>\n",
       "      <td>9</td>\n",
       "      <td>Chi un tenpo xè stà zovane adesso se consola b...</td>\n",
       "    </tr>\n",
       "    <tr>\n",
       "      <th>4</th>\n",
       "      <td>5</td>\n",
       "      <td>ma òua scià no coménse a fâse do mâ da sôlo, a...</td>\n",
       "    </tr>\n",
       "    <tr>\n",
       "      <th>5</th>\n",
       "      <td>8</td>\n",
       "      <td>ti lassai sula, comu na varca senza vela, a te...</td>\n",
       "    </tr>\n",
       "    <tr>\n",
       "      <th>6</th>\n",
       "      <td>8</td>\n",
       "      <td>Nun savi 'a sacrificari nenti.</td>\n",
       "    </tr>\n",
       "    <tr>\n",
       "      <th>7</th>\n",
       "      <td>8</td>\n",
       "      <td>Na notti chi û senti passari sutta i so</td>\n",
       "    </tr>\n",
       "    <tr>\n",
       "      <th>8</th>\n",
       "      <td>9</td>\n",
       "      <td>Da seno a mi me par Che no ghe sia rason de ba...</td>\n",
       "    </tr>\n",
       "    <tr>\n",
       "      <th>9</th>\n",
       "      <td>3</td>\n",
       "      <td>Lis ruedis di fat a corevin dentri de cjarador...</td>\n",
       "    </tr>\n",
       "  </tbody>\n",
       "</table>\n",
       "</div>"
      ],
      "text/plain": [
       "   label                                             sample\n",
       "0      6  Ma te see foeura de coo, ò te me toeuvet in gir?.\n",
       "1      8                              a carni re puvireddi.\n",
       "2      6  L'era on simpatich tradizional appontament con...\n",
       "3      9  Chi un tenpo xè stà zovane adesso se consola b...\n",
       "4      5  ma òua scià no coménse a fâse do mâ da sôlo, a...\n",
       "5      8  ti lassai sula, comu na varca senza vela, a te...\n",
       "6      8                     Nun savi 'a sacrificari nenti.\n",
       "7      8            Na notti chi û senti passari sutta i so\n",
       "8      9  Da seno a mi me par Che no ghe sia rason de ba...\n",
       "9      3  Lis ruedis di fat a corevin dentri de cjarador..."
      ]
     },
     "execution_count": 7,
     "metadata": {},
     "output_type": "execute_result"
    }
   ],
   "source": [
    "from utils import encode_label\n",
    "\n",
    "data = pd.read_csv(\"data/dev.txt\", sep = \"\\t\", names=[\"label\", \"sample\"])\n",
    "data['label'] = data['label'].apply(encode_label)\n",
    "data.head(10)"
   ]
  },
  {
   "cell_type": "markdown",
   "metadata": {},
   "source": [
    "Retrain the model on the whole training set."
   ]
  },
  {
   "cell_type": "code",
   "execution_count": 8,
   "metadata": {},
   "outputs": [
    {
     "name": "stderr",
     "output_type": "stream",
     "text": [
      "/opt/homebrew/Caskroom/miniforge/base/envs/cs4nlp/lib/python3.8/site-packages/sklearn/linear_model/_sag.py:352: ConvergenceWarning: The max_iter was reached which means the coef_ did not converge\n",
      "  warnings.warn(\n"
     ]
    },
    {
     "data": {
      "text/plain": [
       "LogisticRegression(n_jobs=-1, random_state=0, solver='sag')"
      ]
     },
     "execution_count": 8,
     "metadata": {},
     "output_type": "execute_result"
    }
   ],
   "source": [
    "from sklearn.linear_model import LogisticRegression\n",
    "\n",
    "import numpy as np\n",
    "\n",
    "model = LogisticRegression(random_state=0, n_jobs=-1, solver=\"sag\")\n",
    "model.fit(X, y)"
   ]
  },
  {
   "cell_type": "markdown",
   "metadata": {},
   "source": [
    "Vectorize devset."
   ]
  },
  {
   "cell_type": "code",
   "execution_count": 9,
   "metadata": {},
   "outputs": [],
   "source": [
    "X_dev, y_true = data['sample'], data['label']\n",
    "X_dev = vectorizer.transform(X_dev)\n",
    "X_dev = scaler.transform(X_dev)"
   ]
  },
  {
   "cell_type": "markdown",
   "metadata": {},
   "source": [
    "Evaluate predictions with confusion matrix."
   ]
  },
  {
   "cell_type": "code",
   "execution_count": 10,
   "metadata": {},
   "outputs": [],
   "source": [
    "y_pred = model.predict(X_dev)"
   ]
  },
  {
   "cell_type": "code",
   "execution_count": 11,
   "metadata": {},
   "outputs": [
    {
     "data": {
      "image/png": "[encoded data removed]",
      "text/plain": [
       "<Figure size 648x648 with 1 Axes>"
      ]
     },
     "metadata": {
      "needs_background": "light"
     },
     "output_type": "display_data"
    }
   ],
   "source": [
    "from sklearn.metrics import confusion_matrix\n",
    "import matplotlib.pyplot as plt\n",
    "import seaborn as sns\n",
    "\n",
    "cm = confusion_matrix(y_true=y_true, y_pred=y_pred, normalize=\"true\", labels=range(0,11))\n",
    "\n",
    "from utils import explain_label\n",
    "df_cm = pd.DataFrame(cm, index = [explain_label(i) for i in range(0,11)],\n",
    "                  columns = [explain_label(i) for i in range(0,11)])\n",
    "\n",
    "plt.figure(figsize = (9, 9))\n",
    "sns.set(font_scale=1.4) # for label size\n",
    "ax = sns.heatmap(df_cm, \n",
    "            annot=True, \n",
    "            annot_kws={\"size\": 16}, \n",
    "            fmt='.3f', \n",
    "            cmap=\"Blues\",\n",
    "            cbar=False) \n",
    "plt.tight_layout()  \n",
    "\n",
    "# plt.savefig('confusion.pdf')\n",
    "plt.show()"
   ]
  },
  {
   "cell_type": "code",
   "execution_count": 12,
   "metadata": {},
   "outputs": [
    {
     "name": "stdout",
     "output_type": "stream",
     "text": [
      "EML: 0.0\n",
      "NAP: 0.980359381529461\n",
      "PMS: 0.9911111111111112\n",
      "FUR: 0.0\n",
      "LLD: 0.9791332263242375\n",
      "LIJ: 0.8717190388170055\n",
      "LMO: 0.0\n",
      "ROA_TARA: 0.9567430025445294\n",
      "SCN: 0.8727758007117438\n",
      "VEC: 0.8878822197055494\n"
     ]
    }
   ],
   "source": [
    "from sklearn.metrics import f1_score\n",
    "\n",
    "f1 = f1_score(y_true, y_pred, average=None)\n",
    "for score, label in zip(f1, ['EML', 'NAP', 'PMS', 'FUR', 'LLD', 'LIJ', 'LMO', 'ROA_TARA', 'SCN', 'VEC','SC']):\n",
    "    print(f\"{label}: {score}\")"
   ]
  },
  {
   "cell_type": "code",
   "execution_count": 13,
   "metadata": {},
   "outputs": [],
   "source": [
    "from utils import explain_label\n",
    "\n",
    "df = pd.DataFrame(y_pred, columns=[\"label\"])\n",
    "df['label'] = df['label'].apply(explain_label)\n",
    "df.to_csv(\"data/pred.csv\", header=None, index=None)"
   ]
  },
  {
   "cell_type": "code",
   "execution_count": 14,
   "metadata": {},
   "outputs": [],
   "source": [
    "wrong = []\n",
    "for i, x in enumerate(data['sample']):\n",
    "    if y_true[i] != y_pred[i]:\n",
    "        wrong.append(i)"
   ]
  }
 ],
 "metadata": {
  "interpreter": {
   "hash": "0263a1dfeb8862614b07bcce79ebe8d40befa6db1ea41957ac0a9f2757809afa"
  },
  "kernelspec": {
   "display_name": "Python 3.8.13 ('cs4nlp')",
   "language": "python",
   "name": "python3"
  },
  "language_info": {
   "codemirror_mode": {
    "name": "ipython",
    "version": 3
   },
   "file_extension": ".py",
   "mimetype": "text/x-python",
   "name": "python",
   "nbconvert_exporter": "python",
   "pygments_lexer": "ipython3",
   "version": "3.8.13"
  },
  "orig_nbformat": 4
 },
 "nbformat": 4,
 "nbformat_minor": 2
}
