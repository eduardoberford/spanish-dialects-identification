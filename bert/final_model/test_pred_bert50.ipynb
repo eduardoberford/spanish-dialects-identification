{
  "nbformat": 4,
  "nbformat_minor": 0,
  "metadata": {
    "accelerator": "GPU",
    "colab": {
      "name": "QA_bert_ipynb",
      "provenance": [],
      "collapsed_sections": [],
      "machine_shape": "hm"
    },
    "kernelspec": {
      "display_name": "Python 3",
      "language": "python",
      "name": "python3"
    },
    "language_info": {
      "codemirror_mode": {
        "name": "ipython",
        "version": 3
      },
      "file_extension": ".py",
      "mimetype": "text/x-python",
      "name": "python",
      "nbconvert_exporter": "python",
      "pygments_lexer": "ipython3",
      "version": "3.9.2"
    },
    "widgets": {
      "application/vnd.jupyter.widget-state+json": {
        "ba8869a2c55740a29f8f654f4d2c461a": {
          "model_module": "@jupyter-widgets/controls",
          "model_name": "HBoxModel",
          "model_module_version": "1.5.0",
          "state": {
            "_dom_classes": [],
            "_model_module": "@jupyter-widgets/controls",
            "_model_module_version": "1.5.0",
            "_model_name": "HBoxModel",
            "_view_count": null,
            "_view_module": "@jupyter-widgets/controls",
            "_view_module_version": "1.5.0",
            "_view_name": "HBoxView",
            "box_style": "",
            "children": [
              "IPY_MODEL_2f498fa437bf4b8db85049694e87605c",
              "IPY_MODEL_dd67026e2b0c41d19bf0a85fc52f06c0",
              "IPY_MODEL_ad0cb95d0cbb4c158dfb13d5922e7516"
            ],
            "layout": "IPY_MODEL_925393a25fdd4206acb97d88b1796862"
          }
        },
        "2f498fa437bf4b8db85049694e87605c": {
          "model_module": "@jupyter-widgets/controls",
          "model_name": "HTMLModel",
          "model_module_version": "1.5.0",
          "state": {
            "_dom_classes": [],
            "_model_module": "@jupyter-widgets/controls",
            "_model_module_version": "1.5.0",
            "_model_name": "HTMLModel",
            "_view_count": null,
            "_view_module": "@jupyter-widgets/controls",
            "_view_module_version": "1.5.0",
            "_view_name": "HTMLView",
            "description": "",
            "description_tooltip": null,
            "layout": "IPY_MODEL_4b24193659564276a78879b29e7706da",
            "placeholder": "​",
            "style": "IPY_MODEL_7a3e93dd90e043bbb732cb6b2619eae9",
            "value": "Downloading: 100%"
          }
        },
        "dd67026e2b0c41d19bf0a85fc52f06c0": {
          "model_module": "@jupyter-widgets/controls",
          "model_name": "FloatProgressModel",
          "model_module_version": "1.5.0",
          "state": {
            "_dom_classes": [],
            "_model_module": "@jupyter-widgets/controls",
            "_model_module_version": "1.5.0",
            "_model_name": "FloatProgressModel",
            "_view_count": null,
            "_view_module": "@jupyter-widgets/controls",
            "_view_module_version": "1.5.0",
            "_view_name": "ProgressView",
            "bar_style": "success",
            "description": "",
            "description_tooltip": null,
            "layout": "IPY_MODEL_5e3d53defd9b400e8ae0ead432642587",
            "max": 59,
            "min": 0,
            "orientation": "horizontal",
            "style": "IPY_MODEL_89c82fe4354542798bd43b2e7cf20692",
            "value": 59
          }
        },
        "ad0cb95d0cbb4c158dfb13d5922e7516": {
          "model_module": "@jupyter-widgets/controls",
          "model_name": "HTMLModel",
          "model_module_version": "1.5.0",
          "state": {
            "_dom_classes": [],
            "_model_module": "@jupyter-widgets/controls",
            "_model_module_version": "1.5.0",
            "_model_name": "HTMLModel",
            "_view_count": null,
            "_view_module": "@jupyter-widgets/controls",
            "_view_module_version": "1.5.0",
            "_view_name": "HTMLView",
            "description": "",
            "description_tooltip": null,
            "layout": "IPY_MODEL_860c77bc81a84ec1a2882801d11795af",
            "placeholder": "​",
            "style": "IPY_MODEL_5cf63d6db7264327b3446419d37f0297",
            "value": " 59.0/59.0 [00:00&lt;00:00, 2.04kB/s]"
          }
        },
        "925393a25fdd4206acb97d88b1796862": {
          "model_module": "@jupyter-widgets/base",
          "model_name": "LayoutModel",
          "model_module_version": "1.2.0",
          "state": {
            "_model_module": "@jupyter-widgets/base",
            "_model_module_version": "1.2.0",
            "_model_name": "LayoutModel",
            "_view_count": null,
            "_view_module": "@jupyter-widgets/base",
            "_view_module_version": "1.2.0",
            "_view_name": "LayoutView",
            "align_content": null,
            "align_items": null,
            "align_self": null,
            "border": null,
            "bottom": null,
            "display": null,
            "flex": null,
            "flex_flow": null,
            "grid_area": null,
            "grid_auto_columns": null,
            "grid_auto_flow": null,
            "grid_auto_rows": null,
            "grid_column": null,
            "grid_gap": null,
            "grid_row": null,
            "grid_template_areas": null,
            "grid_template_columns": null,
            "grid_template_rows": null,
            "height": null,
            "justify_content": null,
            "justify_items": null,
            "left": null,
            "margin": null,
            "max_height": null,
            "max_width": null,
            "min_height": null,
            "min_width": null,
            "object_fit": null,
            "object_position": null,
            "order": null,
            "overflow": null,
            "overflow_x": null,
            "overflow_y": null,
            "padding": null,
            "right": null,
            "top": null,
            "visibility": null,
            "width": null
          }
        },
        "4b24193659564276a78879b29e7706da": {
          "model_module": "@jupyter-widgets/base",
          "model_name": "LayoutModel",
          "model_module_version": "1.2.0",
          "state": {
            "_model_module": "@jupyter-widgets/base",
            "_model_module_version": "1.2.0",
            "_model_name": "LayoutModel",
            "_view_count": null,
            "_view_module": "@jupyter-widgets/base",
            "_view_module_version": "1.2.0",
            "_view_name": "LayoutView",
            "align_content": null,
            "align_items": null,
            "align_self": null,
            "border": null,
            "bottom": null,
            "display": null,
            "flex": null,
            "flex_flow": null,
            "grid_area": null,
            "grid_auto_columns": null,
            "grid_auto_flow": null,
            "grid_auto_rows": null,
            "grid_column": null,
            "grid_gap": null,
            "grid_row": null,
            "grid_template_areas": null,
            "grid_template_columns": null,
            "grid_template_rows": null,
            "height": null,
            "justify_content": null,
            "justify_items": null,
            "left": null,
            "margin": null,
            "max_height": null,
            "max_width": null,
            "min_height": null,
            "min_width": null,
            "object_fit": null,
            "object_position": null,
            "order": null,
            "overflow": null,
            "overflow_x": null,
            "overflow_y": null,
            "padding": null,
            "right": null,
            "top": null,
            "visibility": null,
            "width": null
          }
        },
        "7a3e93dd90e043bbb732cb6b2619eae9": {
          "model_module": "@jupyter-widgets/controls",
          "model_name": "DescriptionStyleModel",
          "model_module_version": "1.5.0",
          "state": {
            "_model_module": "@jupyter-widgets/controls",
            "_model_module_version": "1.5.0",
            "_model_name": "DescriptionStyleModel",
            "_view_count": null,
            "_view_module": "@jupyter-widgets/base",
            "_view_module_version": "1.2.0",
            "_view_name": "StyleView",
            "description_width": ""
          }
        },
        "5e3d53defd9b400e8ae0ead432642587": {
          "model_module": "@jupyter-widgets/base",
          "model_name": "LayoutModel",
          "model_module_version": "1.2.0",
          "state": {
            "_model_module": "@jupyter-widgets/base",
            "_model_module_version": "1.2.0",
            "_model_name": "LayoutModel",
            "_view_count": null,
            "_view_module": "@jupyter-widgets/base",
            "_view_module_version": "1.2.0",
            "_view_name": "LayoutView",
            "align_content": null,
            "align_items": null,
            "align_self": null,
            "border": null,
            "bottom": null,
            "display": null,
            "flex": null,
            "flex_flow": null,
            "grid_area": null,
            "grid_auto_columns": null,
            "grid_auto_flow": null,
            "grid_auto_rows": null,
            "grid_column": null,
            "grid_gap": null,
            "grid_row": null,
            "grid_template_areas": null,
            "grid_template_columns": null,
            "grid_template_rows": null,
            "height": null,
            "justify_content": null,
            "justify_items": null,
            "left": null,
            "margin": null,
            "max_height": null,
            "max_width": null,
            "min_height": null,
            "min_width": null,
            "object_fit": null,
            "object_position": null,
            "order": null,
            "overflow": null,
            "overflow_x": null,
            "overflow_y": null,
            "padding": null,
            "right": null,
            "top": null,
            "visibility": null,
            "width": null
          }
        },
        "89c82fe4354542798bd43b2e7cf20692": {
          "model_module": "@jupyter-widgets/controls",
          "model_name": "ProgressStyleModel",
          "model_module_version": "1.5.0",
          "state": {
            "_model_module": "@jupyter-widgets/controls",
            "_model_module_version": "1.5.0",
            "_model_name": "ProgressStyleModel",
            "_view_count": null,
            "_view_module": "@jupyter-widgets/base",
            "_view_module_version": "1.2.0",
            "_view_name": "StyleView",
            "bar_color": null,
            "description_width": ""
          }
        },
        "860c77bc81a84ec1a2882801d11795af": {
          "model_module": "@jupyter-widgets/base",
          "model_name": "LayoutModel",
          "model_module_version": "1.2.0",
          "state": {
            "_model_module": "@jupyter-widgets/base",
            "_model_module_version": "1.2.0",
            "_model_name": "LayoutModel",
            "_view_count": null,
            "_view_module": "@jupyter-widgets/base",
            "_view_module_version": "1.2.0",
            "_view_name": "LayoutView",
            "align_content": null,
            "align_items": null,
            "align_self": null,
            "border": null,
            "bottom": null,
            "display": null,
            "flex": null,
            "flex_flow": null,
            "grid_area": null,
            "grid_auto_columns": null,
            "grid_auto_flow": null,
            "grid_auto_rows": null,
            "grid_column": null,
            "grid_gap": null,
            "grid_row": null,
            "grid_template_areas": null,
            "grid_template_columns": null,
            "grid_template_rows": null,
            "height": null,
            "justify_content": null,
            "justify_items": null,
            "left": null,
            "margin": null,
            "max_height": null,
            "max_width": null,
            "min_height": null,
            "min_width": null,
            "object_fit": null,
            "object_position": null,
            "order": null,
            "overflow": null,
            "overflow_x": null,
            "overflow_y": null,
            "padding": null,
            "right": null,
            "top": null,
            "visibility": null,
            "width": null
          }
        },
        "5cf63d6db7264327b3446419d37f0297": {
          "model_module": "@jupyter-widgets/controls",
          "model_name": "DescriptionStyleModel",
          "model_module_version": "1.5.0",
          "state": {
            "_model_module": "@jupyter-widgets/controls",
            "_model_module_version": "1.5.0",
            "_model_name": "DescriptionStyleModel",
            "_view_count": null,
            "_view_module": "@jupyter-widgets/base",
            "_view_module_version": "1.2.0",
            "_view_name": "StyleView",
            "description_width": ""
          }
        },
        "39837bf331d541cb94ec5379ac1751ab": {
          "model_module": "@jupyter-widgets/controls",
          "model_name": "HBoxModel",
          "model_module_version": "1.5.0",
          "state": {
            "_dom_classes": [],
            "_model_module": "@jupyter-widgets/controls",
            "_model_module_version": "1.5.0",
            "_model_name": "HBoxModel",
            "_view_count": null,
            "_view_module": "@jupyter-widgets/controls",
            "_view_module_version": "1.5.0",
            "_view_name": "HBoxView",
            "box_style": "",
            "children": [
              "IPY_MODEL_fe29265ff17a47f7afd80e76fb2b8d97",
              "IPY_MODEL_7e4eeeb7cf38439eb75cef7075da1260",
              "IPY_MODEL_16177457274c431a8367981449aa01dc"
            ],
            "layout": "IPY_MODEL_91f2852ca2694d52b710dd30fb60c097"
          }
        },
        "fe29265ff17a47f7afd80e76fb2b8d97": {
          "model_module": "@jupyter-widgets/controls",
          "model_name": "HTMLModel",
          "model_module_version": "1.5.0",
          "state": {
            "_dom_classes": [],
            "_model_module": "@jupyter-widgets/controls",
            "_model_module_version": "1.5.0",
            "_model_name": "HTMLModel",
            "_view_count": null,
            "_view_module": "@jupyter-widgets/controls",
            "_view_module_version": "1.5.0",
            "_view_name": "HTMLView",
            "description": "",
            "description_tooltip": null,
            "layout": "IPY_MODEL_a819cbef266e4d28b6fb57af87237214",
            "placeholder": "​",
            "style": "IPY_MODEL_1051fd55c5d3465eac19489de44c2451",
            "value": "Downloading: 100%"
          }
        },
        "7e4eeeb7cf38439eb75cef7075da1260": {
          "model_module": "@jupyter-widgets/controls",
          "model_name": "FloatProgressModel",
          "model_module_version": "1.5.0",
          "state": {
            "_dom_classes": [],
            "_model_module": "@jupyter-widgets/controls",
            "_model_module_version": "1.5.0",
            "_model_name": "FloatProgressModel",
            "_view_count": null,
            "_view_module": "@jupyter-widgets/controls",
            "_view_module_version": "1.5.0",
            "_view_name": "ProgressView",
            "bar_style": "success",
            "description": "",
            "description_tooltip": null,
            "layout": "IPY_MODEL_e1683d37484c4ad599766b2dc4607fc6",
            "max": 433,
            "min": 0,
            "orientation": "horizontal",
            "style": "IPY_MODEL_297c2f8d5d1949d1a1b2e928af0de395",
            "value": 433
          }
        },
        "16177457274c431a8367981449aa01dc": {
          "model_module": "@jupyter-widgets/controls",
          "model_name": "HTMLModel",
          "model_module_version": "1.5.0",
          "state": {
            "_dom_classes": [],
            "_model_module": "@jupyter-widgets/controls",
            "_model_module_version": "1.5.0",
            "_model_name": "HTMLModel",
            "_view_count": null,
            "_view_module": "@jupyter-widgets/controls",
            "_view_module_version": "1.5.0",
            "_view_name": "HTMLView",
            "description": "",
            "description_tooltip": null,
            "layout": "IPY_MODEL_b3ac31d615a84d6695960d8c4ee7f401",
            "placeholder": "​",
            "style": "IPY_MODEL_e82004c4068d478eb7f3e2e819368629",
            "value": " 433/433 [00:00&lt;00:00, 16.5kB/s]"
          }
        },
        "91f2852ca2694d52b710dd30fb60c097": {
          "model_module": "@jupyter-widgets/base",
          "model_name": "LayoutModel",
          "model_module_version": "1.2.0",
          "state": {
            "_model_module": "@jupyter-widgets/base",
            "_model_module_version": "1.2.0",
            "_model_name": "LayoutModel",
            "_view_count": null,
            "_view_module": "@jupyter-widgets/base",
            "_view_module_version": "1.2.0",
            "_view_name": "LayoutView",
            "align_content": null,
            "align_items": null,
            "align_self": null,
            "border": null,
            "bottom": null,
            "display": null,
            "flex": null,
            "flex_flow": null,
            "grid_area": null,
            "grid_auto_columns": null,
            "grid_auto_flow": null,
            "grid_auto_rows": null,
            "grid_column": null,
            "grid_gap": null,
            "grid_row": null,
            "grid_template_areas": null,
            "grid_template_columns": null,
            "grid_template_rows": null,
            "height": null,
            "justify_content": null,
            "justify_items": null,
            "left": null,
            "margin": null,
            "max_height": null,
            "max_width": null,
            "min_height": null,
            "min_width": null,
            "object_fit": null,
            "object_position": null,
            "order": null,
            "overflow": null,
            "overflow_x": null,
            "overflow_y": null,
            "padding": null,
            "right": null,
            "top": null,
            "visibility": null,
            "width": null
          }
        },
        "a819cbef266e4d28b6fb57af87237214": {
          "model_module": "@jupyter-widgets/base",
          "model_name": "LayoutModel",
          "model_module_version": "1.2.0",
          "state": {
            "_model_module": "@jupyter-widgets/base",
            "_model_module_version": "1.2.0",
            "_model_name": "LayoutModel",
            "_view_count": null,
            "_view_module": "@jupyter-widgets/base",
            "_view_module_version": "1.2.0",
            "_view_name": "LayoutView",
            "align_content": null,
            "align_items": null,
            "align_self": null,
            "border": null,
            "bottom": null,
            "display": null,
            "flex": null,
            "flex_flow": null,
            "grid_area": null,
            "grid_auto_columns": null,
            "grid_auto_flow": null,
            "grid_auto_rows": null,
            "grid_column": null,
            "grid_gap": null,
            "grid_row": null,
            "grid_template_areas": null,
            "grid_template_columns": null,
            "grid_template_rows": null,
            "height": null,
            "justify_content": null,
            "justify_items": null,
            "left": null,
            "margin": null,
            "max_height": null,
            "max_width": null,
            "min_height": null,
            "min_width": null,
            "object_fit": null,
            "object_position": null,
            "order": null,
            "overflow": null,
            "overflow_x": null,
            "overflow_y": null,
            "padding": null,
            "right": null,
            "top": null,
            "visibility": null,
            "width": null
          }
        },
        "1051fd55c5d3465eac19489de44c2451": {
          "model_module": "@jupyter-widgets/controls",
          "model_name": "DescriptionStyleModel",
          "model_module_version": "1.5.0",
          "state": {
            "_model_module": "@jupyter-widgets/controls",
            "_model_module_version": "1.5.0",
            "_model_name": "DescriptionStyleModel",
            "_view_count": null,
            "_view_module": "@jupyter-widgets/base",
            "_view_module_version": "1.2.0",
            "_view_name": "StyleView",
            "description_width": ""
          }
        },
        "e1683d37484c4ad599766b2dc4607fc6": {
          "model_module": "@jupyter-widgets/base",
          "model_name": "LayoutModel",
          "model_module_version": "1.2.0",
          "state": {
            "_model_module": "@jupyter-widgets/base",
            "_model_module_version": "1.2.0",
            "_model_name": "LayoutModel",
            "_view_count": null,
            "_view_module": "@jupyter-widgets/base",
            "_view_module_version": "1.2.0",
            "_view_name": "LayoutView",
            "align_content": null,
            "align_items": null,
            "align_self": null,
            "border": null,
            "bottom": null,
            "display": null,
            "flex": null,
            "flex_flow": null,
            "grid_area": null,
            "grid_auto_columns": null,
            "grid_auto_flow": null,
            "grid_auto_rows": null,
            "grid_column": null,
            "grid_gap": null,
            "grid_row": null,
            "grid_template_areas": null,
            "grid_template_columns": null,
            "grid_template_rows": null,
            "height": null,
            "justify_content": null,
            "justify_items": null,
            "left": null,
            "margin": null,
            "max_height": null,
            "max_width": null,
            "min_height": null,
            "min_width": null,
            "object_fit": null,
            "object_position": null,
            "order": null,
            "overflow": null,
            "overflow_x": null,
            "overflow_y": null,
            "padding": null,
            "right": null,
            "top": null,
            "visibility": null,
            "width": null
          }
        },
        "297c2f8d5d1949d1a1b2e928af0de395": {
          "model_module": "@jupyter-widgets/controls",
          "model_name": "ProgressStyleModel",
          "model_module_version": "1.5.0",
          "state": {
            "_model_module": "@jupyter-widgets/controls",
            "_model_module_version": "1.5.0",
            "_model_name": "ProgressStyleModel",
            "_view_count": null,
            "_view_module": "@jupyter-widgets/base",
            "_view_module_version": "1.2.0",
            "_view_name": "StyleView",
            "bar_color": null,
            "description_width": ""
          }
        },
        "b3ac31d615a84d6695960d8c4ee7f401": {
          "model_module": "@jupyter-widgets/base",
          "model_name": "LayoutModel",
          "model_module_version": "1.2.0",
          "state": {
            "_model_module": "@jupyter-widgets/base",
            "_model_module_version": "1.2.0",
            "_model_name": "LayoutModel",
            "_view_count": null,
            "_view_module": "@jupyter-widgets/base",
            "_view_module_version": "1.2.0",
            "_view_name": "LayoutView",
            "align_content": null,
            "align_items": null,
            "align_self": null,
            "border": null,
            "bottom": null,
            "display": null,
            "flex": null,
            "flex_flow": null,
            "grid_area": null,
            "grid_auto_columns": null,
            "grid_auto_flow": null,
            "grid_auto_rows": null,
            "grid_column": null,
            "grid_gap": null,
            "grid_row": null,
            "grid_template_areas": null,
            "grid_template_columns": null,
            "grid_template_rows": null,
            "height": null,
            "justify_content": null,
            "justify_items": null,
            "left": null,
            "margin": null,
            "max_height": null,
            "max_width": null,
            "min_height": null,
            "min_width": null,
            "object_fit": null,
            "object_position": null,
            "order": null,
            "overflow": null,
            "overflow_x": null,
            "overflow_y": null,
            "padding": null,
            "right": null,
            "top": null,
            "visibility": null,
            "width": null
          }
        },
        "e82004c4068d478eb7f3e2e819368629": {
          "model_module": "@jupyter-widgets/controls",
          "model_name": "DescriptionStyleModel",
          "model_module_version": "1.5.0",
          "state": {
            "_model_module": "@jupyter-widgets/controls",
            "_model_module_version": "1.5.0",
            "_model_name": "DescriptionStyleModel",
            "_view_count": null,
            "_view_module": "@jupyter-widgets/base",
            "_view_module_version": "1.2.0",
            "_view_name": "StyleView",
            "description_width": ""
          }
        },
        "37e1e8e174ef42669937ea1a1714f264": {
          "model_module": "@jupyter-widgets/controls",
          "model_name": "HBoxModel",
          "model_module_version": "1.5.0",
          "state": {
            "_dom_classes": [],
            "_model_module": "@jupyter-widgets/controls",
            "_model_module_version": "1.5.0",
            "_model_name": "HBoxModel",
            "_view_count": null,
            "_view_module": "@jupyter-widgets/controls",
            "_view_module_version": "1.5.0",
            "_view_name": "HBoxView",
            "box_style": "",
            "children": [
              "IPY_MODEL_b3baba6939524c8fb9837cb8bf503141",
              "IPY_MODEL_4284ad2397b34b4d9a50dc444e8053aa",
              "IPY_MODEL_e75d1aeee163463da7c367290cf30ce9"
            ],
            "layout": "IPY_MODEL_f9163ab6db474092a194aa86901b1b11"
          }
        },
        "b3baba6939524c8fb9837cb8bf503141": {
          "model_module": "@jupyter-widgets/controls",
          "model_name": "HTMLModel",
          "model_module_version": "1.5.0",
          "state": {
            "_dom_classes": [],
            "_model_module": "@jupyter-widgets/controls",
            "_model_module_version": "1.5.0",
            "_model_name": "HTMLModel",
            "_view_count": null,
            "_view_module": "@jupyter-widgets/controls",
            "_view_module_version": "1.5.0",
            "_view_name": "HTMLView",
            "description": "",
            "description_tooltip": null,
            "layout": "IPY_MODEL_e4b6fb52944f4bfb9b52868298f616c9",
            "placeholder": "​",
            "style": "IPY_MODEL_b6fa5a54a3a74938bb78bcb5b4979d20",
            "value": "Downloading: 100%"
          }
        },
        "4284ad2397b34b4d9a50dc444e8053aa": {
          "model_module": "@jupyter-widgets/controls",
          "model_name": "FloatProgressModel",
          "model_module_version": "1.5.0",
          "state": {
            "_dom_classes": [],
            "_model_module": "@jupyter-widgets/controls",
            "_model_module_version": "1.5.0",
            "_model_name": "FloatProgressModel",
            "_view_count": null,
            "_view_module": "@jupyter-widgets/controls",
            "_view_module_version": "1.5.0",
            "_view_name": "ProgressView",
            "bar_style": "success",
            "description": "",
            "description_tooltip": null,
            "layout": "IPY_MODEL_de1dfd21721748be84b7572225e7c9e3",
            "max": 235127,
            "min": 0,
            "orientation": "horizontal",
            "style": "IPY_MODEL_9ef5b67ed6624de4b6e524496c1e6432",
            "value": 235127
          }
        },
        "e75d1aeee163463da7c367290cf30ce9": {
          "model_module": "@jupyter-widgets/controls",
          "model_name": "HTMLModel",
          "model_module_version": "1.5.0",
          "state": {
            "_dom_classes": [],
            "_model_module": "@jupyter-widgets/controls",
            "_model_module_version": "1.5.0",
            "_model_name": "HTMLModel",
            "_view_count": null,
            "_view_module": "@jupyter-widgets/controls",
            "_view_module_version": "1.5.0",
            "_view_name": "HTMLView",
            "description": "",
            "description_tooltip": null,
            "layout": "IPY_MODEL_487e7dc1964945b5a39fe2b5e4603a3b",
            "placeholder": "​",
            "style": "IPY_MODEL_eeb07db7a5dd4f3d8b81cc2fe7c941d0",
            "value": " 230k/230k [00:00&lt;00:00, 426kB/s]"
          }
        },
        "f9163ab6db474092a194aa86901b1b11": {
          "model_module": "@jupyter-widgets/base",
          "model_name": "LayoutModel",
          "model_module_version": "1.2.0",
          "state": {
            "_model_module": "@jupyter-widgets/base",
            "_model_module_version": "1.2.0",
            "_model_name": "LayoutModel",
            "_view_count": null,
            "_view_module": "@jupyter-widgets/base",
            "_view_module_version": "1.2.0",
            "_view_name": "LayoutView",
            "align_content": null,
            "align_items": null,
            "align_self": null,
            "border": null,
            "bottom": null,
            "display": null,
            "flex": null,
            "flex_flow": null,
            "grid_area": null,
            "grid_auto_columns": null,
            "grid_auto_flow": null,
            "grid_auto_rows": null,
            "grid_column": null,
            "grid_gap": null,
            "grid_row": null,
            "grid_template_areas": null,
            "grid_template_columns": null,
            "grid_template_rows": null,
            "height": null,
            "justify_content": null,
            "justify_items": null,
            "left": null,
            "margin": null,
            "max_height": null,
            "max_width": null,
            "min_height": null,
            "min_width": null,
            "object_fit": null,
            "object_position": null,
            "order": null,
            "overflow": null,
            "overflow_x": null,
            "overflow_y": null,
            "padding": null,
            "right": null,
            "top": null,
            "visibility": null,
            "width": null
          }
        },
        "e4b6fb52944f4bfb9b52868298f616c9": {
          "model_module": "@jupyter-widgets/base",
          "model_name": "LayoutModel",
          "model_module_version": "1.2.0",
          "state": {
            "_model_module": "@jupyter-widgets/base",
            "_model_module_version": "1.2.0",
            "_model_name": "LayoutModel",
            "_view_count": null,
            "_view_module": "@jupyter-widgets/base",
            "_view_module_version": "1.2.0",
            "_view_name": "LayoutView",
            "align_content": null,
            "align_items": null,
            "align_self": null,
            "border": null,
            "bottom": null,
            "display": null,
            "flex": null,
            "flex_flow": null,
            "grid_area": null,
            "grid_auto_columns": null,
            "grid_auto_flow": null,
            "grid_auto_rows": null,
            "grid_column": null,
            "grid_gap": null,
            "grid_row": null,
            "grid_template_areas": null,
            "grid_template_columns": null,
            "grid_template_rows": null,
            "height": null,
            "justify_content": null,
            "justify_items": null,
            "left": null,
            "margin": null,
            "max_height": null,
            "max_width": null,
            "min_height": null,
            "min_width": null,
            "object_fit": null,
            "object_position": null,
            "order": null,
            "overflow": null,
            "overflow_x": null,
            "overflow_y": null,
            "padding": null,
            "right": null,
            "top": null,
            "visibility": null,
            "width": null
          }
        },
        "b6fa5a54a3a74938bb78bcb5b4979d20": {
          "model_module": "@jupyter-widgets/controls",
          "model_name": "DescriptionStyleModel",
          "model_module_version": "1.5.0",
          "state": {
            "_model_module": "@jupyter-widgets/controls",
            "_model_module_version": "1.5.0",
            "_model_name": "DescriptionStyleModel",
            "_view_count": null,
            "_view_module": "@jupyter-widgets/base",
            "_view_module_version": "1.2.0",
            "_view_name": "StyleView",
            "description_width": ""
          }
        },
        "de1dfd21721748be84b7572225e7c9e3": {
          "model_module": "@jupyter-widgets/base",
          "model_name": "LayoutModel",
          "model_module_version": "1.2.0",
          "state": {
            "_model_module": "@jupyter-widgets/base",
            "_model_module_version": "1.2.0",
            "_model_name": "LayoutModel",
            "_view_count": null,
            "_view_module": "@jupyter-widgets/base",
            "_view_module_version": "1.2.0",
            "_view_name": "LayoutView",
            "align_content": null,
            "align_items": null,
            "align_self": null,
            "border": null,
            "bottom": null,
            "display": null,
            "flex": null,
            "flex_flow": null,
            "grid_area": null,
            "grid_auto_columns": null,
            "grid_auto_flow": null,
            "grid_auto_rows": null,
            "grid_column": null,
            "grid_gap": null,
            "grid_row": null,
            "grid_template_areas": null,
            "grid_template_columns": null,
            "grid_template_rows": null,
            "height": null,
            "justify_content": null,
            "justify_items": null,
            "left": null,
            "margin": null,
            "max_height": null,
            "max_width": null,
            "min_height": null,
            "min_width": null,
            "object_fit": null,
            "object_position": null,
            "order": null,
            "overflow": null,
            "overflow_x": null,
            "overflow_y": null,
            "padding": null,
            "right": null,
            "top": null,
            "visibility": null,
            "width": null
          }
        },
        "9ef5b67ed6624de4b6e524496c1e6432": {
          "model_module": "@jupyter-widgets/controls",
          "model_name": "ProgressStyleModel",
          "model_module_version": "1.5.0",
          "state": {
            "_model_module": "@jupyter-widgets/controls",
            "_model_module_version": "1.5.0",
            "_model_name": "ProgressStyleModel",
            "_view_count": null,
            "_view_module": "@jupyter-widgets/base",
            "_view_module_version": "1.2.0",
            "_view_name": "StyleView",
            "bar_color": null,
            "description_width": ""
          }
        },
        "487e7dc1964945b5a39fe2b5e4603a3b": {
          "model_module": "@jupyter-widgets/base",
          "model_name": "LayoutModel",
          "model_module_version": "1.2.0",
          "state": {
            "_model_module": "@jupyter-widgets/base",
            "_model_module_version": "1.2.0",
            "_model_name": "LayoutModel",
            "_view_count": null,
            "_view_module": "@jupyter-widgets/base",
            "_view_module_version": "1.2.0",
            "_view_name": "LayoutView",
            "align_content": null,
            "align_items": null,
            "align_self": null,
            "border": null,
            "bottom": null,
            "display": null,
            "flex": null,
            "flex_flow": null,
            "grid_area": null,
            "grid_auto_columns": null,
            "grid_auto_flow": null,
            "grid_auto_rows": null,
            "grid_column": null,
            "grid_gap": null,
            "grid_row": null,
            "grid_template_areas": null,
            "grid_template_columns": null,
            "grid_template_rows": null,
            "height": null,
            "justify_content": null,
            "justify_items": null,
            "left": null,
            "margin": null,
            "max_height": null,
            "max_width": null,
            "min_height": null,
            "min_width": null,
            "object_fit": null,
            "object_position": null,
            "order": null,
            "overflow": null,
            "overflow_x": null,
            "overflow_y": null,
            "padding": null,
            "right": null,
            "top": null,
            "visibility": null,
            "width": null
          }
        },
        "eeb07db7a5dd4f3d8b81cc2fe7c941d0": {
          "model_module": "@jupyter-widgets/controls",
          "model_name": "DescriptionStyleModel",
          "model_module_version": "1.5.0",
          "state": {
            "_model_module": "@jupyter-widgets/controls",
            "_model_module_version": "1.5.0",
            "_model_name": "DescriptionStyleModel",
            "_view_count": null,
            "_view_module": "@jupyter-widgets/base",
            "_view_module_version": "1.2.0",
            "_view_name": "StyleView",
            "description_width": ""
          }
        },
        "da440dde5cfc42e79e77c4c4bb4ed8bc": {
          "model_module": "@jupyter-widgets/controls",
          "model_name": "HBoxModel",
          "model_module_version": "1.5.0",
          "state": {
            "_dom_classes": [],
            "_model_module": "@jupyter-widgets/controls",
            "_model_module_version": "1.5.0",
            "_model_name": "HBoxModel",
            "_view_count": null,
            "_view_module": "@jupyter-widgets/controls",
            "_view_module_version": "1.5.0",
            "_view_name": "HBoxView",
            "box_style": "",
            "children": [
              "IPY_MODEL_e89aab4566b44cde82c0701a27768983",
              "IPY_MODEL_76285b41eedc4e10841f00a1bd2b90f9",
              "IPY_MODEL_8fee247cd46e4def881263dbe0509069"
            ],
            "layout": "IPY_MODEL_df29a0cd76cb47aa9c03861dd768bc5c"
          }
        },
        "e89aab4566b44cde82c0701a27768983": {
          "model_module": "@jupyter-widgets/controls",
          "model_name": "HTMLModel",
          "model_module_version": "1.5.0",
          "state": {
            "_dom_classes": [],
            "_model_module": "@jupyter-widgets/controls",
            "_model_module_version": "1.5.0",
            "_model_name": "HTMLModel",
            "_view_count": null,
            "_view_module": "@jupyter-widgets/controls",
            "_view_module_version": "1.5.0",
            "_view_name": "HTMLView",
            "description": "",
            "description_tooltip": null,
            "layout": "IPY_MODEL_50334a8034c5404faecfbb6b0e05f0a8",
            "placeholder": "​",
            "style": "IPY_MODEL_97dcf3381d39412eb5532bdb35c5375a",
            "value": "Downloading: 100%"
          }
        },
        "76285b41eedc4e10841f00a1bd2b90f9": {
          "model_module": "@jupyter-widgets/controls",
          "model_name": "FloatProgressModel",
          "model_module_version": "1.5.0",
          "state": {
            "_dom_classes": [],
            "_model_module": "@jupyter-widgets/controls",
            "_model_module_version": "1.5.0",
            "_model_name": "FloatProgressModel",
            "_view_count": null,
            "_view_module": "@jupyter-widgets/controls",
            "_view_module_version": "1.5.0",
            "_view_name": "ProgressView",
            "bar_style": "success",
            "description": "",
            "description_tooltip": null,
            "layout": "IPY_MODEL_952ed16c4afc4e25990fa67fc3fbf3fc",
            "max": 445332122,
            "min": 0,
            "orientation": "horizontal",
            "style": "IPY_MODEL_403223a4de1646e9b7fb28df5fb3ddde",
            "value": 445332122
          }
        },
        "8fee247cd46e4def881263dbe0509069": {
          "model_module": "@jupyter-widgets/controls",
          "model_name": "HTMLModel",
          "model_module_version": "1.5.0",
          "state": {
            "_dom_classes": [],
            "_model_module": "@jupyter-widgets/controls",
            "_model_module_version": "1.5.0",
            "_model_name": "HTMLModel",
            "_view_count": null,
            "_view_module": "@jupyter-widgets/controls",
            "_view_module_version": "1.5.0",
            "_view_name": "HTMLView",
            "description": "",
            "description_tooltip": null,
            "layout": "IPY_MODEL_8dee908466fe4d229ad62a7a06b495f2",
            "placeholder": "​",
            "style": "IPY_MODEL_8565e966de9c40cabde825a5fd9651b2",
            "value": " 425M/425M [00:07&lt;00:00, 63.6MB/s]"
          }
        },
        "df29a0cd76cb47aa9c03861dd768bc5c": {
          "model_module": "@jupyter-widgets/base",
          "model_name": "LayoutModel",
          "model_module_version": "1.2.0",
          "state": {
            "_model_module": "@jupyter-widgets/base",
            "_model_module_version": "1.2.0",
            "_model_name": "LayoutModel",
            "_view_count": null,
            "_view_module": "@jupyter-widgets/base",
            "_view_module_version": "1.2.0",
            "_view_name": "LayoutView",
            "align_content": null,
            "align_items": null,
            "align_self": null,
            "border": null,
            "bottom": null,
            "display": null,
            "flex": null,
            "flex_flow": null,
            "grid_area": null,
            "grid_auto_columns": null,
            "grid_auto_flow": null,
            "grid_auto_rows": null,
            "grid_column": null,
            "grid_gap": null,
            "grid_row": null,
            "grid_template_areas": null,
            "grid_template_columns": null,
            "grid_template_rows": null,
            "height": null,
            "justify_content": null,
            "justify_items": null,
            "left": null,
            "margin": null,
            "max_height": null,
            "max_width": null,
            "min_height": null,
            "min_width": null,
            "object_fit": null,
            "object_position": null,
            "order": null,
            "overflow": null,
            "overflow_x": null,
            "overflow_y": null,
            "padding": null,
            "right": null,
            "top": null,
            "visibility": null,
            "width": null
          }
        },
        "50334a8034c5404faecfbb6b0e05f0a8": {
          "model_module": "@jupyter-widgets/base",
          "model_name": "LayoutModel",
          "model_module_version": "1.2.0",
          "state": {
            "_model_module": "@jupyter-widgets/base",
            "_model_module_version": "1.2.0",
            "_model_name": "LayoutModel",
            "_view_count": null,
            "_view_module": "@jupyter-widgets/base",
            "_view_module_version": "1.2.0",
            "_view_name": "LayoutView",
            "align_content": null,
            "align_items": null,
            "align_self": null,
            "border": null,
            "bottom": null,
            "display": null,
            "flex": null,
            "flex_flow": null,
            "grid_area": null,
            "grid_auto_columns": null,
            "grid_auto_flow": null,
            "grid_auto_rows": null,
            "grid_column": null,
            "grid_gap": null,
            "grid_row": null,
            "grid_template_areas": null,
            "grid_template_columns": null,
            "grid_template_rows": null,
            "height": null,
            "justify_content": null,
            "justify_items": null,
            "left": null,
            "margin": null,
            "max_height": null,
            "max_width": null,
            "min_height": null,
            "min_width": null,
            "object_fit": null,
            "object_position": null,
            "order": null,
            "overflow": null,
            "overflow_x": null,
            "overflow_y": null,
            "padding": null,
            "right": null,
            "top": null,
            "visibility": null,
            "width": null
          }
        },
        "97dcf3381d39412eb5532bdb35c5375a": {
          "model_module": "@jupyter-widgets/controls",
          "model_name": "DescriptionStyleModel",
          "model_module_version": "1.5.0",
          "state": {
            "_model_module": "@jupyter-widgets/controls",
            "_model_module_version": "1.5.0",
            "_model_name": "DescriptionStyleModel",
            "_view_count": null,
            "_view_module": "@jupyter-widgets/base",
            "_view_module_version": "1.2.0",
            "_view_name": "StyleView",
            "description_width": ""
          }
        },
        "952ed16c4afc4e25990fa67fc3fbf3fc": {
          "model_module": "@jupyter-widgets/base",
          "model_name": "LayoutModel",
          "model_module_version": "1.2.0",
          "state": {
            "_model_module": "@jupyter-widgets/base",
            "_model_module_version": "1.2.0",
            "_model_name": "LayoutModel",
            "_view_count": null,
            "_view_module": "@jupyter-widgets/base",
            "_view_module_version": "1.2.0",
            "_view_name": "LayoutView",
            "align_content": null,
            "align_items": null,
            "align_self": null,
            "border": null,
            "bottom": null,
            "display": null,
            "flex": null,
            "flex_flow": null,
            "grid_area": null,
            "grid_auto_columns": null,
            "grid_auto_flow": null,
            "grid_auto_rows": null,
            "grid_column": null,
            "grid_gap": null,
            "grid_row": null,
            "grid_template_areas": null,
            "grid_template_columns": null,
            "grid_template_rows": null,
            "height": null,
            "justify_content": null,
            "justify_items": null,
            "left": null,
            "margin": null,
            "max_height": null,
            "max_width": null,
            "min_height": null,
            "min_width": null,
            "object_fit": null,
            "object_position": null,
            "order": null,
            "overflow": null,
            "overflow_x": null,
            "overflow_y": null,
            "padding": null,
            "right": null,
            "top": null,
            "visibility": null,
            "width": null
          }
        },
        "403223a4de1646e9b7fb28df5fb3ddde": {
          "model_module": "@jupyter-widgets/controls",
          "model_name": "ProgressStyleModel",
          "model_module_version": "1.5.0",
          "state": {
            "_model_module": "@jupyter-widgets/controls",
            "_model_module_version": "1.5.0",
            "_model_name": "ProgressStyleModel",
            "_view_count": null,
            "_view_module": "@jupyter-widgets/base",
            "_view_module_version": "1.2.0",
            "_view_name": "StyleView",
            "bar_color": null,
            "description_width": ""
          }
        },
        "8dee908466fe4d229ad62a7a06b495f2": {
          "model_module": "@jupyter-widgets/base",
          "model_name": "LayoutModel",
          "model_module_version": "1.2.0",
          "state": {
            "_model_module": "@jupyter-widgets/base",
            "_model_module_version": "1.2.0",
            "_model_name": "LayoutModel",
            "_view_count": null,
            "_view_module": "@jupyter-widgets/base",
            "_view_module_version": "1.2.0",
            "_view_name": "LayoutView",
            "align_content": null,
            "align_items": null,
            "align_self": null,
            "border": null,
            "bottom": null,
            "display": null,
            "flex": null,
            "flex_flow": null,
            "grid_area": null,
            "grid_auto_columns": null,
            "grid_auto_flow": null,
            "grid_auto_rows": null,
            "grid_column": null,
            "grid_gap": null,
            "grid_row": null,
            "grid_template_areas": null,
            "grid_template_columns": null,
            "grid_template_rows": null,
            "height": null,
            "justify_content": null,
            "justify_items": null,
            "left": null,
            "margin": null,
            "max_height": null,
            "max_width": null,
            "min_height": null,
            "min_width": null,
            "object_fit": null,
            "object_position": null,
            "order": null,
            "overflow": null,
            "overflow_x": null,
            "overflow_y": null,
            "padding": null,
            "right": null,
            "top": null,
            "visibility": null,
            "width": null
          }
        },
        "8565e966de9c40cabde825a5fd9651b2": {
          "model_module": "@jupyter-widgets/controls",
          "model_name": "DescriptionStyleModel",
          "model_module_version": "1.5.0",
          "state": {
            "_model_module": "@jupyter-widgets/controls",
            "_model_module_version": "1.5.0",
            "_model_name": "DescriptionStyleModel",
            "_view_count": null,
            "_view_module": "@jupyter-widgets/base",
            "_view_module_version": "1.2.0",
            "_view_name": "StyleView",
            "description_width": ""
          }
        }
      }
    }
  },
  "cells": [
    {
      "cell_type": "markdown",
      "metadata": {
        "id": "EVr8sce42-Du"
      },
      "source": [
        "### Import necessary packages"
      ]
    },
    {
      "cell_type": "code",
      "metadata": {
        "colab": {
          "base_uri": "https://localhost:8080/"
        },
        "id": "mgWxpel8317G",
        "outputId": "039b9efb-38dd-4b60-e564-354a27ffa872"
      },
      "source": [
        "!pip install transformers seqeval[gpu]\n",
        "!pip install datasets\n",
        "!pip install sentencepiece"
      ],
      "execution_count": 1,
      "outputs": [
        {
          "output_type": "stream",
          "name": "stdout",
          "text": [
            "Looking in indexes: https://pypi.org/simple, https://us-python.pkg.dev/colab-wheels/public/simple/\n",
            "Collecting transformers\n",
            "  Downloading transformers-4.20.1-py3-none-any.whl (4.4 MB)\n",
            "\u001b[K     |████████████████████████████████| 4.4 MB 4.3 MB/s \n",
            "\u001b[?25hCollecting seqeval[gpu]\n",
            "  Downloading seqeval-1.2.2.tar.gz (43 kB)\n",
            "\u001b[K     |████████████████████████████████| 43 kB 2.5 MB/s \n",
            "\u001b[?25hRequirement already satisfied: importlib-metadata in /usr/local/lib/python3.7/dist-packages (from transformers) (4.11.4)\n",
            "Collecting tokenizers!=0.11.3,<0.13,>=0.11.1\n",
            "  Downloading tokenizers-0.12.1-cp37-cp37m-manylinux_2_12_x86_64.manylinux2010_x86_64.whl (6.6 MB)\n",
            "\u001b[K     |████████████████████████████████| 6.6 MB 57.5 MB/s \n",
            "\u001b[?25hCollecting pyyaml>=5.1\n",
            "  Downloading PyYAML-6.0-cp37-cp37m-manylinux_2_5_x86_64.manylinux1_x86_64.manylinux_2_12_x86_64.manylinux2010_x86_64.whl (596 kB)\n",
            "\u001b[K     |████████████████████████████████| 596 kB 85.2 MB/s \n",
            "\u001b[?25hRequirement already satisfied: regex!=2019.12.17 in /usr/local/lib/python3.7/dist-packages (from transformers) (2022.6.2)\n",
            "Requirement already satisfied: packaging>=20.0 in /usr/local/lib/python3.7/dist-packages (from transformers) (21.3)\n",
            "Requirement already satisfied: numpy>=1.17 in /usr/local/lib/python3.7/dist-packages (from transformers) (1.21.6)\n",
            "Requirement already satisfied: filelock in /usr/local/lib/python3.7/dist-packages (from transformers) (3.7.1)\n",
            "Requirement already satisfied: requests in /usr/local/lib/python3.7/dist-packages (from transformers) (2.23.0)\n",
            "Requirement already satisfied: tqdm>=4.27 in /usr/local/lib/python3.7/dist-packages (from transformers) (4.64.0)\n",
            "Collecting huggingface-hub<1.0,>=0.1.0\n",
            "  Downloading huggingface_hub-0.8.1-py3-none-any.whl (101 kB)\n",
            "\u001b[K     |████████████████████████████████| 101 kB 14.3 MB/s \n",
            "\u001b[?25hRequirement already satisfied: typing-extensions>=3.7.4.3 in /usr/local/lib/python3.7/dist-packages (from huggingface-hub<1.0,>=0.1.0->transformers) (4.1.1)\n",
            "Requirement already satisfied: pyparsing!=3.0.5,>=2.0.2 in /usr/local/lib/python3.7/dist-packages (from packaging>=20.0->transformers) (3.0.9)\n",
            "Requirement already satisfied: zipp>=0.5 in /usr/local/lib/python3.7/dist-packages (from importlib-metadata->transformers) (3.8.0)\n",
            "Requirement already satisfied: idna<3,>=2.5 in /usr/local/lib/python3.7/dist-packages (from requests->transformers) (2.10)\n",
            "Requirement already satisfied: urllib3!=1.25.0,!=1.25.1,<1.26,>=1.21.1 in /usr/local/lib/python3.7/dist-packages (from requests->transformers) (1.24.3)\n",
            "Requirement already satisfied: certifi>=2017.4.17 in /usr/local/lib/python3.7/dist-packages (from requests->transformers) (2022.6.15)\n",
            "Requirement already satisfied: chardet<4,>=3.0.2 in /usr/local/lib/python3.7/dist-packages (from requests->transformers) (3.0.4)\n",
            "Requirement already satisfied: scikit-learn>=0.21.3 in /usr/local/lib/python3.7/dist-packages (from seqeval[gpu]) (1.0.2)\n",
            "Requirement already satisfied: threadpoolctl>=2.0.0 in /usr/local/lib/python3.7/dist-packages (from scikit-learn>=0.21.3->seqeval[gpu]) (3.1.0)\n",
            "Requirement already satisfied: joblib>=0.11 in /usr/local/lib/python3.7/dist-packages (from scikit-learn>=0.21.3->seqeval[gpu]) (1.1.0)\n",
            "Requirement already satisfied: scipy>=1.1.0 in /usr/local/lib/python3.7/dist-packages (from scikit-learn>=0.21.3->seqeval[gpu]) (1.4.1)\n",
            "Building wheels for collected packages: seqeval\n",
            "  Building wheel for seqeval (setup.py) ... \u001b[?25l\u001b[?25hdone\n",
            "  Created wheel for seqeval: filename=seqeval-1.2.2-py3-none-any.whl size=16180 sha256=fcd7fe62f1d85d73d443398639eed374e81567f3124250468b2a0ebf1ec49b5b\n",
            "  Stored in directory: /root/.cache/pip/wheels/05/96/ee/7cac4e74f3b19e3158dce26a20a1c86b3533c43ec72a549fd7\n",
            "Successfully built seqeval\n",
            "Installing collected packages: pyyaml, tokenizers, seqeval, huggingface-hub, transformers\n",
            "  Attempting uninstall: pyyaml\n",
            "    Found existing installation: PyYAML 3.13\n",
            "    Uninstalling PyYAML-3.13:\n",
            "      Successfully uninstalled PyYAML-3.13\n",
            "Successfully installed huggingface-hub-0.8.1 pyyaml-6.0 seqeval-1.2.2 tokenizers-0.12.1 transformers-4.20.1\n",
            "Looking in indexes: https://pypi.org/simple, https://us-python.pkg.dev/colab-wheels/public/simple/\n",
            "Collecting datasets\n",
            "  Downloading datasets-2.3.2-py3-none-any.whl (362 kB)\n",
            "\u001b[K     |████████████████████████████████| 362 kB 4.1 MB/s \n",
            "\u001b[?25hCollecting xxhash\n",
            "  Downloading xxhash-3.0.0-cp37-cp37m-manylinux_2_17_x86_64.manylinux2014_x86_64.whl (212 kB)\n",
            "\u001b[K     |████████████████████████████████| 212 kB 85.0 MB/s \n",
            "\u001b[?25hRequirement already satisfied: requests>=2.19.0 in /usr/local/lib/python3.7/dist-packages (from datasets) (2.23.0)\n",
            "Collecting aiohttp\n",
            "  Downloading aiohttp-3.8.1-cp37-cp37m-manylinux_2_5_x86_64.manylinux1_x86_64.manylinux_2_12_x86_64.manylinux2010_x86_64.whl (1.1 MB)\n",
            "\u001b[K     |████████████████████████████████| 1.1 MB 70.5 MB/s \n",
            "\u001b[?25hRequirement already satisfied: importlib-metadata in /usr/local/lib/python3.7/dist-packages (from datasets) (4.11.4)\n",
            "Requirement already satisfied: tqdm>=4.62.1 in /usr/local/lib/python3.7/dist-packages (from datasets) (4.64.0)\n",
            "Requirement already satisfied: pyarrow>=6.0.0 in /usr/local/lib/python3.7/dist-packages (from datasets) (6.0.1)\n",
            "Requirement already satisfied: huggingface-hub<1.0.0,>=0.1.0 in /usr/local/lib/python3.7/dist-packages (from datasets) (0.8.1)\n",
            "Requirement already satisfied: packaging in /usr/local/lib/python3.7/dist-packages (from datasets) (21.3)\n",
            "Requirement already satisfied: multiprocess in /usr/local/lib/python3.7/dist-packages (from datasets) (0.70.13)\n",
            "Requirement already satisfied: numpy>=1.17 in /usr/local/lib/python3.7/dist-packages (from datasets) (1.21.6)\n",
            "Requirement already satisfied: dill<0.3.6 in /usr/local/lib/python3.7/dist-packages (from datasets) (0.3.5.1)\n",
            "Requirement already satisfied: pandas in /usr/local/lib/python3.7/dist-packages (from datasets) (1.3.5)\n",
            "Collecting responses<0.19\n",
            "  Downloading responses-0.18.0-py3-none-any.whl (38 kB)\n",
            "Collecting fsspec[http]>=2021.05.0\n",
            "  Downloading fsspec-2022.5.0-py3-none-any.whl (140 kB)\n",
            "\u001b[K     |████████████████████████████████| 140 kB 76.6 MB/s \n",
            "\u001b[?25hRequirement already satisfied: typing-extensions>=3.7.4.3 in /usr/local/lib/python3.7/dist-packages (from huggingface-hub<1.0.0,>=0.1.0->datasets) (4.1.1)\n",
            "Requirement already satisfied: pyyaml>=5.1 in /usr/local/lib/python3.7/dist-packages (from huggingface-hub<1.0.0,>=0.1.0->datasets) (6.0)\n",
            "Requirement already satisfied: filelock in /usr/local/lib/python3.7/dist-packages (from huggingface-hub<1.0.0,>=0.1.0->datasets) (3.7.1)\n",
            "Requirement already satisfied: pyparsing!=3.0.5,>=2.0.2 in /usr/local/lib/python3.7/dist-packages (from packaging->datasets) (3.0.9)\n",
            "Requirement already satisfied: idna<3,>=2.5 in /usr/local/lib/python3.7/dist-packages (from requests>=2.19.0->datasets) (2.10)\n",
            "Requirement already satisfied: chardet<4,>=3.0.2 in /usr/local/lib/python3.7/dist-packages (from requests>=2.19.0->datasets) (3.0.4)\n",
            "Requirement already satisfied: urllib3!=1.25.0,!=1.25.1,<1.26,>=1.21.1 in /usr/local/lib/python3.7/dist-packages (from requests>=2.19.0->datasets) (1.24.3)\n",
            "Requirement already satisfied: certifi>=2017.4.17 in /usr/local/lib/python3.7/dist-packages (from requests>=2.19.0->datasets) (2022.6.15)\n",
            "Collecting urllib3!=1.25.0,!=1.25.1,<1.26,>=1.21.1\n",
            "  Downloading urllib3-1.25.11-py2.py3-none-any.whl (127 kB)\n",
            "\u001b[K     |████████████████████████████████| 127 kB 82.5 MB/s \n",
            "\u001b[?25hRequirement already satisfied: charset-normalizer<3.0,>=2.0 in /usr/local/lib/python3.7/dist-packages (from aiohttp->datasets) (2.0.12)\n",
            "Collecting async-timeout<5.0,>=4.0.0a3\n",
            "  Downloading async_timeout-4.0.2-py3-none-any.whl (5.8 kB)\n",
            "Collecting aiosignal>=1.1.2\n",
            "  Downloading aiosignal-1.2.0-py3-none-any.whl (8.2 kB)\n",
            "Collecting asynctest==0.13.0\n",
            "  Downloading asynctest-0.13.0-py3-none-any.whl (26 kB)\n",
            "Collecting multidict<7.0,>=4.5\n",
            "  Downloading multidict-6.0.2-cp37-cp37m-manylinux_2_17_x86_64.manylinux2014_x86_64.whl (94 kB)\n",
            "\u001b[K     |████████████████████████████████| 94 kB 4.8 MB/s \n",
            "\u001b[?25hCollecting frozenlist>=1.1.1\n",
            "  Downloading frozenlist-1.3.0-cp37-cp37m-manylinux_2_5_x86_64.manylinux1_x86_64.manylinux_2_17_x86_64.manylinux2014_x86_64.whl (144 kB)\n",
            "\u001b[K     |████████████████████████████████| 144 kB 73.5 MB/s \n",
            "\u001b[?25hCollecting yarl<2.0,>=1.0\n",
            "  Downloading yarl-1.7.2-cp37-cp37m-manylinux_2_5_x86_64.manylinux1_x86_64.manylinux_2_12_x86_64.manylinux2010_x86_64.whl (271 kB)\n",
            "\u001b[K     |████████████████████████████████| 271 kB 86.6 MB/s \n",
            "\u001b[?25hRequirement already satisfied: attrs>=17.3.0 in /usr/local/lib/python3.7/dist-packages (from aiohttp->datasets) (21.4.0)\n",
            "Requirement already satisfied: zipp>=0.5 in /usr/local/lib/python3.7/dist-packages (from importlib-metadata->datasets) (3.8.0)\n",
            "Requirement already satisfied: python-dateutil>=2.7.3 in /usr/local/lib/python3.7/dist-packages (from pandas->datasets) (2.8.2)\n",
            "Requirement already satisfied: pytz>=2017.3 in /usr/local/lib/python3.7/dist-packages (from pandas->datasets) (2022.1)\n",
            "Requirement already satisfied: six>=1.5 in /usr/local/lib/python3.7/dist-packages (from python-dateutil>=2.7.3->pandas->datasets) (1.15.0)\n",
            "Installing collected packages: multidict, frozenlist, yarl, urllib3, asynctest, async-timeout, aiosignal, fsspec, aiohttp, xxhash, responses, datasets\n",
            "  Attempting uninstall: urllib3\n",
            "    Found existing installation: urllib3 1.24.3\n",
            "    Uninstalling urllib3-1.24.3:\n",
            "      Successfully uninstalled urllib3-1.24.3\n",
            "\u001b[31mERROR: pip's dependency resolver does not currently take into account all the packages that are installed. This behaviour is the source of the following dependency conflicts.\n",
            "datascience 0.10.6 requires folium==0.2.1, but you have folium 0.8.3 which is incompatible.\u001b[0m\n",
            "Successfully installed aiohttp-3.8.1 aiosignal-1.2.0 async-timeout-4.0.2 asynctest-0.13.0 datasets-2.3.2 frozenlist-1.3.0 fsspec-2022.5.0 multidict-6.0.2 responses-0.18.0 urllib3-1.25.11 xxhash-3.0.0 yarl-1.7.2\n",
            "Looking in indexes: https://pypi.org/simple, https://us-python.pkg.dev/colab-wheels/public/simple/\n",
            "Collecting sentencepiece\n",
            "  Downloading sentencepiece-0.1.96-cp37-cp37m-manylinux_2_17_x86_64.manylinux2014_x86_64.whl (1.2 MB)\n",
            "\u001b[K     |████████████████████████████████| 1.2 MB 4.1 MB/s \n",
            "\u001b[?25hInstalling collected packages: sentencepiece\n",
            "Successfully installed sentencepiece-0.1.96\n"
          ]
        }
      ]
    },
    {
      "cell_type": "code",
      "metadata": {
        "id": "EbHoJEJd46mA"
      },
      "source": [
        "import torch\n",
        "import numpy as np\n",
        "import pandas as pd\n",
        "import datasets\n",
        "from collections import Counter\n",
        "from datasets import load_dataset\n",
        "from transformers import XLNetTokenizer, XLNetForSequenceClassification\n",
        "from transformers import TrainingArguments, Trainer\n",
        "from transformers import EarlyStoppingCallback\n",
        "from sklearn.metrics import f1_score, accuracy_score, precision_score, recall_score\n",
        "from sklearn.metrics import confusion_matrix, ConfusionMatrixDisplay\n",
        "from transformers import AutoTokenizer, AutoModelForSequenceClassification"
      ],
      "execution_count": 2,
      "outputs": []
    },
    {
      "cell_type": "code",
      "source": [
        "from torch import nn\n",
        "from transformers import Trainer\n",
        "\n",
        "class CustomTrainer(Trainer):\n",
        "    def compute_loss(self, model, inputs, return_outputs=False):\n",
        "        labels = inputs.get(\"labels\")\n",
        "        # forward pass\n",
        "        outputs = model(**inputs)\n",
        "        logits = outputs.get('logits')\n",
        "        # compute custom loss\n",
        "        loss_fct = nn.CrossEntropyLoss(weight=torch.tensor([1, 1, 1, 1, 1, 1, 0.38, 1, 0.66, 1, 1]))\n",
        "        loss = loss_fct(logits.view(-1, self.model.config.num_labels), labels.view(-1))\n",
        "        return (loss, outputs) if return_outputs else loss"
      ],
      "metadata": {
        "id": "fw0fnHyz3vAS"
      },
      "execution_count": 3,
      "outputs": []
    },
    {
      "cell_type": "markdown",
      "metadata": {
        "id": "t8NsCc923Oy6"
      },
      "source": [
        "### Load data"
      ]
    },
    {
      "cell_type": "code",
      "source": [
        "torch.cuda.is_available()\n",
        "device = torch.device(\"cuda\")\n",
        "from google.colab import drive\n",
        "drive.mount('/content/drive')\n",
        "!ls '/content/drive/MyDrive/eth_CS4NLP/project/qadata'\n",
        "train_path = '/content/drive/MyDrive/eth_CS4NLP/project/qadata/df_traindev.csv'\n",
        "dev_path = '/content/drive/MyDrive/eth_CS4NLP/project/qadata/final_dev.csv'\n",
        "test_path = '/content/drive/MyDrive/eth_CS4NLP/project/qadata/vardial_test.txt'"
      ],
      "metadata": {
        "id": "NYAgkgF8kHQf",
        "colab": {
          "base_uri": "https://localhost:8080/"
        },
        "outputId": "cdf77dc1-5be8-4324-9012-7cd2c4d944a2"
      },
      "execution_count": 5,
      "outputs": [
        {
          "output_type": "stream",
          "name": "stdout",
          "text": [
            "Mounted at /content/drive\n",
            "df_traindev.csv  pred_bert_output\tvardial_train_1.csv\n",
            "final_dev.csv\t Record_outputs.gsheet\tvardial_train_2.csv\n",
            "final_train.csv  vardial_dev.txt\n",
            "output\t\t vardial_test.txt\n"
          ]
        }
      ]
    },
    {
      "cell_type": "code",
      "source": [
        "dial_label = {\n",
        "    0 : 'EML',\n",
        "    1 : 'NAP',\n",
        "    2 : 'PMS',\n",
        "    3 : 'FUR',\n",
        "    4 : 'LLD',\n",
        "    5 : 'LIJ',\n",
        "    6 : 'LMO',\n",
        "    7 : 'ROA_TARA',\n",
        "    8 : 'SCN', \n",
        "    9 : 'VEC',\n",
        "    10 : 'SC'\n",
        "}\n",
        "\n",
        "fold_label = {\n",
        "    'EML' : 0,\n",
        "    'NAP' : 1,\n",
        "    'PMS' : 2,\n",
        "    'FUR' : 3,\n",
        "    'LLD' : 4,\n",
        "    'LIJ' : 5,\n",
        "    'LMO' : 6,\n",
        "    'ROA_TARA' : 7,\n",
        "    'SCN' : 8,\n",
        "    'VEC' : 9,\n",
        "    'SC' : 10\n",
        "}\n",
        "\n",
        "def explain_label(label : int) -> str:\n",
        "    \"\"\" \n",
        "    Given an integer label, convert it to the corresponding string label\n",
        "    :param int label: integer label to be converted\n",
        "    :return: string corresponding to the given label\n",
        "    \"\"\"\n",
        "    return dial_label[label]\n",
        "\n",
        "def encode_label(label : str) -> int:\n",
        "    \"\"\" \n",
        "    Given a string label, encode it to the corresponding index\n",
        "    :param string label: string label to be converted\n",
        "    :return: int corresponding to the given label\n",
        "    \"\"\"\n",
        "    return fold_label[label]"
      ],
      "metadata": {
        "id": "uz78UizYkNQ3"
      },
      "execution_count": 6,
      "outputs": []
    },
    {
      "cell_type": "code",
      "source": [
        "df_dev = pd.read_csv(dev_path)\n",
        "df_train = pd.read_csv(train_path)\n",
        "# testset\n",
        "df_test = pd.read_csv(test_path, sep = \"\\t\", names=[\"text\"])\n",
        "df_test['label']=0 #add label column to the testset and assign 0 to all row\n",
        "df_test.shape"
      ],
      "metadata": {
        "id": "fcMhfJERkPw0",
        "colab": {
          "base_uri": "https://localhost:8080/"
        },
        "outputId": "c33dffb0-8b89-4cf0-bfe0-fba279e9baa7"
      },
      "execution_count": 7,
      "outputs": [
        {
          "output_type": "execute_result",
          "data": {
            "text/plain": [
              "(11087, 2)"
            ]
          },
          "metadata": {},
          "execution_count": 7
        }
      ]
    },
    {
      "cell_type": "code",
      "metadata": {
        "id": "WrCVTe59fxoN",
        "colab": {
          "base_uri": "https://localhost:8080/"
        },
        "outputId": "6e6564ae-b76f-4a33-d714-b0009f78a82d"
      },
      "source": [
        "# Create dictionaries to transform from labels to id and vice-versa.\n",
        "id2label = {0 : 'EML',\n",
        "    1 : 'NAP',\n",
        "    2 : 'PMS',\n",
        "    3 : 'FUR',\n",
        "    4 : 'LLD',\n",
        "    5 : 'LIJ',\n",
        "    6 : 'LMO',\n",
        "    7 : 'ROA_TARA',\n",
        "    8 : 'SCN', \n",
        "    9 : 'VEC',\n",
        "    10 : 'SC'}\n",
        "label2id = {v:k for k,v in id2label.items()}\n",
        "num_labels = len(id2label)\n",
        "print(id2label)"
      ],
      "execution_count": 8,
      "outputs": [
        {
          "output_type": "stream",
          "name": "stdout",
          "text": [
            "{0: 'EML', 1: 'NAP', 2: 'PMS', 3: 'FUR', 4: 'LLD', 5: 'LIJ', 6: 'LMO', 7: 'ROA_TARA', 8: 'SCN', 9: 'VEC', 10: 'SC'}\n"
          ]
        }
      ]
    },
    {
      "cell_type": "code",
      "source": [
        "from datasets import Dataset\n",
        "train_ds = Dataset.from_pandas(df_train)\n",
        "dev_ds = Dataset.from_pandas(df_dev)\n",
        "test_ds = Dataset.from_pandas(df_test)\n",
        "# Example of instance of the dataset\n",
        "train_ds[18]"
      ],
      "metadata": {
        "id": "TuzS8EgrqfuN",
        "colab": {
          "base_uri": "https://localhost:8080/"
        },
        "outputId": "77b1c2e2-c5d5-488b-f4c2-e6c97e4b72f8"
      },
      "execution_count": 9,
      "outputs": [
        {
          "output_type": "execute_result",
          "data": {
            "text/plain": [
              "{'id': 32711.0,\n",
              " 'label': 0,\n",
              " 'text': \" 'l è 'l nòm 'd un domìni genèric. Al funsiòuna da 'l dicèmber dal 2016.\",\n",
              " 'title': '.كاثوليك',\n",
              " 'url': 'https://eml.wikipedia.org/wiki?curid=32711'}"
            ]
          },
          "metadata": {},
          "execution_count": 9
        }
      ]
    },
    {
      "cell_type": "markdown",
      "source": [
        "## Tokenizing data - Model name"
      ],
      "metadata": {
        "id": "VgIxc5qiQGvq"
      }
    },
    {
      "cell_type": "markdown",
      "source": [
        "**model_name**\n",
        "- [] m-polignano-uniba/bert_uncased_L-12_H-768_A-12_italian_alb3rt0\n",
        "- [] 'dbmdz/bert-base-italian-cased'\n",
        "- [x] 'dbmdz/bert-base-italian-xxl-cased'\n",
        "- [] 'dbmdz/bert-base-italian-uncased'\n",
        "- [] mrm8488/bert-italian-finedtuned-squadv1-it-alfa"
      ],
      "metadata": {
        "id": "PfozgTU_LEfa"
      }
    },
    {
      "cell_type": "code",
      "metadata": {
        "id": "F-rin6nkAAQs"
      },
      "source": [
        "\n",
        "# Load BERT tokenizer.\n",
        "model_name = 'dbmdz/bert-base-italian-xxl-cased'\n"
      ],
      "execution_count": 11,
      "outputs": []
    },
    {
      "cell_type": "code",
      "metadata": {
        "id": "_5hGacF6Iqm4",
        "colab": {
          "base_uri": "https://localhost:8080/",
          "height": 113,
          "referenced_widgets": [
            "ba8869a2c55740a29f8f654f4d2c461a",
            "2f498fa437bf4b8db85049694e87605c",
            "dd67026e2b0c41d19bf0a85fc52f06c0",
            "ad0cb95d0cbb4c158dfb13d5922e7516",
            "925393a25fdd4206acb97d88b1796862",
            "4b24193659564276a78879b29e7706da",
            "7a3e93dd90e043bbb732cb6b2619eae9",
            "5e3d53defd9b400e8ae0ead432642587",
            "89c82fe4354542798bd43b2e7cf20692",
            "860c77bc81a84ec1a2882801d11795af",
            "5cf63d6db7264327b3446419d37f0297",
            "39837bf331d541cb94ec5379ac1751ab",
            "fe29265ff17a47f7afd80e76fb2b8d97",
            "7e4eeeb7cf38439eb75cef7075da1260",
            "16177457274c431a8367981449aa01dc",
            "91f2852ca2694d52b710dd30fb60c097",
            "a819cbef266e4d28b6fb57af87237214",
            "1051fd55c5d3465eac19489de44c2451",
            "e1683d37484c4ad599766b2dc4607fc6",
            "297c2f8d5d1949d1a1b2e928af0de395",
            "b3ac31d615a84d6695960d8c4ee7f401",
            "e82004c4068d478eb7f3e2e819368629",
            "37e1e8e174ef42669937ea1a1714f264",
            "b3baba6939524c8fb9837cb8bf503141",
            "4284ad2397b34b4d9a50dc444e8053aa",
            "e75d1aeee163463da7c367290cf30ce9",
            "f9163ab6db474092a194aa86901b1b11",
            "e4b6fb52944f4bfb9b52868298f616c9",
            "b6fa5a54a3a74938bb78bcb5b4979d20",
            "de1dfd21721748be84b7572225e7c9e3",
            "9ef5b67ed6624de4b6e524496c1e6432",
            "487e7dc1964945b5a39fe2b5e4603a3b",
            "eeb07db7a5dd4f3d8b81cc2fe7c941d0"
          ]
        },
        "outputId": "09e60f61-6f66-4437-abfd-c4e7faa308a1"
      },
      "source": [
        "tokenizer = AutoTokenizer.from_pretrained(model_name)"
      ],
      "execution_count": 12,
      "outputs": [
        {
          "output_type": "display_data",
          "data": {
            "text/plain": [
              "Downloading:   0%|          | 0.00/59.0 [00:00<?, ?B/s]"
            ],
            "application/vnd.jupyter.widget-view+json": {
              "version_major": 2,
              "version_minor": 0,
              "model_id": "ba8869a2c55740a29f8f654f4d2c461a"
            }
          },
          "metadata": {}
        },
        {
          "output_type": "display_data",
          "data": {
            "text/plain": [
              "Downloading:   0%|          | 0.00/433 [00:00<?, ?B/s]"
            ],
            "application/vnd.jupyter.widget-view+json": {
              "version_major": 2,
              "version_minor": 0,
              "model_id": "39837bf331d541cb94ec5379ac1751ab"
            }
          },
          "metadata": {}
        },
        {
          "output_type": "display_data",
          "data": {
            "text/plain": [
              "Downloading:   0%|          | 0.00/230k [00:00<?, ?B/s]"
            ],
            "application/vnd.jupyter.widget-view+json": {
              "version_major": 2,
              "version_minor": 0,
              "model_id": "37e1e8e174ef42669937ea1a1714f264"
            }
          },
          "metadata": {}
        }
      ]
    },
    {
      "cell_type": "code",
      "metadata": {
        "id": "WSl2snPOhsTz"
      },
      "source": [
        "\n",
        "def encode_dataset(dataset: datasets.arrow_dataset.Dataset) -> list:\n",
        "  '''\n",
        "  Transforming each instance of the dataset with the Tokenizer\n",
        "  '''\n",
        "  encoded_dataset = []\n",
        "  for item in dataset:\n",
        "    # Tokenize the sentence.\n",
        "    sentence_encoded = tokenizer(item['text'],\n",
        "                                return_tensors=\"pt\", \n",
        "                                padding='max_length', \n",
        "                                truncation=True, \n",
        "                                max_length=50)\n",
        "    \n",
        "    sentence_encoded['labels'] = torch.LongTensor(np.array([item['label']]))\n",
        "    encoded_dataset.append(sentence_encoded)\n",
        "\n",
        "  # Reduce dimensionality of tensors.\n",
        "  for item in encoded_dataset:\n",
        "    for key in item:\n",
        "      item[key] = torch.squeeze(item[key])\n",
        "  return encoded_dataset"
      ],
      "execution_count": 13,
      "outputs": []
    },
    {
      "cell_type": "code",
      "metadata": {
        "id": "YoJQmMbvH1TH"
      },
      "source": [
        "# Tokenizing datasets\n",
        "encoded_dataset_train = encode_dataset(train_ds)\n",
        "encoded_dataset_dev = encode_dataset(dev_ds)\n",
        "encoded_dataset_test = encode_dataset(test_ds)\n"
      ],
      "execution_count": 14,
      "outputs": []
    },
    {
      "cell_type": "code",
      "metadata": {
        "id": "7kip0P3Dqb3x",
        "colab": {
          "base_uri": "https://localhost:8080/"
        },
        "outputId": "1b5511f9-1368-4f42-e98d-83e2fdd2744a"
      },
      "source": [
        "# Example of dataset\n",
        "for token, token_label in zip(tokenizer.convert_ids_to_tokens(encoded_dataset_train[50][\"input_ids\"]), encoded_dataset_train[50][\"input_ids\"]):\n",
        "  print('{0:10}  {1}'.format(token, token_label))"
      ],
      "execution_count": 15,
      "outputs": [
        {
          "output_type": "stream",
          "name": "stdout",
          "text": [
            "[CLS]       102\n",
            "I           184\n",
            "an          221\n",
            "1970        12365\n",
            ",           1307\n",
            "cia         2718\n",
            "##m         30889\n",
            "##ê         31028\n",
            "an          221\n",
            "Est         11965\n",
            "##à         30914\n",
            "##n         30880\n",
            "##ta        115\n",
            ",           1307\n",
            "i           134\n",
            "[UNK]       101\n",
            "chi         524\n",
            "[UNK]       101\n",
            "an          221\n",
            "ch          471\n",
            "'           1553\n",
            "i           134\n",
            "partì       22841\n",
            "##sen       6775\n",
            "da          203\n",
            "'           1553\n",
            "l           181\n",
            "1970        12365\n",
            "inf         1238\n",
            "##ì         30946\n",
            "##n         30880\n",
            "a           111\n",
            "'           1553\n",
            "l           181\n",
            "1979        10542\n",
            "cia         2718\n",
            "##p         30888\n",
            "##ê         31028\n",
            "dèi         28237\n",
            "##nte       1696\n",
            "##r         30882\n",
            ".           697\n",
            "[SEP]       103\n",
            "[PAD]       0\n",
            "[PAD]       0\n",
            "[PAD]       0\n",
            "[PAD]       0\n",
            "[PAD]       0\n",
            "[PAD]       0\n",
            "[PAD]       0\n"
          ]
        }
      ]
    },
    {
      "cell_type": "markdown",
      "metadata": {
        "id": "ykLCWLBX6elf"
      },
      "source": [
        "# Fine tunning of the model"
      ]
    },
    {
      "cell_type": "code",
      "metadata": {
        "id": "k99EV8x3J-uz",
        "colab": {
          "base_uri": "https://localhost:8080/",
          "height": 1000,
          "referenced_widgets": [
            "da440dde5cfc42e79e77c4c4bb4ed8bc",
            "e89aab4566b44cde82c0701a27768983",
            "76285b41eedc4e10841f00a1bd2b90f9",
            "8fee247cd46e4def881263dbe0509069",
            "df29a0cd76cb47aa9c03861dd768bc5c",
            "50334a8034c5404faecfbb6b0e05f0a8",
            "97dcf3381d39412eb5532bdb35c5375a",
            "952ed16c4afc4e25990fa67fc3fbf3fc",
            "403223a4de1646e9b7fb28df5fb3ddde",
            "8dee908466fe4d229ad62a7a06b495f2",
            "8565e966de9c40cabde825a5fd9651b2"
          ]
        },
        "outputId": "83384e04-e15b-422a-eb13-a27c4954d5c8"
      },
      "source": [
        "# Common training arguments\n",
        "training_args = TrainingArguments(\n",
        "    num_train_epochs=2,\n",
        "    per_device_train_batch_size=128,\n",
        "    per_device_eval_batch_size=128,\n",
        "    logging_dir='logs',\n",
        "    no_cuda=False,  \n",
        "    output_dir = 'drive/MyDrive/eth_CS4NLP/project',\n",
        ")\n",
        "\n",
        "# Dictionary to save the results\n",
        "models_performance ={}\n",
        "\n",
        "# FINE TUNING PROCESS\n",
        "\n",
        "# create model\n",
        "#model = XLNetForSequenceClassification.from_pretrained(model_name, num_labels=num_labels)\n",
        "model = AutoModelForSequenceClassification.from_pretrained(model_name,  num_labels=num_labels)#,class_weights=[1, 1, 1, 1, 1, 1, 0.38, 1, 0.66, 1, 1] )\n",
        "#0:1, 1:1, 2:1, 3:1, 4:1, 5:1, 6:0.38, 7:1, 8:0.66, 9:1, 10:1\n",
        "\n",
        "'''model.transformer.mask_emb.requires_grad = False\n",
        "model.transformer.word_embedding.weight.requires_grad = False\n",
        "for name, param in model.transformer.layer.named_parameters():\n",
        "  try:\n",
        "    layer = int(name[:2])\n",
        "  except ValueError:\n",
        "    try:\n",
        "      layer = int(name[:1])\n",
        "    except ValueError:\n",
        "      layer = 0\n",
        "  if layer <= 20:\n",
        "    param.requires_grad = False'''\n",
        "\n",
        "\n",
        "# Create trainer\n",
        "trainer = Trainer(\n",
        "    model=model,\n",
        "    tokenizer=tokenizer,\n",
        "    args=training_args,\n",
        "    train_dataset=encoded_dataset_train,)\n",
        "\n",
        "# Fine tunning\n",
        "trainer.train()\n"
      ],
      "execution_count": 16,
      "outputs": [
        {
          "output_type": "display_data",
          "data": {
            "text/plain": [
              "Downloading:   0%|          | 0.00/425M [00:00<?, ?B/s]"
            ],
            "application/vnd.jupyter.widget-view+json": {
              "version_major": 2,
              "version_minor": 0,
              "model_id": "da440dde5cfc42e79e77c4c4bb4ed8bc"
            }
          },
          "metadata": {}
        },
        {
          "output_type": "stream",
          "name": "stderr",
          "text": [
            "Some weights of the model checkpoint at dbmdz/bert-base-italian-xxl-cased were not used when initializing BertForSequenceClassification: ['cls.predictions.transform.dense.bias', 'cls.seq_relationship.weight', 'cls.predictions.transform.LayerNorm.weight', 'cls.predictions.decoder.weight', 'cls.predictions.bias', 'cls.predictions.decoder.bias', 'cls.seq_relationship.bias', 'cls.predictions.transform.dense.weight', 'cls.predictions.transform.LayerNorm.bias']\n",
            "- This IS expected if you are initializing BertForSequenceClassification from the checkpoint of a model trained on another task or with another architecture (e.g. initializing a BertForSequenceClassification model from a BertForPreTraining model).\n",
            "- This IS NOT expected if you are initializing BertForSequenceClassification from the checkpoint of a model that you expect to be exactly identical (initializing a BertForSequenceClassification model from a BertForSequenceClassification model).\n",
            "Some weights of BertForSequenceClassification were not initialized from the model checkpoint at dbmdz/bert-base-italian-xxl-cased and are newly initialized: ['classifier.bias', 'classifier.weight']\n",
            "You should probably TRAIN this model on a down-stream task to be able to use it for predictions and inference.\n",
            "/usr/local/lib/python3.7/dist-packages/transformers/optimization.py:310: FutureWarning: This implementation of AdamW is deprecated and will be removed in a future version. Use the PyTorch implementation torch.optim.AdamW instead, or set `no_deprecation_warning=True` to disable this warning\n",
            "  FutureWarning,\n",
            "***** Running training *****\n",
            "  Num examples = 251761\n",
            "  Num Epochs = 2\n",
            "  Instantaneous batch size per device = 128\n",
            "  Total train batch size (w. parallel, distributed & accumulation) = 128\n",
            "  Gradient Accumulation steps = 1\n",
            "  Total optimization steps = 3934\n"
          ]
        },
        {
          "output_type": "display_data",
          "data": {
            "text/plain": [
              "<IPython.core.display.HTML object>"
            ],
            "text/html": [
              "\n",
              "    <div>\n",
              "      \n",
              "      <progress value='3934' max='3934' style='width:300px; height:20px; vertical-align: middle;'></progress>\n",
              "      [3934/3934 36:09, Epoch 2/2]\n",
              "    </div>\n",
              "    <table border=\"1\" class=\"dataframe\">\n",
              "  <thead>\n",
              " <tr style=\"text-align: left;\">\n",
              "      <th>Step</th>\n",
              "      <th>Training Loss</th>\n",
              "    </tr>\n",
              "  </thead>\n",
              "  <tbody>\n",
              "    <tr>\n",
              "      <td>500</td>\n",
              "      <td>0.133600</td>\n",
              "    </tr>\n",
              "    <tr>\n",
              "      <td>1000</td>\n",
              "      <td>0.027700</td>\n",
              "    </tr>\n",
              "    <tr>\n",
              "      <td>1500</td>\n",
              "      <td>0.023200</td>\n",
              "    </tr>\n",
              "    <tr>\n",
              "      <td>2000</td>\n",
              "      <td>0.016700</td>\n",
              "    </tr>\n",
              "    <tr>\n",
              "      <td>2500</td>\n",
              "      <td>0.008200</td>\n",
              "    </tr>\n",
              "    <tr>\n",
              "      <td>3000</td>\n",
              "      <td>0.009300</td>\n",
              "    </tr>\n",
              "    <tr>\n",
              "      <td>3500</td>\n",
              "      <td>0.006700</td>\n",
              "    </tr>\n",
              "  </tbody>\n",
              "</table><p>"
            ]
          },
          "metadata": {}
        },
        {
          "output_type": "stream",
          "name": "stderr",
          "text": [
            "Saving model checkpoint to drive/MyDrive/eth_CS4NLP/project/checkpoint-500\n",
            "Configuration saved in drive/MyDrive/eth_CS4NLP/project/checkpoint-500/config.json\n",
            "Model weights saved in drive/MyDrive/eth_CS4NLP/project/checkpoint-500/pytorch_model.bin\n",
            "tokenizer config file saved in drive/MyDrive/eth_CS4NLP/project/checkpoint-500/tokenizer_config.json\n",
            "Special tokens file saved in drive/MyDrive/eth_CS4NLP/project/checkpoint-500/special_tokens_map.json\n",
            "Saving model checkpoint to drive/MyDrive/eth_CS4NLP/project/checkpoint-1000\n",
            "Configuration saved in drive/MyDrive/eth_CS4NLP/project/checkpoint-1000/config.json\n",
            "Model weights saved in drive/MyDrive/eth_CS4NLP/project/checkpoint-1000/pytorch_model.bin\n",
            "tokenizer config file saved in drive/MyDrive/eth_CS4NLP/project/checkpoint-1000/tokenizer_config.json\n",
            "Special tokens file saved in drive/MyDrive/eth_CS4NLP/project/checkpoint-1000/special_tokens_map.json\n",
            "Saving model checkpoint to drive/MyDrive/eth_CS4NLP/project/checkpoint-1500\n",
            "Configuration saved in drive/MyDrive/eth_CS4NLP/project/checkpoint-1500/config.json\n",
            "Model weights saved in drive/MyDrive/eth_CS4NLP/project/checkpoint-1500/pytorch_model.bin\n",
            "tokenizer config file saved in drive/MyDrive/eth_CS4NLP/project/checkpoint-1500/tokenizer_config.json\n",
            "Special tokens file saved in drive/MyDrive/eth_CS4NLP/project/checkpoint-1500/special_tokens_map.json\n",
            "Saving model checkpoint to drive/MyDrive/eth_CS4NLP/project/checkpoint-2000\n",
            "Configuration saved in drive/MyDrive/eth_CS4NLP/project/checkpoint-2000/config.json\n",
            "Model weights saved in drive/MyDrive/eth_CS4NLP/project/checkpoint-2000/pytorch_model.bin\n",
            "tokenizer config file saved in drive/MyDrive/eth_CS4NLP/project/checkpoint-2000/tokenizer_config.json\n",
            "Special tokens file saved in drive/MyDrive/eth_CS4NLP/project/checkpoint-2000/special_tokens_map.json\n",
            "Saving model checkpoint to drive/MyDrive/eth_CS4NLP/project/checkpoint-2500\n",
            "Configuration saved in drive/MyDrive/eth_CS4NLP/project/checkpoint-2500/config.json\n",
            "Model weights saved in drive/MyDrive/eth_CS4NLP/project/checkpoint-2500/pytorch_model.bin\n",
            "tokenizer config file saved in drive/MyDrive/eth_CS4NLP/project/checkpoint-2500/tokenizer_config.json\n",
            "Special tokens file saved in drive/MyDrive/eth_CS4NLP/project/checkpoint-2500/special_tokens_map.json\n",
            "Saving model checkpoint to drive/MyDrive/eth_CS4NLP/project/checkpoint-3000\n",
            "Configuration saved in drive/MyDrive/eth_CS4NLP/project/checkpoint-3000/config.json\n",
            "Model weights saved in drive/MyDrive/eth_CS4NLP/project/checkpoint-3000/pytorch_model.bin\n",
            "tokenizer config file saved in drive/MyDrive/eth_CS4NLP/project/checkpoint-3000/tokenizer_config.json\n",
            "Special tokens file saved in drive/MyDrive/eth_CS4NLP/project/checkpoint-3000/special_tokens_map.json\n",
            "Saving model checkpoint to drive/MyDrive/eth_CS4NLP/project/checkpoint-3500\n",
            "Configuration saved in drive/MyDrive/eth_CS4NLP/project/checkpoint-3500/config.json\n",
            "Model weights saved in drive/MyDrive/eth_CS4NLP/project/checkpoint-3500/pytorch_model.bin\n",
            "tokenizer config file saved in drive/MyDrive/eth_CS4NLP/project/checkpoint-3500/tokenizer_config.json\n",
            "Special tokens file saved in drive/MyDrive/eth_CS4NLP/project/checkpoint-3500/special_tokens_map.json\n",
            "\n",
            "\n",
            "Training completed. Do not forget to share your model on huggingface.co/models =)\n",
            "\n",
            "\n"
          ]
        },
        {
          "output_type": "execute_result",
          "data": {
            "text/plain": [
              "TrainOutput(global_step=3934, training_loss=0.029329269988075026, metrics={'train_runtime': 2170.4675, 'train_samples_per_second': 231.988, 'train_steps_per_second': 1.813, 'total_flos': 1.29387607768866e+16, 'train_loss': 0.029329269988075026, 'epoch': 2.0})"
            ]
          },
          "metadata": {},
          "execution_count": 16
        }
      ]
    },
    {
      "cell_type": "markdown",
      "metadata": {
        "id": "sF73PIb58Ddh"
      },
      "source": [
        "# Models evaluation"
      ]
    },
    {
      "cell_type": "code",
      "metadata": {
        "id": "IWjv2M1eOf6E"
      },
      "source": [
        "# Get the predicted labels\n",
        "preds = trainer.predict(encoded_dataset_dev)\n",
        "predictions = preds.predictions.argmax(-1)\n",
        "\n",
        "# Create array with predicted labels and expected.\n",
        "true_values = np.array(preds.label_ids).flatten()\n",
        "predicted_values = np.array(preds.predictions.argmax(-1)).flatten()\n",
        "\n",
        "# Filter the labels. We only produce a label for each word. We filter labels\n",
        "# of subwords and special tokens, such as PAD\n",
        "proc_predicted_values = [prediction for prediction, label in zip(predicted_values, true_values) if label != -100]\n",
        "proc_true_values = [label for prediction, label in zip(predicted_values, true_values) if label != -100]\n",
        "\n",
        "# Evaluate models\n",
        "model_performance = {}\n",
        "model_performance['accuracy'] = accuracy_score(proc_true_values, proc_predicted_values)\n",
        "model_performance['precision_micro'] = precision_score(proc_true_values, proc_predicted_values, average='micro')\n",
        "model_performance['precision_macro'] = precision_score(proc_true_values, proc_predicted_values, average='macro')\n",
        "model_performance['recall_micro'] = recall_score(proc_true_values, proc_predicted_values, average='micro')\n",
        "model_performance['recall_macro'] = recall_score(proc_true_values, proc_predicted_values, average='macro')\n",
        "model_performance['f1_micro'] = f1_score(proc_true_values, proc_predicted_values, average='micro')\n",
        "model_performance['f1_macro'] = f1_score(proc_true_values, proc_predicted_values, average='macro')\n",
        "\n",
        "model_performance['confusion_matrix'] = confusion_matrix(proc_true_values, proc_predicted_values)\n",
        "model_performance['confusion_matrix_normalized'] = confusion_matrix(proc_true_values, proc_predicted_values, normalize='true')"
      ],
      "execution_count": null,
      "outputs": []
    },
    {
      "cell_type": "code",
      "metadata": {
        "id": "mIO4C4BI2AyB"
      },
      "source": [
        "model_performance"
      ],
      "execution_count": null,
      "outputs": []
    },
    {
      "cell_type": "markdown",
      "metadata": {
        "id": "YUb4rYtp8Kuf"
      },
      "source": [
        "F1-micro and F1-macro for each model"
      ]
    },
    {
      "cell_type": "code",
      "metadata": {
        "id": "YsBFUoukwl-r"
      },
      "source": [
        "print('------------Model performance------------')\n",
        "print(f'  accuracy: {model_performance[\"accuracy\"]}')\n",
        "print(f'  f1-micro: {model_performance[\"f1_micro\"]}')\n",
        "print(f'  f1-macro: {model_performance[\"f1_macro\"]}')\n",
        "print(f'  precision_macro: {model_performance[\"precision_macro\"]}')\n",
        "print(f'  precision_micro: {model_performance[\"precision_micro\"]}')\n",
        "print(f'  recall_macro: {model_performance[\"recall_macro\"]}')\n",
        "print(f'  recall_micro: {model_performance[\"recall_micro\"]}')\n",
        "print()"
      ],
      "execution_count": null,
      "outputs": []
    },
    {
      "cell_type": "code",
      "source": [
        "pred_df = pd.DataFrame({'pred_label':predicted_values})\n",
        "pred_df"
      ],
      "metadata": {
        "id": "uHBnvWQM8Vwd"
      },
      "execution_count": null,
      "outputs": []
    },
    {
      "cell_type": "code",
      "source": [
        "from google.colab import files\n",
        "pred_df.to_csv('new_pred_dbmdz_bert-base-italian-xxl-cased.csv',index=False)\n",
        "files.download('new_pred_dbmdz_bert-base-italian-xxl-cased.csv')"
      ],
      "metadata": {
        "id": "NohOghez9V-0"
      },
      "execution_count": null,
      "outputs": []
    },
    {
      "cell_type": "markdown",
      "source": [
        "# Model Prediction"
      ],
      "metadata": {
        "id": "GZebNXYFgcRv"
      }
    },
    {
      "cell_type": "code",
      "source": [
        "# Get the predicted labels\n",
        "preds = trainer.predict(encoded_dataset_test)\n",
        "predictions = preds.predictions.argmax(-1)\n",
        "\n",
        "# Create array with predicted labels and expected.\n",
        "true_values = np.array(preds.label_ids).flatten()\n",
        "predicted_values = np.array(preds.predictions.argmax(-1)).flatten()"
      ],
      "metadata": {
        "id": "xsnjV-nfgezh",
        "colab": {
          "base_uri": "https://localhost:8080/",
          "height": 92
        },
        "outputId": "41c5eaa0-7c80-43dc-a365-b774dbca498a"
      },
      "execution_count": 17,
      "outputs": [
        {
          "output_type": "stream",
          "name": "stderr",
          "text": [
            "***** Running Prediction *****\n",
            "  Num examples = 11087\n",
            "  Batch size = 128\n"
          ]
        },
        {
          "output_type": "display_data",
          "data": {
            "text/plain": [
              "<IPython.core.display.HTML object>"
            ],
            "text/html": [
              "\n",
              "    <div>\n",
              "      \n",
              "      <progress value='87' max='87' style='width:300px; height:20px; vertical-align: middle;'></progress>\n",
              "      [87/87 00:15]\n",
              "    </div>\n",
              "    "
            ]
          },
          "metadata": {}
        }
      ]
    },
    {
      "cell_type": "code",
      "source": [
        "pred_test = pd.DataFrame({'pred_label':predicted_values})\n",
        "from google.colab import files\n",
        "pred_test.to_csv('finalbert_test_pred.csv',index=False)\n",
        "files.download('finalbert_test_pred.csv')"
      ],
      "metadata": {
        "id": "Xw8OLH5IkBjp",
        "colab": {
          "base_uri": "https://localhost:8080/",
          "height": 17
        },
        "outputId": "4bfce9a2-cf53-4411-bc0f-1fd4e406d3b9"
      },
      "execution_count": 19,
      "outputs": [
        {
          "output_type": "display_data",
          "data": {
            "text/plain": [
              "<IPython.core.display.Javascript object>"
            ],
            "application/javascript": [
              "\n",
              "    async function download(id, filename, size) {\n",
              "      if (!google.colab.kernel.accessAllowed) {\n",
              "        return;\n",
              "      }\n",
              "      const div = document.createElement('div');\n",
              "      const label = document.createElement('label');\n",
              "      label.textContent = `Downloading \"${filename}\": `;\n",
              "      div.appendChild(label);\n",
              "      const progress = document.createElement('progress');\n",
              "      progress.max = size;\n",
              "      div.appendChild(progress);\n",
              "      document.body.appendChild(div);\n",
              "\n",
              "      const buffers = [];\n",
              "      let downloaded = 0;\n",
              "\n",
              "      const channel = await google.colab.kernel.comms.open(id);\n",
              "      // Send a message to notify the kernel that we're ready.\n",
              "      channel.send({})\n",
              "\n",
              "      for await (const message of channel.messages) {\n",
              "        // Send a message to notify the kernel that we're ready.\n",
              "        channel.send({})\n",
              "        if (message.buffers) {\n",
              "          for (const buffer of message.buffers) {\n",
              "            buffers.push(buffer);\n",
              "            downloaded += buffer.byteLength;\n",
              "            progress.value = downloaded;\n",
              "          }\n",
              "        }\n",
              "      }\n",
              "      const blob = new Blob(buffers, {type: 'application/binary'});\n",
              "      const a = document.createElement('a');\n",
              "      a.href = window.URL.createObjectURL(blob);\n",
              "      a.download = filename;\n",
              "      div.appendChild(a);\n",
              "      a.click();\n",
              "      div.remove();\n",
              "    }\n",
              "  "
            ]
          },
          "metadata": {}
        },
        {
          "output_type": "display_data",
          "data": {
            "text/plain": [
              "<IPython.core.display.Javascript object>"
            ],
            "application/javascript": [
              "download(\"download_fc71271c-ad60-4670-a434-b7c7a61949ea\", \"finalbert_test_pred.csv\", 22627)"
            ]
          },
          "metadata": {}
        }
      ]
    },
    {
      "cell_type": "code",
      "source": [
        "from numpy import savetxt\n",
        "# save to csv file\n",
        "savetxt('logit.csv', logits, delimiter=',')\n",
        "files.download('logit.csv')"
      ],
      "metadata": {
        "colab": {
          "base_uri": "https://localhost:8080/",
          "height": 17
        },
        "id": "JVIp-fBjCDHa",
        "outputId": "2e934cf9-7a2d-4875-a528-da51978ed3d9"
      },
      "execution_count": 61,
      "outputs": [
        {
          "output_type": "display_data",
          "data": {
            "text/plain": [
              "<IPython.core.display.Javascript object>"
            ],
            "application/javascript": [
              "\n",
              "    async function download(id, filename, size) {\n",
              "      if (!google.colab.kernel.accessAllowed) {\n",
              "        return;\n",
              "      }\n",
              "      const div = document.createElement('div');\n",
              "      const label = document.createElement('label');\n",
              "      label.textContent = `Downloading \"${filename}\": `;\n",
              "      div.appendChild(label);\n",
              "      const progress = document.createElement('progress');\n",
              "      progress.max = size;\n",
              "      div.appendChild(progress);\n",
              "      document.body.appendChild(div);\n",
              "\n",
              "      const buffers = [];\n",
              "      let downloaded = 0;\n",
              "\n",
              "      const channel = await google.colab.kernel.comms.open(id);\n",
              "      // Send a message to notify the kernel that we're ready.\n",
              "      channel.send({})\n",
              "\n",
              "      for await (const message of channel.messages) {\n",
              "        // Send a message to notify the kernel that we're ready.\n",
              "        channel.send({})\n",
              "        if (message.buffers) {\n",
              "          for (const buffer of message.buffers) {\n",
              "            buffers.push(buffer);\n",
              "            downloaded += buffer.byteLength;\n",
              "            progress.value = downloaded;\n",
              "          }\n",
              "        }\n",
              "      }\n",
              "      const blob = new Blob(buffers, {type: 'application/binary'});\n",
              "      const a = document.createElement('a');\n",
              "      a.href = window.URL.createObjectURL(blob);\n",
              "      a.download = filename;\n",
              "      div.appendChild(a);\n",
              "      a.click();\n",
              "      div.remove();\n",
              "    }\n",
              "  "
            ]
          },
          "metadata": {}
        },
        {
          "output_type": "display_data",
          "data": {
            "text/plain": [
              "<IPython.core.display.Javascript object>"
            ],
            "application/javascript": [
              "download(\"download_78bffd56-b66d-4d13-8640-1c10c34b5e0f\", \"logit.csv\", 3137830)"
            ]
          },
          "metadata": {}
        }
      ]
    },
    {
      "cell_type": "code",
      "source": [
        "#softmax on the logits\n",
        "qa = preds[0]\n",
        "for i in range (3):\n",
        "  input_array = qa[i]\n",
        "  input = torch.from_numpy(input_array)\n",
        "  m = nn.Softmax()\n",
        "  qa[i] = m(input)\n",
        "  from numpy import savetxt\n",
        "savetxt('logit_softmax.csv', qa, delimiter=',')\n",
        "files.download('logit_softmax.csv')"
      ],
      "metadata": {
        "colab": {
          "base_uri": "https://localhost:8080/"
        },
        "id": "HNIWnUcVB4bY",
        "outputId": "f33cab88-4beb-4cc5-cbcd-4e96adb0684d"
      },
      "execution_count": 73,
      "outputs": [
        {
          "output_type": "stream",
          "name": "stderr",
          "text": [
            "/usr/local/lib/python3.7/dist-packages/ipykernel_launcher.py:6: UserWarning: Implicit dimension choice for softmax has been deprecated. Change the call to include dim=X as an argument.\n",
            "  \n"
          ]
        }
      ]
    },
    {
      "cell_type": "code",
      "source": [
        "arrayA = preds[0]\n",
        "arrayB = predictions\n",
        "df_preds = pd.DataFrame(zip(arrayA, arrayB), columns=['logits','predicted_label'])\n",
        "df_preds.head(3)\n",
        "'''df_preds.to_csv('finalbert_probability.csv',index=False)\n",
        "files.download('finalbert_probability.csv')'''"
      ],
      "metadata": {
        "colab": {
          "base_uri": "https://localhost:8080/",
          "height": 36
        },
        "id": "CIoD-m9e4S1l",
        "outputId": "215b5700-9646-4283-e8b8-2f497a2835a4"
      },
      "execution_count": 42,
      "outputs": [
        {
          "output_type": "execute_result",
          "data": {
            "text/plain": [
              "\"df_preds.to_csv('finalbert_probability.csv',index=False)\\nfiles.download('finalbert_probability.csv')\""
            ],
            "application/vnd.google.colaboratory.intrinsic+json": {
              "type": "string"
            }
          },
          "metadata": {},
          "execution_count": 42
        }
      ]
    },
    {
      "cell_type": "code",
      "source": [
        " \n",
        "qa = pd.read_csv('/content/logit.csv')\n",
        "qa.head()"
      ],
      "metadata": {
        "colab": {
          "base_uri": "https://localhost:8080/",
          "height": 287
        },
        "id": "3oVGXkqDI2qO",
        "outputId": "9002185a-a688-4354-b864-3813be559d45"
      },
      "execution_count": 63,
      "outputs": [
        {
          "output_type": "execute_result",
          "data": {
            "text/plain": [
              "   -2.127698659896850586e+00  -4.896732568740844727e-01  \\\n",
              "0                   4.734923                  -2.860902   \n",
              "1                  -0.503288                  -1.257475   \n",
              "2                  -1.603751                   0.753515   \n",
              "3                  -0.798203                  -1.060067   \n",
              "4                  -1.266560                   5.491029   \n",
              "\n",
              "   -2.544776678085327148e+00  2.180627137422561646e-01  \\\n",
              "0                   0.278604                 -1.951446   \n",
              "1                  -0.957177                  9.129163   \n",
              "2                   0.793998                 -0.730342   \n",
              "3                  -0.682767                  9.140423   \n",
              "4                  -1.821992                 -0.333703   \n",
              "\n",
              "   -3.567491054534912109e+00  3.186703622341156006e-01  \\\n",
              "0                  -0.426649                 -1.604621   \n",
              "1                  -1.378020                 -0.924327   \n",
              "2                  -2.030601                 -1.567282   \n",
              "3                  -0.632034                 -1.430424   \n",
              "4                  -1.902554                 -1.224146   \n",
              "\n",
              "   -8.513054251670837402e-01  -1.167246818542480469e+00  \\\n",
              "0                   1.941120                  -2.621810   \n",
              "1                  -0.794488                  -0.561070   \n",
              "2                  -1.824576                  -0.427938   \n",
              "3                  -0.877635                  -0.686138   \n",
              "4                  -0.800067                   5.875556   \n",
              "\n",
              "   -2.384972572326660156e-01  6.014449596405029297e+00  \\\n",
              "0                  -1.789820                  4.066730   \n",
              "1                  -0.931509                 -1.323981   \n",
              "2                   4.719806                  2.369624   \n",
              "3                  -0.709928                 -1.336049   \n",
              "4                  -0.778336                 -0.495845   \n",
              "\n",
              "   1.599810719490051270e+00  \n",
              "0                 -1.950771  \n",
              "1                 -0.393470  \n",
              "2                 -0.171318  \n",
              "3                 -0.599793  \n",
              "4                 -1.032106  "
            ],
            "text/html": [
              "\n",
              "  <div id=\"df-13bf1773-8d64-4010-9d12-b0f07380c7a8\">\n",
              "    <div class=\"colab-df-container\">\n",
              "      <div>\n",
              "<style scoped>\n",
              "    .dataframe tbody tr th:only-of-type {\n",
              "        vertical-align: middle;\n",
              "    }\n",
              "\n",
              "    .dataframe tbody tr th {\n",
              "        vertical-align: top;\n",
              "    }\n",
              "\n",
              "    .dataframe thead th {\n",
              "        text-align: right;\n",
              "    }\n",
              "</style>\n",
              "<table border=\"1\" class=\"dataframe\">\n",
              "  <thead>\n",
              "    <tr style=\"text-align: right;\">\n",
              "      <th></th>\n",
              "      <th>-2.127698659896850586e+00</th>\n",
              "      <th>-4.896732568740844727e-01</th>\n",
              "      <th>-2.544776678085327148e+00</th>\n",
              "      <th>2.180627137422561646e-01</th>\n",
              "      <th>-3.567491054534912109e+00</th>\n",
              "      <th>3.186703622341156006e-01</th>\n",
              "      <th>-8.513054251670837402e-01</th>\n",
              "      <th>-1.167246818542480469e+00</th>\n",
              "      <th>-2.384972572326660156e-01</th>\n",
              "      <th>6.014449596405029297e+00</th>\n",
              "      <th>1.599810719490051270e+00</th>\n",
              "    </tr>\n",
              "  </thead>\n",
              "  <tbody>\n",
              "    <tr>\n",
              "      <th>0</th>\n",
              "      <td>4.734923</td>\n",
              "      <td>-2.860902</td>\n",
              "      <td>0.278604</td>\n",
              "      <td>-1.951446</td>\n",
              "      <td>-0.426649</td>\n",
              "      <td>-1.604621</td>\n",
              "      <td>1.941120</td>\n",
              "      <td>-2.621810</td>\n",
              "      <td>-1.789820</td>\n",
              "      <td>4.066730</td>\n",
              "      <td>-1.950771</td>\n",
              "    </tr>\n",
              "    <tr>\n",
              "      <th>1</th>\n",
              "      <td>-0.503288</td>\n",
              "      <td>-1.257475</td>\n",
              "      <td>-0.957177</td>\n",
              "      <td>9.129163</td>\n",
              "      <td>-1.378020</td>\n",
              "      <td>-0.924327</td>\n",
              "      <td>-0.794488</td>\n",
              "      <td>-0.561070</td>\n",
              "      <td>-0.931509</td>\n",
              "      <td>-1.323981</td>\n",
              "      <td>-0.393470</td>\n",
              "    </tr>\n",
              "    <tr>\n",
              "      <th>2</th>\n",
              "      <td>-1.603751</td>\n",
              "      <td>0.753515</td>\n",
              "      <td>0.793998</td>\n",
              "      <td>-0.730342</td>\n",
              "      <td>-2.030601</td>\n",
              "      <td>-1.567282</td>\n",
              "      <td>-1.824576</td>\n",
              "      <td>-0.427938</td>\n",
              "      <td>4.719806</td>\n",
              "      <td>2.369624</td>\n",
              "      <td>-0.171318</td>\n",
              "    </tr>\n",
              "    <tr>\n",
              "      <th>3</th>\n",
              "      <td>-0.798203</td>\n",
              "      <td>-1.060067</td>\n",
              "      <td>-0.682767</td>\n",
              "      <td>9.140423</td>\n",
              "      <td>-0.632034</td>\n",
              "      <td>-1.430424</td>\n",
              "      <td>-0.877635</td>\n",
              "      <td>-0.686138</td>\n",
              "      <td>-0.709928</td>\n",
              "      <td>-1.336049</td>\n",
              "      <td>-0.599793</td>\n",
              "    </tr>\n",
              "    <tr>\n",
              "      <th>4</th>\n",
              "      <td>-1.266560</td>\n",
              "      <td>5.491029</td>\n",
              "      <td>-1.821992</td>\n",
              "      <td>-0.333703</td>\n",
              "      <td>-1.902554</td>\n",
              "      <td>-1.224146</td>\n",
              "      <td>-0.800067</td>\n",
              "      <td>5.875556</td>\n",
              "      <td>-0.778336</td>\n",
              "      <td>-0.495845</td>\n",
              "      <td>-1.032106</td>\n",
              "    </tr>\n",
              "  </tbody>\n",
              "</table>\n",
              "</div>\n",
              "      <button class=\"colab-df-convert\" onclick=\"convertToInteractive('df-13bf1773-8d64-4010-9d12-b0f07380c7a8')\"\n",
              "              title=\"Convert this dataframe to an interactive table.\"\n",
              "              style=\"display:none;\">\n",
              "        \n",
              "  <svg xmlns=\"http://www.w3.org/2000/svg\" height=\"24px\"viewBox=\"0 0 24 24\"\n",
              "       width=\"24px\">\n",
              "    <path d=\"M0 0h24v24H0V0z\" fill=\"none\"/>\n",
              "    <path d=\"M18.56 5.44l.94 2.06.94-2.06 2.06-.94-2.06-.94-.94-2.06-.94 2.06-2.06.94zm-11 1L8.5 8.5l.94-2.06 2.06-.94-2.06-.94L8.5 2.5l-.94 2.06-2.06.94zm10 10l.94 2.06.94-2.06 2.06-.94-2.06-.94-.94-2.06-.94 2.06-2.06.94z\"/><path d=\"M17.41 7.96l-1.37-1.37c-.4-.4-.92-.59-1.43-.59-.52 0-1.04.2-1.43.59L10.3 9.45l-7.72 7.72c-.78.78-.78 2.05 0 2.83L4 21.41c.39.39.9.59 1.41.59.51 0 1.02-.2 1.41-.59l7.78-7.78 2.81-2.81c.8-.78.8-2.07 0-2.86zM5.41 20L4 18.59l7.72-7.72 1.47 1.35L5.41 20z\"/>\n",
              "  </svg>\n",
              "      </button>\n",
              "      \n",
              "  <style>\n",
              "    .colab-df-container {\n",
              "      display:flex;\n",
              "      flex-wrap:wrap;\n",
              "      gap: 12px;\n",
              "    }\n",
              "\n",
              "    .colab-df-convert {\n",
              "      background-color: #E8F0FE;\n",
              "      border: none;\n",
              "      border-radius: 50%;\n",
              "      cursor: pointer;\n",
              "      display: none;\n",
              "      fill: #1967D2;\n",
              "      height: 32px;\n",
              "      padding: 0 0 0 0;\n",
              "      width: 32px;\n",
              "    }\n",
              "\n",
              "    .colab-df-convert:hover {\n",
              "      background-color: #E2EBFA;\n",
              "      box-shadow: 0px 1px 2px rgba(60, 64, 67, 0.3), 0px 1px 3px 1px rgba(60, 64, 67, 0.15);\n",
              "      fill: #174EA6;\n",
              "    }\n",
              "\n",
              "    [theme=dark] .colab-df-convert {\n",
              "      background-color: #3B4455;\n",
              "      fill: #D2E3FC;\n",
              "    }\n",
              "\n",
              "    [theme=dark] .colab-df-convert:hover {\n",
              "      background-color: #434B5C;\n",
              "      box-shadow: 0px 1px 3px 1px rgba(0, 0, 0, 0.15);\n",
              "      filter: drop-shadow(0px 1px 2px rgba(0, 0, 0, 0.3));\n",
              "      fill: #FFFFFF;\n",
              "    }\n",
              "  </style>\n",
              "\n",
              "      <script>\n",
              "        const buttonEl =\n",
              "          document.querySelector('#df-13bf1773-8d64-4010-9d12-b0f07380c7a8 button.colab-df-convert');\n",
              "        buttonEl.style.display =\n",
              "          google.colab.kernel.accessAllowed ? 'block' : 'none';\n",
              "\n",
              "        async function convertToInteractive(key) {\n",
              "          const element = document.querySelector('#df-13bf1773-8d64-4010-9d12-b0f07380c7a8');\n",
              "          const dataTable =\n",
              "            await google.colab.kernel.invokeFunction('convertToInteractive',\n",
              "                                                     [key], {});\n",
              "          if (!dataTable) return;\n",
              "\n",
              "          const docLinkHtml = 'Like what you see? Visit the ' +\n",
              "            '<a target=\"_blank\" href=https://colab.research.google.com/notebooks/data_table.ipynb>data table notebook</a>'\n",
              "            + ' to learn more about interactive tables.';\n",
              "          element.innerHTML = '';\n",
              "          dataTable['output_type'] = 'display_data';\n",
              "          await google.colab.output.renderOutput(dataTable, element);\n",
              "          const docLink = document.createElement('div');\n",
              "          docLink.innerHTML = docLinkHtml;\n",
              "          element.appendChild(docLink);\n",
              "        }\n",
              "      </script>\n",
              "    </div>\n",
              "  </div>\n",
              "  "
            ]
          },
          "metadata": {},
          "execution_count": 63
        }
      ]
    }
  ]
}