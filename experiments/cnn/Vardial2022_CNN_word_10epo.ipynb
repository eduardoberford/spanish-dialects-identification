{
  "cells": [
    {
      "cell_type": "code",
      "execution_count": 1,
      "metadata": {
        "id": "ynDK5thyzl_v"
      },
      "outputs": [],
      "source": [
        "import csv\n",
        "import re\n",
        "import numpy as np\n",
        "import pandas as pd\n",
        "import torch\n",
        "import torchvision\n",
        "from torch.utils.data import DataLoader\n",
        "from torch.utils.data import random_split\n",
        "import torch.nn.functional as F"
      ]
    },
    {
      "cell_type": "markdown",
      "metadata": {
        "id": "0woQESUVUZHw"
      },
      "source": [
        "## Loading the data"
      ]
    },
    {
      "cell_type": "code",
      "execution_count": 2,
      "metadata": {
        "id": "YGofMkIy1nJx"
      },
      "outputs": [],
      "source": [
        "torch.cuda.is_available()\n",
        "device = torch.device(\"cuda\")"
      ]
    },
    {
      "cell_type": "code",
      "execution_count": 3,
      "metadata": {
        "colab": {
          "base_uri": "https://localhost:8080/"
        },
        "id": "moouhTPp1rP-",
        "outputId": "b18bb551-be31-473b-b63a-52c2bff39d25"
      },
      "outputs": [
        {
          "output_type": "stream",
          "name": "stdout",
          "text": [
            "Mounted at /content/drive\n",
            "vardial_dev.gdoc  vardial_train_1.csv  vardial_train.gsheet\n",
            "vardial_dev.txt   vardial_train_2.csv\n"
          ]
        }
      ],
      "source": [
        "from google.colab import drive\n",
        "drive.mount('/content/drive')\n",
        "!ls '/content/drive/MyDrive/eth_CS4NLP/project/qadata'"
      ]
    },
    {
      "cell_type": "markdown",
      "metadata": {
        "id": "Oi1JEfiIH0KZ"
      },
      "source": [
        "#### IMPORT devset"
      ]
    },
    {
      "cell_type": "code",
      "execution_count": 4,
      "metadata": {
        "id": "ugy8LyL6I6C6"
      },
      "outputs": [],
      "source": [
        "train_path = '/content/drive/MyDrive/eth_CS4NLP/project/qadata/vardial_train_2.csv'\n",
        "dev_path = '/content/drive/MyDrive/eth_CS4NLP/project/qadata/vardial_dev.txt'"
      ]
    },
    {
      "cell_type": "code",
      "execution_count": 5,
      "metadata": {
        "id": "tXKiy02Y1GwP"
      },
      "outputs": [],
      "source": [
        "#todo: rewrite function, rename list of label\n",
        "#IMPORT devset\n",
        "dial_label = {\n",
        "    0 : 'EML',\n",
        "    1 : 'NAP',\n",
        "    2 : 'PMS',\n",
        "    3 : 'FUR',\n",
        "    4 : 'LLD',\n",
        "    5 : 'LIJ',\n",
        "    6 : 'LMO',\n",
        "    7 : 'ROA_TARA',\n",
        "    8 : 'SCN', \n",
        "    9 : 'VEC',\n",
        "    10 : 'SC'\n",
        "}\n",
        "\n",
        "fold_label = {\n",
        "    'EML' : 0,\n",
        "    'NAP' : 1,\n",
        "    'PMS' : 2,\n",
        "    'FUR' : 3,\n",
        "    'LLD' : 4,\n",
        "    'LIJ' : 5,\n",
        "    'LMO' : 6,\n",
        "    'ROA_TARA' : 7,\n",
        "    'SCN' : 8,\n",
        "    'VEC' : 9,\n",
        "    'SC' : 10\n",
        "}\n",
        "\n",
        "def explain_label(label : int) -> str:\n",
        "    \"\"\" \n",
        "    Given an integer label, convert it to the corresponding string label\n",
        "    :param int label: integer label to be converted\n",
        "    :return: string corresponding to the given label\n",
        "    \"\"\"\n",
        "    return dial_label[label]\n",
        "\n",
        "def encode_label(label : str) -> int:\n",
        "    \"\"\" \n",
        "    Given a string label, encode it to the corresponding index\n",
        "    :param string label: string label to be converted\n",
        "    :return: int corresponding to the given label\n",
        "    \"\"\"\n",
        "    return fold_label[label]"
      ]
    },
    {
      "cell_type": "code",
      "execution_count": 6,
      "metadata": {
        "colab": {
          "base_uri": "https://localhost:8080/",
          "height": 359
        },
        "id": "79rLvXnBItae",
        "outputId": "8bc34afd-5691-4944-9e51-f57a022fa9bd"
      },
      "outputs": [
        {
          "output_type": "execute_result",
          "data": {
            "text/plain": [
              "   label                                               text\n",
              "0      6  Ma te see foeura de coo, ò te me toeuvet in gir?.\n",
              "1      8                              a carni re puvireddi.\n",
              "2      6  L'era on simpatich tradizional appontament con...\n",
              "3      9  Chi un tenpo xè stà zovane adesso se consola b...\n",
              "4      5  ma òua scià no coménse a fâse do mâ da sôlo, a...\n",
              "5      8  ti lassai sula, comu na varca senza vela, a te...\n",
              "6      8                     Nun savi 'a sacrificari nenti.\n",
              "7      8            Na notti chi û senti passari sutta i so\n",
              "8      9  Da seno a mi me par Che no ghe sia rason de ba...\n",
              "9      3  Lis ruedis di fat a corevin dentri de cjarador..."
            ],
            "text/html": [
              "\n",
              "  <div id=\"df-e6691351-3384-4e41-abf2-aa65feab6006\">\n",
              "    <div class=\"colab-df-container\">\n",
              "      <div>\n",
              "<style scoped>\n",
              "    .dataframe tbody tr th:only-of-type {\n",
              "        vertical-align: middle;\n",
              "    }\n",
              "\n",
              "    .dataframe tbody tr th {\n",
              "        vertical-align: top;\n",
              "    }\n",
              "\n",
              "    .dataframe thead th {\n",
              "        text-align: right;\n",
              "    }\n",
              "</style>\n",
              "<table border=\"1\" class=\"dataframe\">\n",
              "  <thead>\n",
              "    <tr style=\"text-align: right;\">\n",
              "      <th></th>\n",
              "      <th>label</th>\n",
              "      <th>text</th>\n",
              "    </tr>\n",
              "  </thead>\n",
              "  <tbody>\n",
              "    <tr>\n",
              "      <th>0</th>\n",
              "      <td>6</td>\n",
              "      <td>Ma te see foeura de coo, ò te me toeuvet in gir?.</td>\n",
              "    </tr>\n",
              "    <tr>\n",
              "      <th>1</th>\n",
              "      <td>8</td>\n",
              "      <td>a carni re puvireddi.</td>\n",
              "    </tr>\n",
              "    <tr>\n",
              "      <th>2</th>\n",
              "      <td>6</td>\n",
              "      <td>L'era on simpatich tradizional appontament con...</td>\n",
              "    </tr>\n",
              "    <tr>\n",
              "      <th>3</th>\n",
              "      <td>9</td>\n",
              "      <td>Chi un tenpo xè stà zovane adesso se consola b...</td>\n",
              "    </tr>\n",
              "    <tr>\n",
              "      <th>4</th>\n",
              "      <td>5</td>\n",
              "      <td>ma òua scià no coménse a fâse do mâ da sôlo, a...</td>\n",
              "    </tr>\n",
              "    <tr>\n",
              "      <th>5</th>\n",
              "      <td>8</td>\n",
              "      <td>ti lassai sula, comu na varca senza vela, a te...</td>\n",
              "    </tr>\n",
              "    <tr>\n",
              "      <th>6</th>\n",
              "      <td>8</td>\n",
              "      <td>Nun savi 'a sacrificari nenti.</td>\n",
              "    </tr>\n",
              "    <tr>\n",
              "      <th>7</th>\n",
              "      <td>8</td>\n",
              "      <td>Na notti chi û senti passari sutta i so</td>\n",
              "    </tr>\n",
              "    <tr>\n",
              "      <th>8</th>\n",
              "      <td>9</td>\n",
              "      <td>Da seno a mi me par Che no ghe sia rason de ba...</td>\n",
              "    </tr>\n",
              "    <tr>\n",
              "      <th>9</th>\n",
              "      <td>3</td>\n",
              "      <td>Lis ruedis di fat a corevin dentri de cjarador...</td>\n",
              "    </tr>\n",
              "  </tbody>\n",
              "</table>\n",
              "</div>\n",
              "      <button class=\"colab-df-convert\" onclick=\"convertToInteractive('df-e6691351-3384-4e41-abf2-aa65feab6006')\"\n",
              "              title=\"Convert this dataframe to an interactive table.\"\n",
              "              style=\"display:none;\">\n",
              "        \n",
              "  <svg xmlns=\"http://www.w3.org/2000/svg\" height=\"24px\"viewBox=\"0 0 24 24\"\n",
              "       width=\"24px\">\n",
              "    <path d=\"M0 0h24v24H0V0z\" fill=\"none\"/>\n",
              "    <path d=\"M18.56 5.44l.94 2.06.94-2.06 2.06-.94-2.06-.94-.94-2.06-.94 2.06-2.06.94zm-11 1L8.5 8.5l.94-2.06 2.06-.94-2.06-.94L8.5 2.5l-.94 2.06-2.06.94zm10 10l.94 2.06.94-2.06 2.06-.94-2.06-.94-.94-2.06-.94 2.06-2.06.94z\"/><path d=\"M17.41 7.96l-1.37-1.37c-.4-.4-.92-.59-1.43-.59-.52 0-1.04.2-1.43.59L10.3 9.45l-7.72 7.72c-.78.78-.78 2.05 0 2.83L4 21.41c.39.39.9.59 1.41.59.51 0 1.02-.2 1.41-.59l7.78-7.78 2.81-2.81c.8-.78.8-2.07 0-2.86zM5.41 20L4 18.59l7.72-7.72 1.47 1.35L5.41 20z\"/>\n",
              "  </svg>\n",
              "      </button>\n",
              "      \n",
              "  <style>\n",
              "    .colab-df-container {\n",
              "      display:flex;\n",
              "      flex-wrap:wrap;\n",
              "      gap: 12px;\n",
              "    }\n",
              "\n",
              "    .colab-df-convert {\n",
              "      background-color: #E8F0FE;\n",
              "      border: none;\n",
              "      border-radius: 50%;\n",
              "      cursor: pointer;\n",
              "      display: none;\n",
              "      fill: #1967D2;\n",
              "      height: 32px;\n",
              "      padding: 0 0 0 0;\n",
              "      width: 32px;\n",
              "    }\n",
              "\n",
              "    .colab-df-convert:hover {\n",
              "      background-color: #E2EBFA;\n",
              "      box-shadow: 0px 1px 2px rgba(60, 64, 67, 0.3), 0px 1px 3px 1px rgba(60, 64, 67, 0.15);\n",
              "      fill: #174EA6;\n",
              "    }\n",
              "\n",
              "    [theme=dark] .colab-df-convert {\n",
              "      background-color: #3B4455;\n",
              "      fill: #D2E3FC;\n",
              "    }\n",
              "\n",
              "    [theme=dark] .colab-df-convert:hover {\n",
              "      background-color: #434B5C;\n",
              "      box-shadow: 0px 1px 3px 1px rgba(0, 0, 0, 0.15);\n",
              "      filter: drop-shadow(0px 1px 2px rgba(0, 0, 0, 0.3));\n",
              "      fill: #FFFFFF;\n",
              "    }\n",
              "  </style>\n",
              "\n",
              "      <script>\n",
              "        const buttonEl =\n",
              "          document.querySelector('#df-e6691351-3384-4e41-abf2-aa65feab6006 button.colab-df-convert');\n",
              "        buttonEl.style.display =\n",
              "          google.colab.kernel.accessAllowed ? 'block' : 'none';\n",
              "\n",
              "        async function convertToInteractive(key) {\n",
              "          const element = document.querySelector('#df-e6691351-3384-4e41-abf2-aa65feab6006');\n",
              "          const dataTable =\n",
              "            await google.colab.kernel.invokeFunction('convertToInteractive',\n",
              "                                                     [key], {});\n",
              "          if (!dataTable) return;\n",
              "\n",
              "          const docLinkHtml = 'Like what you see? Visit the ' +\n",
              "            '<a target=\"_blank\" href=https://colab.research.google.com/notebooks/data_table.ipynb>data table notebook</a>'\n",
              "            + ' to learn more about interactive tables.';\n",
              "          element.innerHTML = '';\n",
              "          dataTable['output_type'] = 'display_data';\n",
              "          await google.colab.output.renderOutput(dataTable, element);\n",
              "          const docLink = document.createElement('div');\n",
              "          docLink.innerHTML = docLinkHtml;\n",
              "          element.appendChild(docLink);\n",
              "        }\n",
              "      </script>\n",
              "    </div>\n",
              "  </div>\n",
              "  "
            ]
          },
          "metadata": {},
          "execution_count": 6
        }
      ],
      "source": [
        "df_dev = pd.read_csv(dev_path, sep = \"\\t\", names=[\"label\", \"text\"])\n",
        "df_dev['label'] = df_dev['label'].apply(encode_label)\n",
        "df_dev = df_dev.fillna('') #convert nan float to emtry string\n",
        "df_dev.head(10)"
      ]
    },
    {
      "cell_type": "markdown",
      "metadata": {
        "id": "HiSKN2JkH3nR"
      },
      "source": [
        "#### trainset"
      ]
    },
    {
      "cell_type": "code",
      "execution_count": 7,
      "metadata": {
        "colab": {
          "base_uri": "https://localhost:8080/",
          "height": 204
        },
        "id": "bRMJtZczzfOl",
        "outputId": "20117899-cf6d-4736-c0ae-938dd152630f"
      },
      "outputs": [
        {
          "output_type": "execute_result",
          "data": {
            "text/plain": [
              "                                                text  label\n",
              "0        Al funsiòuna da 'l 11 ed novèmber dal 2016.      0\n",
              "1  Al 2017  'l è 'n an dal XXI sécol dal Calendàr...      0\n",
              "2  Siligo i è un comun d'la Sardàggna d' 890 abit...      0\n",
              "3  Valparaisol’é na cmûna e la capitèl d'l sud d'...      0\n",
              "4  Queschè 'l è 'n elèinc di povéta ch'i àn scrìt...      0"
            ],
            "text/html": [
              "\n",
              "  <div id=\"df-ad621637-4c69-4f9d-bf33-f6b4f87945e2\">\n",
              "    <div class=\"colab-df-container\">\n",
              "      <div>\n",
              "<style scoped>\n",
              "    .dataframe tbody tr th:only-of-type {\n",
              "        vertical-align: middle;\n",
              "    }\n",
              "\n",
              "    .dataframe tbody tr th {\n",
              "        vertical-align: top;\n",
              "    }\n",
              "\n",
              "    .dataframe thead th {\n",
              "        text-align: right;\n",
              "    }\n",
              "</style>\n",
              "<table border=\"1\" class=\"dataframe\">\n",
              "  <thead>\n",
              "    <tr style=\"text-align: right;\">\n",
              "      <th></th>\n",
              "      <th>text</th>\n",
              "      <th>label</th>\n",
              "    </tr>\n",
              "  </thead>\n",
              "  <tbody>\n",
              "    <tr>\n",
              "      <th>0</th>\n",
              "      <td>Al funsiòuna da 'l 11 ed novèmber dal 2016.</td>\n",
              "      <td>0</td>\n",
              "    </tr>\n",
              "    <tr>\n",
              "      <th>1</th>\n",
              "      <td>Al 2017  'l è 'n an dal XXI sécol dal Calendàr...</td>\n",
              "      <td>0</td>\n",
              "    </tr>\n",
              "    <tr>\n",
              "      <th>2</th>\n",
              "      <td>Siligo i è un comun d'la Sardàggna d' 890 abit...</td>\n",
              "      <td>0</td>\n",
              "    </tr>\n",
              "    <tr>\n",
              "      <th>3</th>\n",
              "      <td>Valparaisol’é na cmûna e la capitèl d'l sud d'...</td>\n",
              "      <td>0</td>\n",
              "    </tr>\n",
              "    <tr>\n",
              "      <th>4</th>\n",
              "      <td>Queschè 'l è 'n elèinc di povéta ch'i àn scrìt...</td>\n",
              "      <td>0</td>\n",
              "    </tr>\n",
              "  </tbody>\n",
              "</table>\n",
              "</div>\n",
              "      <button class=\"colab-df-convert\" onclick=\"convertToInteractive('df-ad621637-4c69-4f9d-bf33-f6b4f87945e2')\"\n",
              "              title=\"Convert this dataframe to an interactive table.\"\n",
              "              style=\"display:none;\">\n",
              "        \n",
              "  <svg xmlns=\"http://www.w3.org/2000/svg\" height=\"24px\"viewBox=\"0 0 24 24\"\n",
              "       width=\"24px\">\n",
              "    <path d=\"M0 0h24v24H0V0z\" fill=\"none\"/>\n",
              "    <path d=\"M18.56 5.44l.94 2.06.94-2.06 2.06-.94-2.06-.94-.94-2.06-.94 2.06-2.06.94zm-11 1L8.5 8.5l.94-2.06 2.06-.94-2.06-.94L8.5 2.5l-.94 2.06-2.06.94zm10 10l.94 2.06.94-2.06 2.06-.94-2.06-.94-.94-2.06-.94 2.06-2.06.94z\"/><path d=\"M17.41 7.96l-1.37-1.37c-.4-.4-.92-.59-1.43-.59-.52 0-1.04.2-1.43.59L10.3 9.45l-7.72 7.72c-.78.78-.78 2.05 0 2.83L4 21.41c.39.39.9.59 1.41.59.51 0 1.02-.2 1.41-.59l7.78-7.78 2.81-2.81c.8-.78.8-2.07 0-2.86zM5.41 20L4 18.59l7.72-7.72 1.47 1.35L5.41 20z\"/>\n",
              "  </svg>\n",
              "      </button>\n",
              "      \n",
              "  <style>\n",
              "    .colab-df-container {\n",
              "      display:flex;\n",
              "      flex-wrap:wrap;\n",
              "      gap: 12px;\n",
              "    }\n",
              "\n",
              "    .colab-df-convert {\n",
              "      background-color: #E8F0FE;\n",
              "      border: none;\n",
              "      border-radius: 50%;\n",
              "      cursor: pointer;\n",
              "      display: none;\n",
              "      fill: #1967D2;\n",
              "      height: 32px;\n",
              "      padding: 0 0 0 0;\n",
              "      width: 32px;\n",
              "    }\n",
              "\n",
              "    .colab-df-convert:hover {\n",
              "      background-color: #E2EBFA;\n",
              "      box-shadow: 0px 1px 2px rgba(60, 64, 67, 0.3), 0px 1px 3px 1px rgba(60, 64, 67, 0.15);\n",
              "      fill: #174EA6;\n",
              "    }\n",
              "\n",
              "    [theme=dark] .colab-df-convert {\n",
              "      background-color: #3B4455;\n",
              "      fill: #D2E3FC;\n",
              "    }\n",
              "\n",
              "    [theme=dark] .colab-df-convert:hover {\n",
              "      background-color: #434B5C;\n",
              "      box-shadow: 0px 1px 3px 1px rgba(0, 0, 0, 0.15);\n",
              "      filter: drop-shadow(0px 1px 2px rgba(0, 0, 0, 0.3));\n",
              "      fill: #FFFFFF;\n",
              "    }\n",
              "  </style>\n",
              "\n",
              "      <script>\n",
              "        const buttonEl =\n",
              "          document.querySelector('#df-ad621637-4c69-4f9d-bf33-f6b4f87945e2 button.colab-df-convert');\n",
              "        buttonEl.style.display =\n",
              "          google.colab.kernel.accessAllowed ? 'block' : 'none';\n",
              "\n",
              "        async function convertToInteractive(key) {\n",
              "          const element = document.querySelector('#df-ad621637-4c69-4f9d-bf33-f6b4f87945e2');\n",
              "          const dataTable =\n",
              "            await google.colab.kernel.invokeFunction('convertToInteractive',\n",
              "                                                     [key], {});\n",
              "          if (!dataTable) return;\n",
              "\n",
              "          const docLinkHtml = 'Like what you see? Visit the ' +\n",
              "            '<a target=\"_blank\" href=https://colab.research.google.com/notebooks/data_table.ipynb>data table notebook</a>'\n",
              "            + ' to learn more about interactive tables.';\n",
              "          element.innerHTML = '';\n",
              "          dataTable['output_type'] = 'display_data';\n",
              "          await google.colab.output.renderOutput(dataTable, element);\n",
              "          const docLink = document.createElement('div');\n",
              "          docLink.innerHTML = docLinkHtml;\n",
              "          element.appendChild(docLink);\n",
              "        }\n",
              "      </script>\n",
              "    </div>\n",
              "  </div>\n",
              "  "
            ]
          },
          "metadata": {},
          "execution_count": 7
        }
      ],
      "source": [
        "df_train = pd.read_csv(train_path)\n",
        "#print(df_train.iloc[5,3])\n",
        "df_train.head()"
      ]
    },
    {
      "cell_type": "code",
      "execution_count": 8,
      "metadata": {
        "id": "YxnRO0dXKNbn"
      },
      "outputs": [],
      "source": [
        "#label sizes\n",
        "label_sizes = df_train.groupby('label').size()\n",
        "# Extract labels\n",
        "final_lang = df_train['label'].unique()\n",
        "#label list\n",
        "train_labels =df_train['label']\n",
        "#todo: clean this to make it fit with the encoding label above"
      ]
    },
    {
      "cell_type": "code",
      "execution_count": 9,
      "metadata": {
        "colab": {
          "base_uri": "https://localhost:8080/"
        },
        "id": "FL23cQ9Lc9rp",
        "outputId": "676906ca-baea-4286-c810-1f2e4b4932eb"
      },
      "outputs": [
        {
          "output_type": "execute_result",
          "data": {
            "text/plain": [
              "label\n",
              "0      7050\n",
              "1     22096\n",
              "2     58602\n",
              "3     13578\n",
              "4     23838\n",
              "5     19137\n",
              "6     85094\n",
              "7     12591\n",
              "8     58915\n",
              "9     54078\n",
              "10    33802\n",
              "dtype: int64"
            ]
          },
          "metadata": {},
          "execution_count": 9
        }
      ],
      "source": [
        "label_sizes"
      ]
    },
    {
      "cell_type": "code",
      "execution_count": 10,
      "metadata": {
        "colab": {
          "base_uri": "https://localhost:8080/",
          "height": 282
        },
        "id": "pCScyDPoe3Sf",
        "outputId": "4e799fd7-a4f1-4f66-894a-2a6d0a92f51b"
      },
      "outputs": [
        {
          "output_type": "execute_result",
          "data": {
            "text/plain": [
              "<matplotlib.axes._subplots.AxesSubplot at 0x7fb22ce50cd0>"
            ]
          },
          "metadata": {},
          "execution_count": 10
        },
        {
          "output_type": "display_data",
          "data": {
            "text/plain": [
              "<Figure size 432x288 with 1 Axes>"
            ],
            "image/png": "[encoded data removed]"
          },
          "metadata": {
            "needs_background": "light"
          }
        }
      ],
      "source": [
        "df_train['label'].hist() #imbalance problem #todo: add number on top? #todo: too much repeating datapoints"
      ]
    },
    {
      "cell_type": "code",
      "execution_count": 11,
      "metadata": {
        "colab": {
          "base_uri": "https://localhost:8080/",
          "height": 204
        },
        "id": "6-H9BrRThzPu",
        "outputId": "bfd8e567-0136-4d0e-d7e3-8100fd4662bb"
      },
      "outputs": [
        {
          "output_type": "execute_result",
          "data": {
            "text/plain": [
              "                                                text  label\n",
              "0        Al funsiòuna da 'l 11 ed novèmber dal 2016.      0\n",
              "1  Al 2017  'l è 'n an dal XXI sécol dal Calendàr...      0\n",
              "2  Siligo i è un comun d'la Sardàggna d' 890 abit...      0\n",
              "3  Valparaisol’é na cmûna e la capitèl d'l sud d'...      0\n",
              "4  Queschè 'l è 'n elèinc di povéta ch'i àn scrìt...      0"
            ],
            "text/html": [
              "\n",
              "  <div id=\"df-88d5bdfb-5ea3-48d4-afb1-eb96f82004f1\">\n",
              "    <div class=\"colab-df-container\">\n",
              "      <div>\n",
              "<style scoped>\n",
              "    .dataframe tbody tr th:only-of-type {\n",
              "        vertical-align: middle;\n",
              "    }\n",
              "\n",
              "    .dataframe tbody tr th {\n",
              "        vertical-align: top;\n",
              "    }\n",
              "\n",
              "    .dataframe thead th {\n",
              "        text-align: right;\n",
              "    }\n",
              "</style>\n",
              "<table border=\"1\" class=\"dataframe\">\n",
              "  <thead>\n",
              "    <tr style=\"text-align: right;\">\n",
              "      <th></th>\n",
              "      <th>text</th>\n",
              "      <th>label</th>\n",
              "    </tr>\n",
              "  </thead>\n",
              "  <tbody>\n",
              "    <tr>\n",
              "      <th>0</th>\n",
              "      <td>Al funsiòuna da 'l 11 ed novèmber dal 2016.</td>\n",
              "      <td>0</td>\n",
              "    </tr>\n",
              "    <tr>\n",
              "      <th>1</th>\n",
              "      <td>Al 2017  'l è 'n an dal XXI sécol dal Calendàr...</td>\n",
              "      <td>0</td>\n",
              "    </tr>\n",
              "    <tr>\n",
              "      <th>2</th>\n",
              "      <td>Siligo i è un comun d'la Sardàggna d' 890 abit...</td>\n",
              "      <td>0</td>\n",
              "    </tr>\n",
              "    <tr>\n",
              "      <th>3</th>\n",
              "      <td>Valparaisol’é na cmûna e la capitèl d'l sud d'...</td>\n",
              "      <td>0</td>\n",
              "    </tr>\n",
              "    <tr>\n",
              "      <th>4</th>\n",
              "      <td>Queschè 'l è 'n elèinc di povéta ch'i àn scrìt...</td>\n",
              "      <td>0</td>\n",
              "    </tr>\n",
              "  </tbody>\n",
              "</table>\n",
              "</div>\n",
              "      <button class=\"colab-df-convert\" onclick=\"convertToInteractive('df-88d5bdfb-5ea3-48d4-afb1-eb96f82004f1')\"\n",
              "              title=\"Convert this dataframe to an interactive table.\"\n",
              "              style=\"display:none;\">\n",
              "        \n",
              "  <svg xmlns=\"http://www.w3.org/2000/svg\" height=\"24px\"viewBox=\"0 0 24 24\"\n",
              "       width=\"24px\">\n",
              "    <path d=\"M0 0h24v24H0V0z\" fill=\"none\"/>\n",
              "    <path d=\"M18.56 5.44l.94 2.06.94-2.06 2.06-.94-2.06-.94-.94-2.06-.94 2.06-2.06.94zm-11 1L8.5 8.5l.94-2.06 2.06-.94-2.06-.94L8.5 2.5l-.94 2.06-2.06.94zm10 10l.94 2.06.94-2.06 2.06-.94-2.06-.94-.94-2.06-.94 2.06-2.06.94z\"/><path d=\"M17.41 7.96l-1.37-1.37c-.4-.4-.92-.59-1.43-.59-.52 0-1.04.2-1.43.59L10.3 9.45l-7.72 7.72c-.78.78-.78 2.05 0 2.83L4 21.41c.39.39.9.59 1.41.59.51 0 1.02-.2 1.41-.59l7.78-7.78 2.81-2.81c.8-.78.8-2.07 0-2.86zM5.41 20L4 18.59l7.72-7.72 1.47 1.35L5.41 20z\"/>\n",
              "  </svg>\n",
              "      </button>\n",
              "      \n",
              "  <style>\n",
              "    .colab-df-container {\n",
              "      display:flex;\n",
              "      flex-wrap:wrap;\n",
              "      gap: 12px;\n",
              "    }\n",
              "\n",
              "    .colab-df-convert {\n",
              "      background-color: #E8F0FE;\n",
              "      border: none;\n",
              "      border-radius: 50%;\n",
              "      cursor: pointer;\n",
              "      display: none;\n",
              "      fill: #1967D2;\n",
              "      height: 32px;\n",
              "      padding: 0 0 0 0;\n",
              "      width: 32px;\n",
              "    }\n",
              "\n",
              "    .colab-df-convert:hover {\n",
              "      background-color: #E2EBFA;\n",
              "      box-shadow: 0px 1px 2px rgba(60, 64, 67, 0.3), 0px 1px 3px 1px rgba(60, 64, 67, 0.15);\n",
              "      fill: #174EA6;\n",
              "    }\n",
              "\n",
              "    [theme=dark] .colab-df-convert {\n",
              "      background-color: #3B4455;\n",
              "      fill: #D2E3FC;\n",
              "    }\n",
              "\n",
              "    [theme=dark] .colab-df-convert:hover {\n",
              "      background-color: #434B5C;\n",
              "      box-shadow: 0px 1px 3px 1px rgba(0, 0, 0, 0.15);\n",
              "      filter: drop-shadow(0px 1px 2px rgba(0, 0, 0, 0.3));\n",
              "      fill: #FFFFFF;\n",
              "    }\n",
              "  </style>\n",
              "\n",
              "      <script>\n",
              "        const buttonEl =\n",
              "          document.querySelector('#df-88d5bdfb-5ea3-48d4-afb1-eb96f82004f1 button.colab-df-convert');\n",
              "        buttonEl.style.display =\n",
              "          google.colab.kernel.accessAllowed ? 'block' : 'none';\n",
              "\n",
              "        async function convertToInteractive(key) {\n",
              "          const element = document.querySelector('#df-88d5bdfb-5ea3-48d4-afb1-eb96f82004f1');\n",
              "          const dataTable =\n",
              "            await google.colab.kernel.invokeFunction('convertToInteractive',\n",
              "                                                     [key], {});\n",
              "          if (!dataTable) return;\n",
              "\n",
              "          const docLinkHtml = 'Like what you see? Visit the ' +\n",
              "            '<a target=\"_blank\" href=https://colab.research.google.com/notebooks/data_table.ipynb>data table notebook</a>'\n",
              "            + ' to learn more about interactive tables.';\n",
              "          element.innerHTML = '';\n",
              "          dataTable['output_type'] = 'display_data';\n",
              "          await google.colab.output.renderOutput(dataTable, element);\n",
              "          const docLink = document.createElement('div');\n",
              "          docLink.innerHTML = docLinkHtml;\n",
              "          element.appendChild(docLink);\n",
              "        }\n",
              "      </script>\n",
              "    </div>\n",
              "  </div>\n",
              "  "
            ]
          },
          "metadata": {},
          "execution_count": 11
        }
      ],
      "source": [
        "df_train_=df_train[['text','label']]\n",
        "df_train_.drop_duplicates(subset ='text',keep = False, inplace = True) \n",
        "df_train_.head()"
      ]
    },
    {
      "cell_type": "code",
      "execution_count": 12,
      "metadata": {
        "colab": {
          "base_uri": "https://localhost:8080/",
          "height": 282
        },
        "id": "wQU6fv6IibyD",
        "outputId": "b8649e2b-5fec-42aa-df62-76d10091085e"
      },
      "outputs": [
        {
          "output_type": "execute_result",
          "data": {
            "text/plain": [
              "<matplotlib.axes._subplots.AxesSubplot at 0x7fb225bdbad0>"
            ]
          },
          "metadata": {},
          "execution_count": 12
        },
        {
          "output_type": "display_data",
          "data": {
            "text/plain": [
              "<Figure size 432x288 with 1 Axes>"
            ],
            "image/png": "[encoded data removed]"
          },
          "metadata": {
            "needs_background": "light"
          }
        }
      ],
      "source": [
        "df_train_['label'].hist() #after remove duplicate, there is change in the distribution of the label 10"
      ]
    },
    {
      "cell_type": "markdown",
      "metadata": {
        "id": "7I_pdht1Usk6"
      },
      "source": [
        "## Preprocessing - Tokenization\n",
        "##### Tokenization \n",
        "\n",
        "Split the text into characters. Tokenizing in **word level**."
      ]
    },
    {
      "cell_type": "code",
      "execution_count": 13,
      "metadata": {
        "colab": {
          "base_uri": "https://localhost:8080/"
        },
        "id": "VVtfVxkKOALn",
        "outputId": "e75cca2e-f67a-48f6-c135-37efd4271586"
      },
      "outputs": [
        {
          "output_type": "stream",
          "name": "stdout",
          "text": [
            "788195\n"
          ]
        }
      ],
      "source": [
        "vocab = set()\n",
        "for sent in df_train.text:\n",
        "    for token in sent.split():\n",
        "        vocab.add(token)\n",
        "print(len(vocab))"
      ]
    },
    {
      "cell_type": "code",
      "execution_count": 14,
      "metadata": {
        "id": "eBG27iSBFZDf"
      },
      "outputs": [],
      "source": [
        "# Map each item in the vocabulary to an index:\n",
        "token_to_idx = {'<pad>': 0, '<unk>': 1}\n",
        "for idx, token in enumerate(vocab, start=2):\n",
        "    token_to_idx[token] = idx\n",
        "idx_to_token = {idx: token for token, idx in token_to_idx.items()}"
      ]
    },
    {
      "cell_type": "code",
      "execution_count": 15,
      "metadata": {
        "id": "tw0050BjHysl"
      },
      "outputs": [],
      "source": [
        "# Define encoding and decoding functions:\n",
        "def encode_sent(sent):\n",
        "    # sentence to token indices\n",
        "    return [token_to_idx.get(token, token_to_idx['<unk>']) for token in sent]\n",
        "\n",
        "def decode_sent(indices):\n",
        "    # token indices to sentence\n",
        "    return [idx_to_token[idx] for idx in indices]\n",
        "\n",
        "def pad_truncate_sent(indices, max_length):\n",
        "    # create a feature vector of max_length\n",
        "    if len(indices) >= max_length:\n",
        "        return indices[:max_length]\n",
        "    return indices + [token_to_idx['<pad>']] * (max_length - len(indices))\n"
      ]
    },
    {
      "cell_type": "markdown",
      "metadata": {
        "id": "Ep7iDJdEXHfD"
      },
      "source": [
        "#####  Prepare encoding the labels: assigning indexes to labels\n"
      ]
    },
    {
      "cell_type": "code",
      "execution_count": 16,
      "metadata": {
        "id": "OnMLLmcyIXSC"
      },
      "outputs": [],
      "source": [
        "# list of languages + unknown (e.g. not in the train set)\n",
        "lang_list = final_lang.tolist() + [\"<unk>\"]\n",
        "\n",
        "# language label to index\n",
        "label_to_idx = {k: v for v, k in enumerate(lang_list)}\n",
        "\n",
        "# index to language lable\n",
        "idx_to_label = {v: k for k, v in label_to_idx.items()}\n",
        "\n",
        "def encode_label(label):\n",
        "    return label_to_idx.get(label, label_to_idx[\"<unk>\"])\n",
        "\n",
        "def decode_label(idx):\n",
        "    return idx_to_label.get(idx, \"<unk>\")"
      ]
    },
    {
      "cell_type": "markdown",
      "metadata": {
        "id": "nouZWS00XL7h"
      },
      "source": [
        "##### Encoding data\n",
        "\n",
        "Encode the data and labels."
      ]
    },
    {
      "cell_type": "code",
      "execution_count": 17,
      "metadata": {
        "id": "2KDYAGqdRgxk"
      },
      "outputs": [],
      "source": [
        "def encode_dataset(data, max_len):\n",
        "    encoded_data = []  # list of tuples (token-indices, label-idx)\n",
        "    label_idx_list = [] #\n",
        "    for index, row in data.iterrows():\n",
        "        i = row.to_dict()\n",
        "        token_indices = pad_truncate_sent(encode_sent(i['text']), max_len)\n",
        "        label_idx = encode_label(i['label'])\n",
        "        encoded_data.append((token_indices, label_idx))\n",
        "        label_idx_list.append(label_idx)\n",
        "    return encoded_data , label_idx_list"
      ]
    },
    {
      "cell_type": "code",
      "execution_count": 18,
      "metadata": {
        "id": "yBcUe2zUS_Xg"
      },
      "outputs": [],
      "source": [
        "max_len = 50 #maximum len of a datapoint\n",
        "encoded_trainset, label_idx_list = encode_dataset(df_train_, max_len=max_len) # label_idx_list"
      ]
    },
    {
      "cell_type": "code",
      "execution_count": 19,
      "metadata": {
        "id": "b8KG94lZk-0d"
      },
      "outputs": [],
      "source": [
        "### ENCODING DEVSET\n",
        "encoded_devset, label_idx_list_dev = encode_dataset(df_dev, max_len=max_len) "
      ]
    },
    {
      "cell_type": "markdown",
      "metadata": {
        "id": "MRcH2PdPpY_z"
      },
      "source": [
        "### Load data "
      ]
    },
    {
      "cell_type": "code",
      "execution_count": 20,
      "metadata": {
        "id": "3Ub3-bUXS8VK"
      },
      "outputs": [],
      "source": [
        "from torch.utils.data.dataset import Dataset\n",
        "class TextDataset(Dataset):\n",
        "\n",
        "    def __init__(self, encoded_data):\n",
        "        self.encoded_data = encoded_data\n",
        "\n",
        "    def __getitem__(self, idx):\n",
        "        token_idxs, label = self.encoded_data[idx]\n",
        "        return torch.LongTensor(token_idxs), label\n",
        "    \n",
        "    def __len__(self):\n",
        "        return len(self.encoded_data)"
      ]
    },
    {
      "cell_type": "code",
      "execution_count": 21,
      "metadata": {
        "id": "OK_cguFzkYMr"
      },
      "outputs": [],
      "source": [
        "trainset = TextDataset(encoded_trainset)\n",
        "valset = TextDataset(encoded_devset)"
      ]
    },
    {
      "cell_type": "markdown",
      "metadata": {
        "id": "SLd26g8eyb7W"
      },
      "source": [
        "### Configure the GPU"
      ]
    },
    {
      "cell_type": "code",
      "execution_count": 22,
      "metadata": {
        "colab": {
          "base_uri": "https://localhost:8080/"
        },
        "id": "b617DSLXQsF_",
        "outputId": "50cc9644-672d-40bb-bc22-28eeccdad4c8"
      },
      "outputs": [
        {
          "output_type": "stream",
          "name": "stdout",
          "text": [
            "1\n",
            "Tesla P100-PCIE-16GB\n"
          ]
        }
      ],
      "source": [
        "print(torch.cuda.device_count())\n",
        "print(torch.cuda.get_device_name(0))\n",
        "cuda = torch.device('cuda')\n",
        "device = cuda if torch.cuda.is_available() else 'cpu'"
      ]
    },
    {
      "cell_type": "code",
      "execution_count": 23,
      "metadata": {
        "colab": {
          "base_uri": "https://localhost:8080/"
        },
        "id": "79mMD_ZcQts2",
        "outputId": "80d61abe-3564-4482-b8e8-ea8618ae6757"
      },
      "outputs": [
        {
          "output_type": "stream",
          "name": "stdout",
          "text": [
            "Vocab size: 788197\n",
            "Num classes: 12\n"
          ]
        }
      ],
      "source": [
        "vocab_size = len(idx_to_token)\n",
        "num_classes = len(label_to_idx)\n",
        "print(\"Vocab size:\", vocab_size)\n",
        "print(\"Num classes:\", num_classes)"
      ]
    },
    {
      "cell_type": "code",
      "execution_count": 24,
      "metadata": {
        "colab": {
          "base_uri": "https://localhost:8080/"
        },
        "id": "5HyBhGwWxu-N",
        "outputId": "8d5eb45c-6666-4219-dd6f-6894436f5455"
      },
      "outputs": [
        {
          "output_type": "stream",
          "name": "stdout",
          "text": [
            "(tensor([ 82397, 268160,      1, 419991, 231981, 559868, 229226, 383167, 226535,\n",
            "        231981, 559868, 470491,      1, 187189, 470491,      1, 672247, 268160,\n",
            "             1, 224448, 224448,      1, 214314, 187189,      1, 559868, 539233,\n",
            "        514332, 778611, 126395, 320815, 214314, 488379,      1, 187189, 470491,\n",
            "        268160,      1, 220314, 495058, 224448, 643269, 188136,      0,      0,\n",
            "             0,      0,      0,      0,      0]), 0)\n"
          ]
        }
      ],
      "source": [
        "for i in range(1): print(trainset[i]) "
      ]
    },
    {
      "cell_type": "markdown",
      "metadata": {
        "id": "g5_D2jPLbjvs"
      },
      "source": [
        "# 2. Define the Convolutional Neural Network"
      ]
    },
    {
      "cell_type": "code",
      "execution_count": 25,
      "metadata": {
        "id": "WIGmK461p6HE"
      },
      "outputs": [],
      "source": [
        "from torch import nn\n",
        "import math\n",
        "\n",
        "\n",
        "class DialectIdentification(nn.Module):\n",
        "\n",
        "    def __init__(self, vocab_size, embedding_size, max_len, num_classes, kernel_size, out_channels, stride, padding, dropout_rate, max_pool_size, cov2_kernel_size):\n",
        "        super(DialectIdentification, self).__init__()\n",
        "\n",
        "        self.out_channels = out_channels\n",
        "        self.vocab_size = vocab_size\n",
        "        self.embedding_size = embedding_size\n",
        "        self.kernel_size = kernel_size\n",
        "        self.stride = stride\n",
        "        self.padding = padding\n",
        "        self.in_channels = 1\n",
        "        self.num_classes = num_classes\n",
        "        self.dropout_rate = dropout_rate\n",
        "        self.max_pool_size = max_pool_size\n",
        "        self.cov2_kernel_size = cov2_kernel_size\n",
        "        \n",
        "        conv_1_out_shape_x = math.floor(((max_len + 2 * padding[0] - (kernel_size[0] - 1) - 1) / stride[0]) + 1)\n",
        "        conv_1_out_shape_y = math.floor(((embedding_size + 2 * padding[1] - (kernel_size[1] - 1) - 1) / stride[1]) + 1)\n",
        "        pool_1_out_shape_x = math.floor(((conv_1_out_shape_x + 2 * padding[0] - (max_pool_size[0] - 1) - 1) / stride[0]) + 1)\n",
        "        pool_1_out_shape_y = math.floor(((conv_1_out_shape_y + 2 * padding[1] - (max_pool_size[1] - 1) - 1) / stride[1]) + 1)\n",
        "        \n",
        "        conv_2_out_shape_x = math.floor((((pool_1_out_shape_x + 2 * padding[0] - (cov2_kernel_size[0] - 1)) - 1) / stride[0]) + 1)\n",
        "        conv_2_out_shape_y = math.floor((((pool_1_out_shape_y + 2 * padding[1] - (cov2_kernel_size[1] - 1)) - 1) / stride[1]) + 1)\n",
        "        pool_2_out_shape_x = math.floor(((conv_2_out_shape_x + 2 * padding[0] - (max_pool_size[0] - 1) - 1) / stride[0]) + 1)\n",
        "        pool_2_out_shape_y = math.floor(((conv_2_out_shape_y + 2 * padding[1] - (max_pool_size[1] - 1) - 1) / stride[1]) + 1)\n",
        "        \n",
        "        self.num_final_features = self.out_channels * pool_2_out_shape_x * pool_2_out_shape_y\n",
        "        self.embeddings = nn.Embedding(vocab_size, embedding_size)\n",
        "        self.conv2d = nn.Conv2d(in_channels=self.in_channels, out_channels=self.out_channels, kernel_size=self.kernel_size, stride=self.stride, padding=self.padding)\n",
        "        self.max_pool2d = nn.MaxPool2d(kernel_size=max_pool_size, stride=self.stride, padding=self.padding)\n",
        "        self.conv2d_2 = nn.Conv2d(in_channels=self.out_channels, out_channels=self.out_channels, kernel_size=self.cov2_kernel_size, stride=self.stride, padding=self.padding)\n",
        "        self.max_pool2d_2 = nn.MaxPool2d(kernel_size=max_pool_size, stride=self.stride, padding=self.padding)\n",
        "        self.linear = nn.Linear(self.num_final_features, self.num_classes)\n",
        "    \n",
        "\n",
        "    def forward(self, inputs):\n",
        "        batchsize = inputs.size()[0]\n",
        "\n",
        "        # (batch-size, max-len, emb-size)\n",
        "        embeddings = self.embeddings(inputs)\n",
        "\n",
        "        # reduce dimensionality of the embeddings\n",
        "        embs_unsq = torch.unsqueeze(embeddings, 1)\n",
        "        \n",
        "        # 1st convolution and relu\n",
        "        conv_out = nn.functional.relu(self.conv2d(embs_unsq))\n",
        "\n",
        "        # 1st max pool\n",
        "        pool_out = self.max_pool2d(conv_out)\n",
        "\n",
        "        # 2nd max convolution and relu\n",
        "        conv_2_out = nn.functional.relu(self.conv2d_2(pool_out))\n",
        "\n",
        "        # 2nd max pooling\n",
        "        pool_out_2 = self.max_pool2d_2(conv_2_out)\n",
        "\n",
        "        # reshape 2d into a vector\n",
        "        pool_out_2_reshaped = pool_out_2.view(-1, self.num_final_features)\n",
        "\n",
        "        # dense layer and softmax\n",
        "        lin_out = self.linear(F.dropout(pool_out_2_reshaped, self.dropout_rate))\n",
        "        log_probs = nn.functional.log_softmax(lin_out, dim=1)\n",
        "        return log_probs"
      ]
    },
    {
      "cell_type": "markdown",
      "metadata": {
        "id": "0vgeWMhifccb"
      },
      "source": [
        "# 3. Define the training function"
      ]
    },
    {
      "cell_type": "code",
      "execution_count": 26,
      "metadata": {
        "colab": {
          "base_uri": "https://localhost:8080/"
        },
        "id": "Tp-5HZDQ826q",
        "outputId": "e6aef203-6487-4736-8770-6dd40a3ab4a7"
      },
      "outputs": [
        {
          "output_type": "stream",
          "name": "stdout",
          "text": [
            "Weights of loss function: tensor([5.0133e+00, 1.5996e+00, 6.0311e-01, 2.6030e+00, 1.4827e+00, 1.8469e+00,\n",
            "        4.1535e-01, 2.8071e+00, 5.9991e-01, 6.5357e-01, 1.0456e+00, 5.0133e+02])\n"
          ]
        }
      ],
      "source": [
        "#assigning weights for Negative Log-Likelihood function\n",
        "from sklearn.utils.class_weight import compute_class_weight\n",
        "class_weights = compute_class_weight(class_weight = \"balanced\", classes= np.unique(train_labels), y= train_labels)\n",
        "'''import sklearn\n",
        "class_weights = sklearn.utils.class_weight.compute_class_weight('balanced', np.unique(train_labels), train_labels) '''#calculating weight\n",
        "#w_unk = class_weights[0:1] #add the weight of unk label by the weight of the fist label in the array (the label with high freq)\n",
        "#w_unk = 3*class_weights[0:1]\n",
        "w_unk = 100*class_weights[0:1]\n",
        "class_weights_ = np.append(class_weights, w_unk) #now.. len = 12 = 11 + 1 = number_class + <unk> \n",
        "weights= torch.tensor(class_weights_,dtype=torch.float)\n",
        "print(\"Weights of loss function:\", weights)\n",
        "loss_func = nn.NLLLoss(weight=weights)"
      ]
    },
    {
      "cell_type": "code",
      "execution_count": 27,
      "metadata": {
        "id": "kwXXAf3OqvvV"
      },
      "outputs": [],
      "source": [
        "import torch.optim as optim\n",
        "from torch.optim.lr_scheduler import StepLR\n",
        "from sklearn.metrics import f1_score, accuracy_score\n",
        "import matplotlib.pyplot as plt\n",
        "import torch.nn.functional as F\n",
        "\n",
        "def get_data(config, data):\n",
        "  data_loaded = DataLoader(\n",
        "    data,\n",
        "    batch_size=config[\"batch_size\"],\n",
        "    shuffle=True,\n",
        "    drop_last=True)\n",
        "  return data_loaded\n",
        "\n",
        "def get_loss(model, data_loader):\n",
        "    losses = []\n",
        "    model.eval()\n",
        "    with torch.no_grad():\n",
        "        for token_ids, label_ids in data_loader:\n",
        "            token_ids = token_ids.to(device)\n",
        "            label_ids = label_ids.to(device)\n",
        "            y_pred = model(token_ids)\n",
        "            loss = loss_func(y_pred, label_ids)\n",
        "            loss_batch = loss.item()\n",
        "            losses.append(loss_batch)\n",
        "    return np.mean(losses)\n",
        "#loss_func = nn.NLLLoss(weight=weights).to(device) #use for loss_weights\n",
        "loss_func = nn.NLLLoss()\n",
        "def train_model(model, optimizer, scheduler, loss_func, device, num_epochs, dev_loader, val_loader):\n",
        "    dev_loss = []\n",
        "    val_loss = []\n",
        "    for epoch in range(1, num_epochs + 1):\n",
        "        model.train()\n",
        "        losses = []\n",
        "        batch_num = 0\n",
        "        for token_ids, label_ids in dev_loader:\n",
        "            batch_num += 1\n",
        "            token_ids = token_ids.to(device)\n",
        "            label_ids = label_ids.to(device)\n",
        "            optimizer.zero_grad()\n",
        "            y_pred = model(token_ids)\n",
        "            loss = loss_func(y_pred, label_ids)\n",
        "            loss_batch = loss.item()\n",
        "            loss.backward()\n",
        "            optimizer.step()\n",
        "            losses.append(loss_batch)\n",
        "        avg_loss = np.mean(losses[-10:])\n",
        "        print(f'Epoch {epoch}/{num_epochs}, avg. loss: {avg_loss:.4f}, lr: {scheduler.get_last_lr()[0]}')\n",
        "        scheduler.step()\n",
        "\n",
        "        # evaluate the model after each epoch\n",
        "        dev_loss.append(get_loss(model, dev_loader))\n",
        "        val_loss.append(get_loss(model, val_loader))\n",
        "    return dev_loss, val_loss\n",
        "\n",
        "def train_config(config, trainset, valset):\n",
        "    dev_loader = get_data(config, trainset)\n",
        "    val_loader = get_data(config, valset)\n",
        "    num_epochs = config[\"num_epochs\"]\n",
        "    model = DialectIdentification(\n",
        "        vocab_size,\n",
        "        config[\"embedding_size\"],\n",
        "        max_len,\n",
        "        num_classes,\n",
        "        config[\"kernel_size\"],\n",
        "        config[\"out_channels\"],\n",
        "        config[\"stride\"],\n",
        "        config[\"padding\"],\n",
        "        config[\"dropout\"],\n",
        "        config[\"max_pool_size\"],\n",
        "        config[\"cov2_kernel_size\"]\n",
        "    ) \n",
        "    model.to(device)\n",
        "    # training parameters\n",
        "    #loss_func = nn.NLLLoss(weight=weights).to(device)\n",
        "    loss_func = nn.NLLLoss()\n",
        "    lr = config[\"lr\"]\n",
        "    #optimizer = optim.SGD(model.parameters(), lr=lr, momentum=0.9)\n",
        "    optimizer = optim.Adam(model.parameters(), lr=lr)\n",
        "    scheduler = optim.lr_scheduler.StepLR(optimizer, step_size=10, gamma=0.5)\n",
        "    dev_loss, val_loss = train_model(\n",
        "        model,\n",
        "        optimizer, \n",
        "        scheduler,\n",
        "        loss_func,\n",
        "        device,\n",
        "        num_epochs,\n",
        "        dev_loader,\n",
        "        val_loader)\n",
        "\n",
        "    plt.figure()\n",
        "    plt.title(\"Loss\")\n",
        "    plt.plot(list(range(num_epochs)), dev_loss, label=\"train\")\n",
        "    plt.plot(list(range(num_epochs)), val_loss, label=\"validation\")\n",
        "    plt.xlabel(\"Epochs\")\n",
        "    plt.legend()\n",
        "    plt.show()\n",
        "    return model\n"
      ]
    },
    {
      "cell_type": "markdown",
      "metadata": {
        "id": "_NIgzFzIjUzB"
      },
      "source": [
        "## 4. Define the evaluation function"
      ]
    },
    {
      "cell_type": "code",
      "execution_count": 28,
      "metadata": {
        "id": "IGQZ9nBGjUPL"
      },
      "outputs": [],
      "source": [
        "def evaluate_model(config, model, data):\n",
        "    data_loader = get_data (config,data)\n",
        "    predicted = []\n",
        "    gold = []\n",
        "    model.eval()\n",
        "    with torch.no_grad():\n",
        "        for token_ids, label_ids in data_loader:\n",
        "            token_ids = token_ids.to(device)\n",
        "            label_ids = label_ids.to(device)\n",
        "            log_probs = model(token_ids)\n",
        "            y_pred = log_probs.argmax(dim=1)\n",
        "            predicted.extend([i.item() for i in y_pred])\n",
        "            gold.extend(label_ids.cpu().numpy())\n",
        "    accuracy = accuracy_score(gold, predicted)\n",
        "    f1_macro = f1_score(gold, predicted, average='macro')\n",
        "    return accuracy, f1_macro"
      ]
    },
    {
      "cell_type": "markdown",
      "metadata": {
        "id": "jkeDu-ztgQw5"
      },
      "source": [
        "## 5. Train the networks"
      ]
    },
    {
      "cell_type": "code",
      "execution_count": 29,
      "metadata": {
        "colab": {
          "base_uri": "https://localhost:8080/",
          "height": 499
        },
        "id": "6ZGVrQwgB_Yw",
        "outputId": "338ef933-61ca-4152-ce43-481ccb4a83d7"
      },
      "outputs": [
        {
          "output_type": "stream",
          "name": "stdout",
          "text": [
            "Epoch 1/10, avg. loss: 0.3083, lr: 0.001000323475861476\n",
            "Epoch 2/10, avg. loss: 0.1766, lr: 0.001000323475861476\n",
            "Epoch 3/10, avg. loss: 0.2582, lr: 0.001000323475861476\n",
            "Epoch 4/10, avg. loss: 0.2292, lr: 0.001000323475861476\n",
            "Epoch 5/10, avg. loss: 0.1998, lr: 0.001000323475861476\n",
            "Epoch 6/10, avg. loss: 0.2118, lr: 0.001000323475861476\n",
            "Epoch 7/10, avg. loss: 0.1625, lr: 0.001000323475861476\n",
            "Epoch 8/10, avg. loss: 0.1546, lr: 0.001000323475861476\n",
            "Epoch 9/10, avg. loss: 0.1946, lr: 0.001000323475861476\n",
            "Epoch 10/10, avg. loss: 0.2002, lr: 0.001000323475861476\n"
          ]
        },
        {
          "output_type": "display_data",
          "data": {
            "text/plain": [
              "<Figure size 432x288 with 1 Axes>"
            ],
            "image/png": "[encoded data removed]"
          },
          "metadata": {
            "needs_background": "light"
          }
        },
        {
          "output_type": "stream",
          "name": "stdout",
          "text": [
            "Traning (acc, f1):  (0.9561023541032184, 0.9497389623092807)\n",
            "Validating (acc, f1):  (0.8503832547169812, 0.5456346070505829)\n"
          ]
        }
      ],
      "source": [
        "#@tittle: model 1\n",
        "#optimizer: Adam #loss_weights: yes, w_unk = 3*w_ar\n",
        "config1 = {\n",
        "    \"embedding_size\": 512,\n",
        "    \"max_pool_size\": (6, 12),\n",
        "    \"kernel_size\": (3, 3),\n",
        "    \"out_channels\": 16,\n",
        "    \"stride\": (2, 1),\n",
        "    \"padding\": (1, 0),\n",
        "    \"dropout\": 0.2,\n",
        "    \"lr\": 0.001000323475861476,\n",
        "    \"num_epochs\": 10,\n",
        "    \"cov2_kernel_size\": (6, 6),\n",
        "    \"batch_size\": 32}\n",
        "model1 = train_config(config1, trainset, valset)\n",
        "print(\"Traning (acc, f1): \", evaluate_model(config1, model1, trainset))\n",
        "print(\"Validating (acc, f1): \", evaluate_model(config1, model1, valset))"
      ]
    },
    {
      "cell_type": "markdown",
      "metadata": {
        "id": "QFPcHDEmYxwi"
      },
      "source": [
        "## Performance on the Test set\n",
        "``we use it to predict data on test set and observe how well the model performs.``"
      ]
    },
    {
      "cell_type": "code",
      "execution_count": 30,
      "metadata": {
        "id": "V1fjEhbU3zWr",
        "colab": {
          "base_uri": "https://localhost:8080/"
        },
        "outputId": "909cd006-51ce-457f-852f-744c269718a9"
      },
      "outputs": [
        {
          "output_type": "execute_result",
          "data": {
            "text/plain": [
              "DialectIdentification(\n",
              "  (embeddings): Embedding(788197, 512)\n",
              "  (conv2d): Conv2d(1, 16, kernel_size=(3, 3), stride=(2, 1), padding=(1, 0))\n",
              "  (max_pool2d): MaxPool2d(kernel_size=(6, 12), stride=(2, 1), padding=(1, 0), dilation=1, ceil_mode=False)\n",
              "  (conv2d_2): Conv2d(16, 16, kernel_size=(6, 6), stride=(2, 1), padding=(1, 0))\n",
              "  (max_pool2d_2): MaxPool2d(kernel_size=(6, 12), stride=(2, 1), padding=(1, 0), dilation=1, ceil_mode=False)\n",
              "  (linear): Linear(in_features=7728, out_features=12, bias=True)\n",
              ")"
            ]
          },
          "metadata": {},
          "execution_count": 30
        }
      ],
      "source": [
        " #model summary\n",
        "model1 "
      ]
    },
    {
      "cell_type": "code",
      "execution_count": 31,
      "metadata": {
        "id": "pVjGnWQJkW33",
        "colab": {
          "base_uri": "https://localhost:8080/"
        },
        "outputId": "9d558315-3207-4f48-ef2b-461e15d667b2"
      },
      "outputs": [
        {
          "output_type": "stream",
          "name": "stdout",
          "text": [
            "Test (acc, f1):  (0.8512676886792453, 0.5459406849851118)\n"
          ]
        }
      ],
      "source": [
        "#encoded_test_set,_ = encode_dataset(df_test, max_len=max_len)\n",
        "#testset = TweetDataset(encoded_test_set)\n",
        "print(\"Test (acc, f1): \", evaluate_model(config1, model1, valset))"
      ]
    }
  ],
  "metadata": {
    "accelerator": "GPU",
    "colab": {
      "collapsed_sections": [],
      "name": "Vardial2022_CNN_word.ipynb",
      "provenance": []
    },
    "kernelspec": {
      "display_name": "Python 3",
      "name": "python3"
    }
  },
  "nbformat": 4,
  "nbformat_minor": 0
}